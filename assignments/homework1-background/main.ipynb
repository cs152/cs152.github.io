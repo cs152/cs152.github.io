{
 "cells": [
  {
   "cell_type": "markdown",
   "metadata": {},
   "source": [
    "# **Homework 1**: Introduction to Numpy"
   ]
  },
  {
   "cell_type": "markdown",
   "metadata": {},
   "source": [
    "### Collaborators\n",
    "\n",
    "Please list anyone you discussed or collaborated on this assignment with below."
   ]
  },
  {
   "cell_type": "markdown",
   "metadata": {},
   "source": [
    "LIST COLLABORATORS HERE"
   ]
  },
  {
   "cell_type": "markdown",
   "metadata": {},
   "source": [
    "### Course feedback\n",
    "\n",
    "Please submit this week's course survey here: https://forms.gle/sWjpi6vhUW3Qu72d8"
   ]
  },
  {
   "cell_type": "markdown",
   "metadata": {},
   "source": [
    "### Python setup"
   ]
  },
  {
   "cell_type": "code",
   "execution_count": null,
   "metadata": {},
   "outputs": [],
   "source": [
    "# Run me first!\n",
    "import numpy as np\n",
    "import matplotlib.pyplot as plt\n",
    "import seaborn as sns\n",
    "sns.set_style('darkgrid')"
   ]
  },
  {
   "cell_type": "markdown",
   "metadata": {},
   "source": [
    "## **Part 1**: Numpy basics"
   ]
  },
  {
   "cell_type": "markdown",
   "metadata": {},
   "source": [
    "As discussed in class, a square matrix $A$ defines a linear mapping: $\\mathbb{R}^n\\rightarrow \\mathbb{R}^n$. Given a vector $\\textbf{x}$, we can find the corresponding output of this mapping $\\textbf{b}$ using matrix-vector multiplication: $\\textbf{b}=A \\textbf{x}$. We can write an example matrix-multiplication using matrix notation as:\n",
    "\n",
    "$$\\begin{bmatrix}\n",
    "4 & -3 & 2 \\\\\n",
    "6 & 5  & 1 \\\\\n",
    "-4 & -1 & 2\n",
    "\\end{bmatrix} \\cdot \\begin{bmatrix}\n",
    "1 \\\\\n",
    "-2 \\\\\n",
    "1\n",
    "\\end{bmatrix}\n",
    "= \\begin{bmatrix}\n",
    "? \\\\\n",
    "? \\\\\n",
    "?\n",
    "\\end{bmatrix}\n",
    "$$\n",
    "\n",
    "**Q1:** Perform this matrix-vector multiplication by hand and write the answer in the cell below."
   ]
  },
  {
   "cell_type": "markdown",
   "metadata": {},
   "source": [
    "WRITE ANSWER HERE"
   ]
  },
  {
   "cell_type": "markdown",
   "metadata": {},
   "source": [
    "**Q2**: In the code cell below, create the matrix $A$ and the vector $\\textbf{x}$ shown above, using Numpy. Then use the `np.dot` function to find the output of the mapping $\\textbf{b} = A\\textbf{x}$. Verify that the answer matches what you derived above."
   ]
  },
  {
   "cell_type": "code",
   "execution_count": null,
   "metadata": {},
   "outputs": [],
   "source": [
    "# Fill answers here\n",
    "A = \n",
    "x =\n",
    "b =\n",
    "\n",
    "print(b)"
   ]
  },
  {
   "cell_type": "markdown",
   "metadata": {},
   "source": [
    "Often we will have access to the transformed vector $\\textbf{b}$ and need to find the orginal vector $\\textbf{x}$. To do this we need to *solve* the system of linear equations $A\\textbf{x}=\\textbf{b}$ for $\\textbf{x}$. \n",
    "$$\\begin{bmatrix}\n",
    "4 & -3 & 2 \\\\\n",
    "6 & 5  & 1 \\\\\n",
    "-4 & -1 & 2\n",
    "\\end{bmatrix} \\cdot \\begin{bmatrix}\n",
    "? \\\\\n",
    "? \\\\\n",
    "?\n",
    "\\end{bmatrix} = \\begin{bmatrix}\n",
    "2 \\\\\n",
    "-1 \\\\\n",
    "3\n",
    "\\end{bmatrix}\n",
    "$$\n",
    "\n",
    "**Q3**: Find the missing $\\textbf{x}$ in the equation above using the `np.linalg.solve` function and verify that $A\\textbf{x}=\\textbf{b}$."
   ]
  },
  {
   "cell_type": "code",
   "execution_count": null,
   "metadata": {},
   "outputs": [],
   "source": [
    "# Fill answer here (A is the same matrix from above)\n",
    "b = \n",
    "x = \n"
   ]
  },
  {
   "cell_type": "markdown",
   "metadata": {},
   "source": [
    "In linear algebra you may have learned how to solve a system of linear equations using Gaussian elimination. Here we will implement an alternative approach known as *Richardson iteration*. In this method we start with an inital guess for the solution: $\\textbf{x}^{(0)}$, then we will iteratively update this guess until the solution is reached. Given a matrix $A$, a target $\\textbf{b}$ and a current guess $\\textbf{x}^{(k)}$, we can compute the Richardson update as:\n",
    "\n",
    "$$\\textbf{x}^{(k+1)} \\leftarrow \\textbf{x}^{(k)} + \\omega \\left(\\textbf{b} - A\\textbf{x}^{(k)}\\right)$$\n",
    "\n",
    "Here $\\omega$ is a constant that we can choose to adjust the algorithm. We will set $\\omega = 0.1$. \n",
    "\n",
    "**Q4**: Fill in the Richardson iteration function below and apply it to the system of linear equations from above using 100 updates. Verify that if gives a similar answer to `np.linalg.solve`."
   ]
  },
  {
   "cell_type": "code",
   "execution_count": null,
   "metadata": {},
   "outputs": [],
   "source": [
    "# Fill in function below\n",
    "def richardson_iter(x_guess, A, b, omega=0.1):\n",
    "    \n",
    "    return new_x_guess\n",
    "\n",
    "x_guess = np.zeros(3)\n",
    "for i in range(100):\n",
    "    x_guess = richardson_iter(x_guess, A, b)\n",
    "\n",
    "print(x_guess, x)"
   ]
  },
  {
   "cell_type": "markdown",
   "metadata": {},
   "source": [
    "Recall that the length of a vector is given by it's *two-norm*, which is defined as:\n",
    "$$\\|\\mathbf{x}\\|_2 = \\sqrt{\\sum_{i=1}^n x_i^2}.$$\n",
    "\n",
    "\n",
    "Correspondingly, the (Euclidian) distance between two points $\\mathbf{a}, \\mathbf{b} \\in \\mathbb{R}^n$ can be written as $\\|\\mathbf{a} - \\mathbf{b}\\|_2$. As a convenient measure of error for our Richardson iteration algorithm, we will use the *squared Euclidean distance*. For a guess $\\mathbf{x}^{(k)}$ we will compute the error $e^{(k)}$ as:\n",
    "$$e^{(k)} = \\|A\\mathbf{x}^{(k)} - \\mathbf{b}\\|_2^2$$\n",
    "\n",
    "In expanded form, this would be written as:\n",
    "$$e^{(k)} = \\sum_{i=1}^n \\left(\\sum_{j=1}^n A_{ij}x^{(k)}_j - b_i\\right)^2$$\n",
    "\n",
    "**Q5:** Write a function to compute the error of a given guess. Then run Richardson iteration again for 100 steps, computing the error at each step. Finally create a plot of the error for each step (error vs. step). \n",
    "\n",
    "*Hint: recall that basic operations in numpy (addition, subtraction, powers) are performed element-wise.*"
   ]
  },
  {
   "cell_type": "markdown",
   "metadata": {},
   "source": [
    "$$\\mathbf{c} = \\mathbf{A}\\mathbf{x}$$"
   ]
  },
  {
   "cell_type": "markdown",
   "metadata": {},
   "source": [
    "$$||c-b||^2_2$$"
   ]
  },
  {
   "cell_type": "markdown",
   "metadata": {},
   "source": [
    "$$\\sum_{i=1}^N (c_i - b_i)^2$$"
   ]
  },
  {
   "cell_type": "markdown",
   "metadata": {},
   "source": [
    "$$c_i = \\sum_{j=1}^n A_{ij}x_j"
   ]
  },
  {
   "cell_type": "code",
   "execution_count": null,
   "metadata": {},
   "outputs": [],
   "source": [
    "# Fill in function below\n",
    "def error(x_guess, A, b):\n",
    "\n",
    "    return err\n",
    "\n",
    "# Add code to plot the error over time\n",
    "\n",
    "x_guess = np.zeros(3)\n",
    "for step in range(100):\n",
    "\n",
    "    x_guess = richardson_iter(x_guess, A, b)\n",
    "\n",
    "    "
   ]
  },
  {
   "cell_type": "markdown",
   "metadata": {},
   "source": [
    "**Q6:** Derive the partial derivative of the error with respect to a single entry of $\\mathbf{x}^{(k)}$ (without loss of generality, we will say $x^{(k)}_1$). Work in the *expanded form* as in the equation above, writing your answer in the markdown cell below. \n",
    "\n",
    "*Hint: You may find it helpful to refer to the latex equation cheatsheet on the course website. You may show intermediate steps here or as handwritten work as a separate file in the repository. The final answer should be filled in here.*"
   ]
  },
  {
   "cell_type": "markdown",
   "metadata": {},
   "source": [
    "**EDIT THIS CELL WITH YOUR ANSWER**\n",
    "\n",
    "$$\\frac{\\partial e^{(k)}}{\\partial x^{(k)}_1}= $$"
   ]
  },
  {
   "cell_type": "markdown",
   "metadata": {},
   "source": [
    "**YOU MAY ADD WORK HERE**\n"
   ]
  },
  {
   "cell_type": "markdown",
   "metadata": {},
   "source": [
    "In practice, we will likely want to compute the derivative with respect to *all* entries of $\\mathbf{x}$:\n",
    "$$\\frac{\\partial e^{(k)}}{\\partial \\mathbf{x}^{(k)}} = \\begin{bmatrix}\n",
    "\\frac{\\partial e^{(k)}}{\\partial x^{(k)}_1} \\\\\n",
    " \\vdots \\\\\n",
    "\\frac{\\partial e^{(k)}}{\\partial x^{(k)}_n}\n",
    "\\end{bmatrix}$$ \n",
    "\n",
    "**Q7:** Using the formula you just derived, write the formula for the vector of all partial derivatives in the compact matrix/vector notation (e.g. $A\\mathbf{x}=\\mathbf{b}$). "
   ]
  },
  {
   "cell_type": "markdown",
   "metadata": {},
   "source": [
    "**EDIT THIS CELL WITH YOUR ANSWER**\n",
    "\n",
    "$$\\frac{\\partial e^{(k)}}{\\partial \\mathbf{x}^{(k)}}= $$"
   ]
  },
  {
   "cell_type": "markdown",
   "metadata": {},
   "source": [
    "**Q8:** In 1-2 sentences describe how this answer relates to the Richardson iteration algorithm above. *We will discuss this more in class!*"
   ]
  },
  {
   "cell_type": "markdown",
   "metadata": {},
   "source": [
    "WRITE YOUR ANSWER HERE"
   ]
  },
  {
   "cell_type": "markdown",
   "metadata": {},
   "source": [
    "## Part 2: Working with batches of vectors"
   ]
  },
  {
   "cell_type": "markdown",
   "metadata": {},
   "source": [
    "Recall that a vector can also be seen as either an $n \\times 1$ matrix (column vector) or a $1 \\times n$ matrix (row vector).\n",
    "\n",
    "$$\\text{Column vector: } \\mathbf{x} = \\begin{bmatrix}\n",
    "x_1 \\\\\n",
    "x_2 \\\\\n",
    "x_3\n",
    "\\end{bmatrix}, \\quad \\text{Row vector: } \\mathbf{x} = \\begin{bmatrix}\n",
    "x_1 & x_2 & x_3\n",
    "\\end{bmatrix}$$\n",
    "\n",
    "Note that we use the same notation for both as they refer to the same concept (a vector). The difference becomes relevant when we consider matrix-vector multiplication. We can write matrix-vector multiplication in two ways: $$\\text{Matrix-vector: }A\\mathbf{x} = \\mathbf{b}, \\quad \\text{Vector-matrix: }\\mathbf{x}A^T= \\mathbf{b}$$\n",
    "In *matrix-vector multiplication* we treat $\\textbf{x}$ as a column vector ($n \\times 1$ matrix), while in *vector-matrix multiplication* we treat it as a row vector ($n \\times 1$ matrix). Transposing $A$ for left multiplication ensures that the two forms give the same answer.\n",
    "\n",
    "**Q9:** Using the previously defined $\\mathbf{x}$, create an explicit column vector and row vector. Then using the previously defined $A$, verify that the matrix-vector and vector-matrix multiplications shown above do produce the same resultant vector $\\mathbf{b}$. \n",
    "\n",
    "*Hint: Recall that* `np.dot` *is also used for matrix-matrix multiplication.*"
   ]
  },
  {
   "cell_type": "code",
   "execution_count": null,
   "metadata": {},
   "outputs": [],
   "source": [
    "# Fill in code here\n",
    "x_col =\n",
    "x_row = \n"
   ]
  },
  {
   "cell_type": "markdown",
   "metadata": {},
   "source": [
    "Throughout this course we will typically use row vectors and vector-matrix multiplication, as this is more conventional in neural-network literature. The concept of row and column vectors becomes handy when transforming *collections* of vectors. \n",
    "\n",
    "Recall that a matrix can be seen as a collection of vectors. In numpy we can create a matrix from a list of (1- dimensional) vectors using the `np.stack` function. This function assumes that the vectors are row vectors creating the matrix as follows:\n",
    "$$\\begin{bmatrix}\n",
    "3 & 1 & -2\n",
    "\\end{bmatrix},\\ \\begin{bmatrix}\n",
    "4 & 5 & 3\n",
    "\\end{bmatrix},\\ \\begin{bmatrix}\n",
    "-2 & -1 & 5\n",
    "\\end{bmatrix}\\quad \\overset{\\text{np.stack}}{\\longrightarrow} \\begin{bmatrix}\n",
    "3 & 1 & -2 \\\\\n",
    "4 & 5 & 3 \\\\\n",
    "-2 & -1 & 5\n",
    "\\end{bmatrix} $$\n",
    "\n",
    "We will call this matrix $X$ to denote that it is a collection of vectors, rather than a single vector ($\\mathbf{x}$).\n",
    "\n",
    "**Q10:** Create this matrix in numpy using th `np.stack` function."
   ]
  },
  {
   "cell_type": "code",
   "execution_count": null,
   "metadata": {},
   "outputs": [],
   "source": [
    "# Fill code here\n",
    "\n",
    "X = \n",
    "print(X)"
   ]
  },
  {
   "cell_type": "markdown",
   "metadata": {},
   "source": [
    "When taken together as a matrix in this way, we can apply the linear mapping $A$ to all vectors using matrix-matrix multiplication:\n",
    "$$B=XA^T$$\n",
    "\n",
    "Let's put this into practice with a visual example.\n",
    "\n",
    "**Q11:** Create a $20 \\times 3$ matrix, `circle`, in numpy of the following form\n",
    "\n",
    "$$ \\begin{bmatrix} \\sin(\\theta_1) & \\cos(\\theta_1)  & 1 \\\\\n",
    "\\sin(\\theta_2) & \\cos(\\theta_2)  & 1 \\\\\n",
    "\\vdots & \\vdots & \\vdots \\\\\n",
    "\\sin(\\theta_{20}) & \\cos(\\theta_{20})  & 1 \\\\\n",
    " \\end{bmatrix}$$\n",
    " Where $\\theta_1...\\theta_{20}$ are evenly spaced between $0$ and $2\\pi$."
   ]
  },
  {
   "cell_type": "code",
   "execution_count": null,
   "metadata": {},
   "outputs": [],
   "source": [
    "theta = np.linspace(0, 2 * np.pi, 20) # Generates 20 evenly-spaced numbers between 0 and 2π\n",
    "\n",
    "# Fill in your code here\n",
    "circle = \n"
   ]
  },
  {
   "cell_type": "markdown",
   "metadata": {},
   "source": [
    "The code we just wrote creates a matrix corresponding to a collection of $20$ row vectors of length 3. Each vector represents a point on the unit circle where the first entry is the x-coordinate, the second entry is the y-coordinate and the third entry is always $1$:\n",
    "$$ \\begin{bmatrix} x & y & 1 \\end{bmatrix}$$\n",
    "\n",
    "**Q12:** Plot the set of 20 points in `circle` using the `plt.plot` function. *Use only the x and y coordinates, ignoring the column of 1s.*"
   ]
  },
  {
   "cell_type": "code",
   "execution_count": null,
   "metadata": {},
   "outputs": [],
   "source": [
    "plt.figure(figsize=(4, 4))\n",
    "plt.xlim(-3, 3)\n",
    "plt.ylim(-3, 3)\n",
    "\n",
    "# Fill your code here\n"
   ]
  },
  {
   "cell_type": "markdown",
   "metadata": {},
   "source": [
    "**Q13:** Transform all the vectors in `circle` with the matrix $A$ using a single call to `np.dot`. Then plot the original set of points in black and the transformed points in red using the `plt.plot` function.\n",
    "\n",
    "*You might also consider why we added the extra column of 1s! We will discuss the answer to that in class.*"
   ]
  },
  {
   "cell_type": "code",
   "execution_count": null,
   "metadata": {},
   "outputs": [],
   "source": [
    "# Fill your code here\n",
    "transformed_circle = "
   ]
  },
  {
   "cell_type": "code",
   "execution_count": null,
   "metadata": {},
   "outputs": [],
   "source": [
    "plt.figure(figsize=(4, 4))\n",
    "plt.xlim(-3, 3)\n",
    "plt.ylim(-3, 3)\n",
    "\n",
    "# Fill your code here\n"
   ]
  },
  {
   "cell_type": "markdown",
   "metadata": {},
   "source": [
    "## Part 3: Loading and visualizing data\n",
    "\n",
    "For most of this class we will be working with real-world data. A very well-known dataset in statistics is the [*Iris flower dataset*](https://en.wikipedia.org/wiki/Iris_flower_data_set) collected by Edgar Anderson in 1929. The dataset consists of measurments of iris flowers. Each flower has 4 collected measurements: sepal length, sepal width, petal length, petal width, as well as a classification into one of 3 species: *Iris setosa*, *Iris versicolor* and *Iris virginica*. We will return to this dataset in the next homework.\n",
    "\n",
    "We can load this dataset as Numpy objects using the Scikit-Learn library. Below we've extrated 4 relevant arrays: \n",
    "- `features`: a $150 \\times 4$ matrix which has one row per observed flower and one column per measurement. \n",
    "- `targets`: a length $150$ array that specifies the species of each flower as a number 0-2.\n",
    "- `feature_names`: a list of strings with the name of each measurement.\n",
    "- `target_names`: a list of strings with the name of each species.\n",
    "\n",
    "In this homework, we will only visualize this dataset, which is typically a good first step in working with a new type of data. To get a convenient summary of the data we will create what is called a *scatterplot matrix*. This is a grid of plots where each plot contains a scatter plot with different features on the x and y axes. Because there are 4 features (measurements) in this data, we will create a 4-by-4 matrix to plot each pair of features. \n",
    "\n",
    "**Q14:** Fill in the code to create a scatterplot matrix for the Iris dataset below. \n",
    "- Each row of the matrix should use a different feature for the y-axis and each column should use a different feature for the x-axis. The plots on the diagonal where x and y would be the same feature can be ignored.\n",
    "- The x and y axis of each sub-plot should be labeled with the appropriate feature names.\n",
    "- The points in each scatterplot should be colored by the species label of that flower. Include a legend in at least 1 sub-plot.\n",
    "\n",
    "*Hint: The linked [Wikipedia article](https://en.wikipedia.org/wiki/Iris_flower_data_set) shows an example of a scatterplot matrix for this dataset, feel free to use it as reference!*"
   ]
  },
  {
   "cell_type": "code",
   "execution_count": null,
   "metadata": {},
   "outputs": [],
   "source": [
    "import sklearn.datasets as datasets\n",
    "dataset = datasets.load_iris()\n",
    "features = dataset['data']\n",
    "targets = dataset['target']\n",
    "feature_names = dataset['feature_names']\n",
    "target_names = dataset['target_names']\n",
    "\n",
    "# Fill in the code below\n",
    "fig, ax = plt.subplots(4, 4, figsize=(12, 12))\n",
    "for i in range(4):\n",
    "    for j in range(4):\n",
    "        # Skip sub-plots on the diagonal\n",
    "        if i == j: \n",
    "            continue\n",
    "\n",
    "        # Add subplot code here"
   ]
  }
 ],
 "metadata": {
  "kernelspec": {
   "display_name": ".venv",
   "language": "python",
   "name": "python3"
  },
  "language_info": {
   "codemirror_mode": {
    "name": "ipython",
    "version": 3
   },
   "file_extension": ".py",
   "mimetype": "text/x-python",
   "name": "python",
   "nbconvert_exporter": "python",
   "pygments_lexer": "ipython3",
   "version": "3.9.6"
  },
  "orig_nbformat": 4
 },
 "nbformat": 4,
 "nbformat_minor": 2
}
