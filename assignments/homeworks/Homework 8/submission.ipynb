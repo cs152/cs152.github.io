{
 "cells": [
  {
   "cell_type": "markdown",
   "id": "2a1e08ac",
   "metadata": {
    "id": "2a1e08ac"
   },
   "source": [
    "# **Homework 8:** Optimization and Normalization"
   ]
  },
  {
   "cell_type": "markdown",
   "id": "926b4c41",
   "metadata": {},
   "source": [
    "### Name"
   ]
  },
  {
   "cell_type": "markdown",
   "id": "a1ce5a53",
   "metadata": {},
   "source": [
    "YOUR NAME HERE"
   ]
  },
  {
   "cell_type": "markdown",
   "id": "dae3853d",
   "metadata": {},
   "source": [
    "### Collaborators\n",
    "\n",
    "Please list anyone you discussed or collaborated on this assignment with below."
   ]
  },
  {
   "cell_type": "markdown",
   "id": "cf868391",
   "metadata": {},
   "source": [
    "LIST COLLABORATORS HERE"
   ]
  },
  {
   "cell_type": "markdown",
   "id": "26c48004",
   "metadata": {},
   "source": [
    "### Course feedback\n",
    "\n",
    "Please submit this week's course survey here: https://forms.gle/ELjvh2PK7iiAHbaC8"
   ]
  },
  {
   "cell_type": "code",
   "execution_count": 2,
   "id": "bc46fd6c",
   "metadata": {
    "id": "bc46fd6c"
   },
   "outputs": [],
   "source": [
    "# This is the path that the dataset for this homework will be downloaded to.\n",
    "# If you are running on the course server or Colab you can keep this line, if you are\n",
    "# running on a personal computer, you may want to change this location.\n",
    "data_path = '/cs/cs152/data'"
   ]
  },
  {
   "cell_type": "code",
   "execution_count": null,
   "id": "0d464ade",
   "metadata": {},
   "outputs": [],
   "source": [
    "# Uncomment and run if using Colab!\n",
    "\n",
    "#!wget https://cs152.github.io/assignments/homeworks/Homework%208/hw8_support.py\n"
   ]
  },
  {
   "cell_type": "code",
   "execution_count": null,
   "id": "25be7fab",
   "metadata": {},
   "outputs": [],
   "source": [
    "# This is the path that the dataset for this homework will be downloaded to.\n",
    "# If you are running on the course server or Colab you can keep this line, if you are\n",
    "# running on a personal computer, you may want to change this location.\n",
    "from hw8_support import *"
   ]
  },
  {
   "cell_type": "code",
   "execution_count": null,
   "id": "a6bab3f1",
   "metadata": {},
   "outputs": [],
   "source": [
    "# Use the GPUs if they are available\n",
    "device = \"cuda\" if torch.cuda.is_available() else \"cpu\"\n",
    "print(f\"Using '{device}' device.\")\n",
    "\n",
    "# Model hyperparameters\n",
    "neurons_per_hidden_layer = [20] * 2\n",
    "\n",
    "# Mini-Batch SGD hyperparameters\n",
    "batch_size = 256\n",
    "num_epochs = 10\n",
    "learning_rate = 0.001\n",
    "\n",
    "criterion = nn.CrossEntropyLoss()"
   ]
  },
  {
   "cell_type": "code",
   "execution_count": null,
   "id": "35d78186",
   "metadata": {
    "id": "35d78186"
   },
   "outputs": [],
   "source": [
    "# Load the example dataset (Fashion MNIST)\n",
    "train_loader, valid_loader = get_fmnist_data_loaders(data_path, batch_size)\n",
    "\n",
    "print(\"Training dataset shape   :\", train_loader.dataset.data.shape)\n",
    "print(\"Validation dataset shape :\", valid_loader.dataset.data.shape)"
   ]
  },
  {
   "cell_type": "code",
   "execution_count": null,
   "id": "60a58188",
   "metadata": {
    "id": "60a58188"
   },
   "outputs": [],
   "source": [
    "# Let's plot a few images as an example\n",
    "num_to_show = 8\n",
    "images = train_loader.dataset.data[:num_to_show]\n",
    "targets = train_loader.dataset.targets[:num_to_show]\n",
    "labels = [train_loader.dataset.classes[t] for t in targets]\n",
    "fig, axes = plt.subplots(1, num_to_show)\n",
    "\n",
    "for axis, image, label in zip(axes, images, labels):\n",
    "    axis.imshow(image.squeeze(), cmap=\"Greys\")\n",
    "    axis.tick_params(left=False, bottom=False, labelleft=False, labelbottom=False)\n",
    "    axis.set_xticks([])\n",
    "    axis.set_yticks([])\n",
    "    axis.set_title(f\"{label}\")"
   ]
  },
  {
   "cell_type": "code",
   "execution_count": null,
   "id": "17ed9280",
   "metadata": {},
   "outputs": [],
   "source": [
    "# Run the initial model\n",
    "run_model()"
   ]
  },
  {
   "cell_type": "markdown",
   "id": "e31653e5",
   "metadata": {},
   "source": [
    "<div style=\"page-break-after: always; visibility: hidden\">  \\pagebreak  </div>\n",
    "\n",
    "#### **Q1**"
   ]
  },
  {
   "cell_type": "markdown",
   "id": "637ea36f",
   "metadata": {},
   "source": [
    "$$E\\left[L^{(100)}\\right] = \\mathbf{?}$$"
   ]
  },
  {
   "cell_type": "markdown",
   "id": "277c40ba",
   "metadata": {},
   "source": [
    "<div style=\"page-break-after: always; visibility: hidden\">  \\pagebreak  </div>\n",
    "\n",
    "#### **Q2**"
   ]
  },
  {
   "cell_type": "markdown",
   "id": "49e2ddec",
   "metadata": {},
   "source": [
    "$$\\text{Var}\\left[L^{(100)}\\right] = \\mathbf{?}$$"
   ]
  },
  {
   "cell_type": "markdown",
   "id": "16036b1e",
   "metadata": {
    "id": "16036b1e"
   },
   "source": [
    "<div style=\"page-break-after: always; visibility: hidden\">  \\pagebreak  </div>\n",
    "\n",
    "#### **Q3**"
   ]
  },
  {
   "cell_type": "code",
   "execution_count": null,
   "id": "53a3e424",
   "metadata": {
    "id": "53a3e424"
   },
   "outputs": [],
   "source": [
    "class MomentumOptimizer(SGDOptimizer):\n",
    "    # Gradient descent with momentum\n",
    "    def __init__(self, parameters, lr=0.01, mu=0.9):\n",
    "        self.lr = lr\n",
    "        self.mu = mu\n",
    "        self.parameters = list(parameters)\n",
    "        self.velocity = [torch.zeros_like(param) for param in self.parameters]\n",
    "\n",
    "    def step(self):\n",
    "        for ind, parameter in enumerate(self.parameters):\n",
    "            self.velocity[ind] = # YOUR CODE HERE\n",
    "            update = # YOUR CODE HERE\n",
    "            parameter -= update"
   ]
  },
  {
   "cell_type": "markdown",
   "id": "0044797a",
   "metadata": {
    "id": "0044797a"
   },
   "source": [
    "<div style=\"page-break-after: always; visibility: hidden\">  \\pagebreak  </div>\n",
    "\n",
    "#### **Q4**"
   ]
  },
  {
   "cell_type": "markdown",
   "id": "82747e6b",
   "metadata": {
    "id": "82747e6b"
   },
   "source": [
    "YOUR ANSWER HERE"
   ]
  },
  {
   "cell_type": "code",
   "execution_count": null,
   "id": "787d3a64",
   "metadata": {
    "id": "787d3a64"
   },
   "outputs": [],
   "source": [
    "run_model(optimizer=MomentumOptimizer)"
   ]
  },
  {
   "cell_type": "markdown",
   "id": "215f3a9d",
   "metadata": {
    "id": "215f3a9d"
   },
   "source": [
    "<div style=\"page-break-after: always; visibility: hidden\">  \\pagebreak  </div>\n",
    "\n",
    "#### **Q5**"
   ]
  },
  {
   "cell_type": "code",
   "execution_count": null,
   "id": "a31e146b",
   "metadata": {
    "id": "a31e146b"
   },
   "outputs": [],
   "source": [
    "epsilon = 1e-7\n",
    "class RMSPropOptimizer(SGDOptimizer):\n",
    "    # RMSProp Optimizer\n",
    "    def __init__(self, parameters, lr=0.01, beta=0.9):\n",
    "        self.lr = lr\n",
    "        self.beta = beta\n",
    "        self.parameters = list(parameters)\n",
    "        # YOUR CODE HERE\n",
    "\n",
    "    def step(self):\n",
    "        # Take a step of gradient descent\n",
    "        for ind, parameter in enumerate(self.parameters):\n",
    "            # YOUR CODE HERE\n",
    "            update = # YOUR CODE HERE\n",
    "            parameter -= update"
   ]
  },
  {
   "cell_type": "markdown",
   "id": "bffb45a0",
   "metadata": {
    "id": "bffb45a0"
   },
   "source": [
    "<div style=\"page-break-after: always; visibility: hidden\">  \\pagebreak  </div>\n",
    "\n",
    "#### **Q6**"
   ]
  },
  {
   "cell_type": "code",
   "execution_count": null,
   "id": "7f897871",
   "metadata": {
    "id": "7f897871"
   },
   "outputs": [],
   "source": [
    "run_model(optimizer=RMSPropOptimizer)"
   ]
  },
  {
   "cell_type": "markdown",
   "id": "dd62ea39",
   "metadata": {
    "id": "dd62ea39"
   },
   "source": [
    "<div style=\"page-break-after: always; visibility: hidden\">  \\pagebreak  </div>\n",
    "\n",
    "#### **Q7**"
   ]
  },
  {
   "cell_type": "code",
   "execution_count": null,
   "id": "b23a7c5c",
   "metadata": {
    "id": "b23a7c5c"
   },
   "outputs": [],
   "source": [
    "epsilon = 1e-7\n",
    "class AdamOptimizer(SGDOptimizer):\n",
    "    # Adam optimizer\n",
    "    def __init__(self, parameters, lr=0.01, beta1=0.9, beta2=0.99):\n",
    "        self.lr = lr\n",
    "        self.beta1 = beta1\n",
    "        self.beta2 = beta2\n",
    "\n",
    "        self.parameters = list(parameters)\n",
    "        # YOUR CODE HERE\n",
    "\n",
    "    def step(self):\n",
    "        for ind, parameter in enumerate(self.parameters):\n",
    "            # YOUR CODE HERE\n",
    "            update = # YOUR CODE HERE\n",
    "            parameter -= update"
   ]
  },
  {
   "cell_type": "markdown",
   "id": "ef2f4f2f",
   "metadata": {
    "id": "ef2f4f2f"
   },
   "source": [
    "<div style=\"page-break-after: always; visibility: hidden\">  \\pagebreak  </div>\n",
    "\n",
    "#### **Q8**"
   ]
  },
  {
   "cell_type": "code",
   "execution_count": null,
   "id": "db991b96",
   "metadata": {
    "id": "db991b96"
   },
   "outputs": [],
   "source": [
    "run_model(optimizer=AdamOptimizer)"
   ]
  },
  {
   "cell_type": "markdown",
   "id": "72fdf4e8",
   "metadata": {
    "id": "72fdf4e8"
   },
   "source": [
    "<div style=\"page-break-after: always; visibility: hidden\">  \\pagebreak  </div>\n",
    "\n",
    "#### **Q9**"
   ]
  },
  {
   "cell_type": "markdown",
   "id": "86dbd3b5",
   "metadata": {
    "id": "86dbd3b5"
   },
   "source": [
    "YOUR ANSWER HERE"
   ]
  },
  {
   "cell_type": "code",
   "execution_count": null,
   "id": "7fa1733b",
   "metadata": {
    "id": "7fa1733b"
   },
   "outputs": [],
   "source": [
    "run_model(number_of_hidden_layers=20)"
   ]
  },
  {
   "cell_type": "markdown",
   "id": "0914e51a",
   "metadata": {
    "id": "0914e51a"
   },
   "source": [
    "<div style=\"page-break-after: always; visibility: hidden\">  \\pagebreak  </div>\n",
    "\n",
    "#### **Q10**"
   ]
  },
  {
   "cell_type": "code",
   "execution_count": null,
   "id": "32d98cf9",
   "metadata": {
    "id": "32d98cf9"
   },
   "outputs": [],
   "source": [
    "epsilon = 1e-7\n",
    "class LayerNorm(nn.Module):\n",
    "    def __init__(self):\n",
    "        super().__init__()\n",
    "\n",
    "    def forward(self, x):\n",
    "        # YOUR CODE HERE\n",
    "\n",
    "# Replace our Layer class with one that includes layer normalization\n",
    "class LayerNormLayer(nn.Module):\n",
    "    def __init__(self, in_dimensions, out_dimensions):\n",
    "        super().__init__()\n",
    "        self.linear = nn.Linear(in_dimensions, out_dimensions)\n",
    "        self.layer_norm = LayerNorm()\n",
    "        self.activation = nn.ReLU()\n",
    "\n",
    "    def forward(self, x):\n",
    "        x = self.linear(x)\n",
    "        x = self.layer_norm(x)\n",
    "        x = self.activation(x)\n",
    "        return x"
   ]
  },
  {
   "cell_type": "markdown",
   "id": "41f5bada",
   "metadata": {
    "id": "41f5bada"
   },
   "source": [
    "<div style=\"page-break-after: always; visibility: hidden\">  \\pagebreak  </div>\n",
    "\n",
    "#### **Q11**"
   ]
  },
  {
   "cell_type": "markdown",
   "id": "7f28cafa",
   "metadata": {
    "id": "7f28cafa"
   },
   "source": [
    "YOUR ANSWER HERE"
   ]
  },
  {
   "cell_type": "code",
   "execution_count": null,
   "id": "d8c79d66",
   "metadata": {
    "id": "d8c79d66"
   },
   "outputs": [],
   "source": [
    "run_model(number_of_hidden_layers=20, layer_type=LayerNormLayer)"
   ]
  },
  {
   "cell_type": "markdown",
   "id": "6a274f03",
   "metadata": {
    "id": "6a274f03"
   },
   "source": [
    "<div style=\"page-break-after: always; visibility: hidden\">  \\pagebreak  </div>\n",
    "\n",
    "#### **Q12**"
   ]
  },
  {
   "cell_type": "code",
   "execution_count": null,
   "id": "b218d5b8",
   "metadata": {
    "id": "b218d5b8"
   },
   "outputs": [],
   "source": [
    "epsilon = 1e-7\n",
    "class BatchNorm(nn.Module):\n",
    "    def __init__(self, dimensions, beta=0.9):\n",
    "        super().__init__()\n",
    "        self.beta=beta\n",
    "        self.running_mean = torch.zeros((1, dimensions))\n",
    "        self.running_var = torch.ones((1, dimensions))\n",
    "\n",
    "    def forward(self, x):\n",
    "        # Needed for GPU compatibility\n",
    "        self.running_mean = self.running_mean.to(x.device)\n",
    "        self.running_var = self.running_var.to(x.device)\n",
    "\n",
    "        if self.training:\n",
    "            # YOUR CODE HERE\n",
    "        else:\n",
    "            # YOUR CODE HERE\n",
    "\n",
    "class BatchNormLayer(nn.Module):\n",
    "    def __init__(self, in_dimensions, out_dimensions):\n",
    "        super().__init__()\n",
    "        self.linear = nn.Linear(in_dimensions, out_dimensions)\n",
    "        self.layer_norm = BatchNorm(out_dimensions)\n",
    "        self.activation = nn.ReLU()\n",
    "\n",
    "    def forward(self, x):\n",
    "        x = self.linear(x)\n",
    "        x = self.layer_norm(x)\n",
    "        x = self.activation(x)\n",
    "        return x"
   ]
  },
  {
   "cell_type": "markdown",
   "id": "e639bfd6",
   "metadata": {
    "id": "e639bfd6"
   },
   "source": [
    "<div style=\"page-break-after: always; visibility: hidden\">  \\pagebreak  </div>\n",
    "\n",
    "#### **Q13**"
   ]
  },
  {
   "cell_type": "markdown",
   "id": "46d842e6",
   "metadata": {
    "id": "46d842e6"
   },
   "source": [
    "YOUR ANSWER HERE"
   ]
  },
  {
   "cell_type": "code",
   "execution_count": null,
   "id": "24026519",
   "metadata": {
    "id": "24026519"
   },
   "outputs": [],
   "source": [
    "run_model(number_of_hidden_layers=20, layer_type=BatchNormLayer)"
   ]
  },
  {
   "cell_type": "markdown",
   "id": "37d47454",
   "metadata": {
    "id": "37d47454"
   },
   "source": [
    "<div style=\"page-break-after: always; visibility: hidden\">  \\pagebreak  </div>\n",
    "\n",
    "#### **Q14**"
   ]
  },
  {
   "cell_type": "code",
   "execution_count": null,
   "id": "971d52b5",
   "metadata": {
    "id": "971d52b5"
   },
   "outputs": [],
   "source": [
    "class ResidualLayer(nn.Module):\n",
    "    def __init__(self, dimensions, *args):\n",
    "        super().__init__()\n",
    "        self.linear = nn.Linear(dimensions, dimensions)\n",
    "        self.activation = nn.ReLU()\n",
    "\n",
    "    def forward(self, x):\n",
    "        # YOUR CODE HERE"
   ]
  },
  {
   "cell_type": "markdown",
   "id": "6f630e98",
   "metadata": {
    "id": "6f630e98"
   },
   "source": [
    "<div style=\"page-break-after: always; visibility: hidden\">  \\pagebreak  </div>\n",
    "\n",
    "#### **Q15**"
   ]
  },
  {
   "cell_type": "code",
   "execution_count": null,
   "id": "e15782ab",
   "metadata": {
    "id": "e15782ab"
   },
   "outputs": [],
   "source": [
    "run_model(number_of_hidden_layers=20, layer_type=ResidualLayer)"
   ]
  },
  {
   "cell_type": "markdown",
   "id": "bb22f4eb",
   "metadata": {},
   "source": [
    "YOUR ANSWER HERE"
   ]
  }
 ],
 "metadata": {
  "colab": {
   "provenance": []
  },
  "jupytext": {
   "encoding": "# -*- coding: utf-8 -*-",
   "formats": "ipynb,py:percent"
  },
  "kernelspec": {
   "display_name": ".venv",
   "language": "python",
   "name": "python3"
  },
  "language_info": {
   "codemirror_mode": {
    "name": "ipython",
    "version": 3
   },
   "file_extension": ".py",
   "mimetype": "text/x-python",
   "name": "python",
   "nbconvert_exporter": "python",
   "pygments_lexer": "ipython3",
   "version": "3.12.6"
  },
  "toc": {
   "base_numbering": 1,
   "nav_menu": {},
   "number_sections": true,
   "sideBar": true,
   "skip_h1_title": true,
   "title_cell": "Table of Contents",
   "title_sidebar": "Contents",
   "toc_cell": true,
   "toc_position": {},
   "toc_section_display": true,
   "toc_window_display": false
  }
 },
 "nbformat": 4,
 "nbformat_minor": 5
}
