{
 "cells": [
  {
   "cell_type": "markdown",
   "metadata": {
    "id": "lRUN_ZZtPMxd"
   },
   "source": [
    "# **Homework 3:** Logistic regression and classification"
   ]
  },
  {
   "cell_type": "markdown",
   "metadata": {},
   "source": [
    "### Name"
   ]
  },
  {
   "cell_type": "markdown",
   "metadata": {},
   "source": [
    "YOUR NAME HERE"
   ]
  },
  {
   "cell_type": "markdown",
   "metadata": {
    "id": "L5neuxSzPMxf"
   },
   "source": [
    "### Collaborators\n",
    "\n",
    "Please list anyone you discussed or collaborated on this assignment with below."
   ]
  },
  {
   "cell_type": "markdown",
   "metadata": {
    "id": "M_TUWXgcPMxg"
   },
   "source": [
    "LIST COLLABORATORS HERE"
   ]
  },
  {
   "cell_type": "markdown",
   "metadata": {
    "id": "8pPxN3eyPMxg"
   },
   "source": [
    "### Course feedback\n",
    "\n",
    "Please submit this week's course survey here: https://forms.gle/ELjvh2PK7iiAHbaC8"
   ]
  },
  {
   "cell_type": "markdown",
   "metadata": {},
   "source": [
    "### Convert to PDF\n",
    "\n",
    "Please convert this notebook to PDF for submission to Gradescope using this tool: https://blank-app-ufu2uvdeosc.streamlit.app/"
   ]
  },
  {
   "cell_type": "code",
   "execution_count": 12,
   "metadata": {
    "id": "XvCGbbpVPPcQ"
   },
   "outputs": [],
   "source": [
    "# Uncomment and run if using Colab!\n",
    "\n",
    "#!wget https://cs152.github.io/assignments/homeworks/Homework%203/hw3_support.py"
   ]
  },
  {
   "cell_type": "code",
   "execution_count": 2,
   "metadata": {
    "id": "ZwE-WRQbPMxh"
   },
   "outputs": [],
   "source": [
    "# Run me first!\n",
    "import autograd.numpy as np\n",
    "import matplotlib.pyplot as plt\n",
    "from sklearn.datasets import make_blobs\n",
    "from hw3_support import MultinomialLogisticRegression, linear_function, sigmoid, LogisticRegression, get_dataset, gradient_descent, test_nll, test_nll_grad, test_predict, plot_boundary, test_softmax, test_split,test_predict_probability, test_nll_gradient_c\n"
   ]
  },
  {
   "cell_type": "markdown",
   "metadata": {
    "id": "kkxUjf-fPMxm"
   },
   "source": [
    "<div style=\"page-break-after: always; visibility: hidden\">  \\pagebreak  </div>\n",
    "\n",
    "#### **Q1**"
   ]
  },
  {
   "cell_type": "code",
   "execution_count": null,
   "metadata": {
    "id": "DwLG6QviPMxm"
   },
   "outputs": [],
   "source": [
    "def split_data(X, y):\n",
    "    ## YOUR CODE HERE\n",
    "\n",
    "    return Xtrain, ytrain, Xtest, ytest\n",
    "\n",
    "# Test the function\n",
    "Xtrain, ytrain, Xtest, ytest = split_data(X, y)\n",
    "test_split(X, y, Xtrain, ytrain, Xtest, ytest)"
   ]
  },
  {
   "cell_type": "markdown",
   "metadata": {
    "id": "tgpKex11PMxn"
   },
   "source": [
    "<div style=\"page-break-after: always; visibility: hidden\">  \\pagebreak  </div>\n",
    "\n",
    "#### **Q2**"
   ]
  },
  {
   "cell_type": "code",
   "execution_count": null,
   "metadata": {
    "id": "LhY0IfVsPMxn"
   },
   "outputs": [],
   "source": [
    "## YOUR CODE HERE\n",
    "\n",
    "\n",
    "\n",
    "print('Training accuracy: %.3f, loss: %.3f' % (train_acc, train_loss))\n",
    "print('Test accuracy: %.3f, loss: %.3f' % (test_acc, test_loss))"
   ]
  },
  {
   "cell_type": "markdown",
   "metadata": {
    "id": "7KoefRwtGCSy"
   },
   "source": [
    "<div style=\"page-break-after: always; visibility: hidden\">  \\pagebreak  </div>\n",
    "\n",
    "#### **Q3**"
   ]
  },
  {
   "cell_type": "markdown",
   "metadata": {
    "id": "dUHvmAK6HoI8"
   },
   "source": [
    "\n",
    "YOUR ANSWER HERE\n",
    "\n",
    "$$\\nabla_{\\mathbf{w}} \\textbf{ExpLoss}(\\mathbf{W}, \\mathbf{X}, \\mathbf{y}) = $$"
   ]
  },
  {
   "cell_type": "markdown",
   "metadata": {
    "id": "1X31GaDAHptT"
   },
   "source": [
    "<div style=\"page-break-after: always; visibility: hidden\">  \\pagebreak  </div>\n",
    "\n",
    "#### **Q4**"
   ]
  },
  {
   "cell_type": "code",
   "execution_count": null,
   "metadata": {
    "id": "5YCkwtfmGNzD"
   },
   "outputs": [],
   "source": [
    "class ExponentialRegression(LogisticRegression):\n",
    "  def nll(self, X, y):\n",
    "        xw = linear_function(X, self.weights)\n",
    "        return np.sum(np.exp(-(2 * y - 1) * xw))\n",
    "\n",
    "  def nll_gradient(self, X, y):\n",
    "      # YOUR CODE HERE\n"
   ]
  },
  {
   "cell_type": "markdown",
   "metadata": {
    "id": "i-vShsW3IQSs"
   },
   "source": [
    "<div style=\"page-break-after: always; visibility: hidden\">  \\pagebreak  </div>\n",
    "\n",
    "#### **Q5**"
   ]
  },
  {
   "cell_type": "code",
   "execution_count": null,
   "metadata": {
    "id": "ddXnpn-tH1rv"
   },
   "outputs": [],
   "source": [
    "## YOUR CODE HERE\n",
    "\n",
    "\n",
    "\n",
    "print('Training accuracy: %.3f, loss: %.3f' % (train_acc, train_loss))\n",
    "print('Test accuracy: %.3f, loss: %.3f' % (test_acc, test_loss))\n",
    "plot_boundary(model, X, y)"
   ]
  },
  {
   "cell_type": "markdown",
   "metadata": {},
   "source": [
    "What differences (if any) do you notice between this and the log-likelihood loss?"
   ]
  },
  {
   "cell_type": "markdown",
   "metadata": {},
   "source": [
    "YOUR ANSWER HERE"
   ]
  },
  {
   "cell_type": "markdown",
   "metadata": {
    "id": "El30aVzKImAN"
   },
   "source": [
    "<div style=\"page-break-after: always; visibility: hidden\">  \\pagebreak  </div>\n",
    "\n",
    "#### **Q6**"
   ]
  },
  {
   "cell_type": "markdown",
   "metadata": {
    "id": "M3YDk5vSKY8A"
   },
   "source": [
    "YOUR ANSWER HERE"
   ]
  },
  {
   "cell_type": "markdown",
   "metadata": {
    "id": "3H8IEma_PMxp"
   },
   "source": [
    "<div style=\"page-break-after: always; visibility: hidden\">  \\pagebreak  </div>\n",
    "\n",
    "#### **Q7**"
   ]
  },
  {
   "cell_type": "code",
   "execution_count": null,
   "metadata": {
    "id": "3JeFP2RoPMxp"
   },
   "outputs": [],
   "source": [
    "def multiclass_predict(self, X):\n",
    "    W = self.weights\n",
    "\n",
    "    ## YOUR CODE HERE\n",
    "    pred =\n",
    "\n",
    "    return pred\n",
    "\n",
    "## Test the function\n",
    "test_predict(multiclass_predict)\n",
    "\n",
    "## Add it to our class\n",
    "MultinomialLogisticRegression.predict = multiclass_predict"
   ]
  },
  {
   "cell_type": "markdown",
   "metadata": {
    "id": "EvpeR12OPMxq"
   },
   "source": [
    "<div style=\"page-break-after: always; visibility: hidden\">  \\pagebreak  </div>\n",
    "\n",
    "#### **Q8**"
   ]
  },
  {
   "cell_type": "code",
   "execution_count": null,
   "metadata": {
    "id": "ZXiOe79dPMxq"
   },
   "outputs": [],
   "source": [
    "def softmax(x):\n",
    "    ## YOUR CODE HERE\n",
    "\n",
    "def multiclass_predict_probability(self, X):\n",
    "    ## YOUR CODE HERE\n",
    "\n",
    "\n",
    "test_softmax(softmax)\n",
    "test_predict_probability(multiclass_predict_probability)\n",
    "MultinomialLogisticRegression.predict_probability = multiclass_predict_probability"
   ]
  },
  {
   "cell_type": "markdown",
   "metadata": {
    "id": "slBYEj6vPMxq"
   },
   "source": [
    "<div style=\"page-break-after: always; visibility: hidden\">  \\pagebreak  </div>\n",
    "\n",
    "#### **Q9**"
   ]
  },
  {
   "cell_type": "code",
   "execution_count": null,
   "metadata": {
    "id": "I5RKr7wCPMxq"
   },
   "outputs": [],
   "source": [
    "def nll(self, X, y):\n",
    "    W = self.weights\n",
    "    ## YOUR CODE HERE\n",
    "\n",
    "    return nll\n",
    "\n",
    "test_nll(nll)\n",
    "MultinomialLogisticRegression.nll = nll"
   ]
  },
  {
   "cell_type": "markdown",
   "metadata": {
    "id": "8BhLUB3yPMxq"
   },
   "source": [
    "<div style=\"page-break-after: always; visibility: hidden\">  \\pagebreak  </div>\n",
    "\n",
    "#### **Q10**"
   ]
  },
  {
   "cell_type": "markdown",
   "metadata": {
    "id": "ZdnuyUsCPMxr"
   },
   "source": [
    "YOUR ANSWER HERE\n",
    "\n",
    "$$\\nabla_{\\mathbf{w}_c} \\textbf{NLL}(\\mathbf{W}, \\mathbf{X}, \\mathbf{y}) = $$"
   ]
  },
  {
   "cell_type": "markdown",
   "metadata": {
    "id": "fJKRErNVPMxr"
   },
   "source": [
    "<div style=\"page-break-after: always; visibility: hidden\">  \\pagebreak  </div>\n",
    "\n",
    "#### **Q11**"
   ]
  },
  {
   "cell_type": "code",
   "execution_count": null,
   "metadata": {
    "id": "ZgW6PRpjPMxr"
   },
   "outputs": [],
   "source": [
    "def nll_gradient_c(W, X, y, c):\n",
    "    ## YOUR CODE HERE\n",
    "\n",
    "    return grad\n",
    "\n",
    "test_nll_gradient_c(nll_gradient_c)"
   ]
  },
  {
   "cell_type": "markdown",
   "metadata": {
    "id": "YeRT4vOoPMxr"
   },
   "source": [
    "<div style=\"page-break-after: always; visibility: hidden\">  \\pagebreak  </div>\n",
    "\n",
    "#### **Q12**"
   ]
  },
  {
   "cell_type": "code",
   "execution_count": null,
   "metadata": {
    "id": "ZD0kzkBBPMxr"
   },
   "outputs": [],
   "source": [
    "def nll_gradient(self, X, y):\n",
    "    ## YOUR CODE HERE\n",
    "    W = self.weights\n",
    "\n",
    "    return grad\n",
    "\n",
    "test_nll_grad(nll_gradient)\n",
    "MultinomialLogisticRegression.nll_gradient = nll_gradient"
   ]
  },
  {
   "cell_type": "markdown",
   "metadata": {
    "id": "HVK2vaT7PMxs"
   },
   "source": [
    "Note if you are struggling with this problem, you can uncomment the following cell to get a valid gradient function based on your nll function. You can use this for testing to to complete the remaining questions."
   ]
  },
  {
   "cell_type": "code",
   "execution_count": null,
   "metadata": {
    "id": "NDhr7ztfPMxs"
   },
   "outputs": [],
   "source": [
    "'''\n",
    "def autograd_nll_gradient(self, X, y):\n",
    "    import autograd\n",
    "    def autograd_nll(W):\n",
    "        temp_model = MultinomialLogisticRegression(self.classes, X.shape[1])\n",
    "        temp_model.weights = W\n",
    "        return temp_model.nll(X, y)\n",
    "    return autograd.grad(autograd_nll)(self.weights)\n",
    "MultinomialLogisticRegression.nll_gradient = autograd_nll_gradient\n",
    "'''"
   ]
  },
  {
   "cell_type": "code",
   "execution_count": null,
   "metadata": {
    "id": "BIaQq1JZPMxs"
   },
   "outputs": [],
   "source": [
    "images, labels, label_names = get_dataset('mnist')\n",
    "\n",
    "image_shape = images[0].shape                # Keep track of the original image shape\n",
    "X = images.reshape((images.shape[0], -1))    # Reshape into an N x d matrix X\n",
    "y = labels\n",
    "print('Image shape: ', images.shape, ', X shape: ', X.shape)\n",
    "\n",
    "# Create the initial model\n",
    "model = MultinomialLogisticRegression(classes=len(label_names), dims=X.shape[1])"
   ]
  },
  {
   "cell_type": "markdown",
   "metadata": {
    "id": "oX3KgGNuPMxs"
   },
   "source": [
    "<div style=\"page-break-after: always; visibility: hidden\">  \\pagebreak  </div>\n",
    "\n",
    "#### **Q13**"
   ]
  },
  {
   "cell_type": "code",
   "execution_count": null,
   "metadata": {
    "id": "ss8FbM7kPMxs"
   },
   "outputs": [],
   "source": [
    "Xtrain, ytrain, Xtest, ytest = split_data(X, y)\n",
    "\n",
    "model = ## YOUR CODE HERE\n",
    "\n",
    "## Note that we need to pass \"image_shape\" here to reshape our data to a vector\n",
    "losses = gradient_descent(model, Xtrain, ytrain, lr=1e-4, steps=2500, image_shape=image_shape, watch=False)\n",
    "\n",
    "## YOUR CODE HERE\n",
    "\n",
    "print('Training accuracy: %.3f, loss: %.3f' % (train_acc, train_loss))\n",
    "print('Test accuracy: %.3f, loss: %.3f' % (test_acc, test_loss))"
   ]
  },
  {
   "cell_type": "markdown",
   "metadata": {},
   "source": [
    "Here we'll show an image and the corresponding prediction made by the model."
   ]
  },
  {
   "cell_type": "code",
   "execution_count": null,
   "metadata": {},
   "outputs": [],
   "source": [
    "prediction = model.predict(X)\n",
    "probabilities = model.predict_probability(X)\n",
    "\n",
    "# Get the probability of the prediction [p(y=1) if prediction is 1 otherwise p(y=0)]\n",
    "probability_of_prediction = probabilities[np.arange(probabilities.shape[0]), prediction]\n",
    "\n",
    "# Show an image and the corresponding prediction\n",
    "plt.imshow(X[0].reshape(image_shape), cmap='gray')\n",
    "print('Prediction: %s, probability: %.3f' % (label_names[prediction[0]], probability_of_prediction[0]))"
   ]
  },
  {
   "cell_type": "markdown",
   "metadata": {
    "id": "N-IuT9vrPMxs"
   },
   "source": [
    "<div style=\"page-break-after: always; visibility: hidden\">  \\pagebreak  </div>\n",
    "\n",
    "#### **Q14**"
   ]
  },
  {
   "cell_type": "code",
   "execution_count": null,
   "metadata": {
    "id": "B6T5RIouPMxs"
   },
   "outputs": [],
   "source": [
    "## YOUR CODE HERE"
   ]
  }
 ],
 "metadata": {
  "colab": {
   "provenance": []
  },
  "kernelspec": {
   "display_name": ".venv",
   "language": "python",
   "name": "python3"
  },
  "language_info": {
   "codemirror_mode": {
    "name": "ipython",
    "version": 3
   },
   "file_extension": ".py",
   "mimetype": "text/x-python",
   "name": "python",
   "nbconvert_exporter": "python",
   "pygments_lexer": "ipython3",
   "version": "3.12.6"
  },
  "orig_nbformat": 4
 },
 "nbformat": 4,
 "nbformat_minor": 0
}
