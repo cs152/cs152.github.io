{
 "cells": [
  {
   "cell_type": "markdown",
   "metadata": {
    "id": "dEMNf-U0jzTB"
   },
   "source": [
    "# **Homework 2:** Linear regression and maximum likelihood"
   ]
  },
  {
   "cell_type": "markdown",
   "metadata": {},
   "source": [
    "### Name"
   ]
  },
  {
   "cell_type": "markdown",
   "metadata": {},
   "source": [
    "YOUR NAME HERE"
   ]
  },
  {
   "cell_type": "markdown",
   "metadata": {},
   "source": [
    "### Collaborators\n",
    "\n",
    "Please list anyone you discussed or collaborated on this assignment with below."
   ]
  },
  {
   "cell_type": "markdown",
   "metadata": {},
   "source": [
    "LIST COLLABORATORS HERE"
   ]
  },
  {
   "cell_type": "markdown",
   "metadata": {},
   "source": [
    "### Course feedback\n",
    "\n",
    "Please submit this week's course survey here: https://forms.gle/ELjvh2PK7iiAHbaC8"
   ]
  },
  {
   "cell_type": "markdown",
   "metadata": {},
   "source": [
    "### Convert to PDF\n",
    "\n",
    "Please convert this notebook to PDF for submission to Gradescope using this tool: https://blank-app-ufu2uvdeosc.streamlit.app/"
   ]
  },
  {
   "cell_type": "code",
   "execution_count": null,
   "metadata": {
    "id": "aVoiwam8jzTF"
   },
   "outputs": [],
   "source": [
    "# Run me first!\n",
    "import numpy as np\n",
    "import matplotlib.pyplot as plt\n",
    "import seaborn as sns\n",
    "sns.set_style('darkgrid')"
   ]
  },
  {
   "cell_type": "markdown",
   "metadata": {
    "id": "inv8Yg90jzTG"
   },
   "source": [
    "<div style=\"page-break-after: always; visibility: hidden\">  \\pagebreak  </div>\n",
    "\n",
    "#### **Q1** "
   ]
  },
  {
   "cell_type": "code",
   "execution_count": null,
   "metadata": {
    "id": "yEdzIx6MjzTG"
   },
   "outputs": [],
   "source": [
    "# Test inputs\n",
    "x = np.array([1, -3, 5])\n",
    "w = np.array([-1, 2, 0.5, 2])\n",
    "y = -2.5\n",
    "\n",
    "def linear_regression(x, w):\n",
    "    ### YOUR CODE HERE\n",
    "    pass\n",
    "\n",
    "## Validate the function\n",
    "assert y == linear_regression(x, w)"
   ]
  },
  {
   "cell_type": "markdown",
   "metadata": {
    "id": "deOPaOG9jzTH"
   },
   "source": [
    "<div style=\"page-break-after: always; visibility: hidden\">  \\pagebreak  </div>\n",
    "\n",
    "#### **Q2** "
   ]
  },
  {
   "cell_type": "code",
   "execution_count": null,
   "metadata": {
    "id": "0UmsLx9FjzTI"
   },
   "outputs": [],
   "source": [
    "# Test inputs\n",
    "w = np.array([0.5, 2])\n",
    "\n",
    "def linear_regression(x, w):\n",
    "    ### YOUR CODE HERE\n",
    "    pass\n",
    "\n",
    "## CODE TO PLOT THE FUNCTION HERE\n",
    "X =\n",
    "y = linear_regression(X, w)\n",
    "\n"
   ]
  },
  {
   "cell_type": "markdown",
   "metadata": {
    "id": "S-egBogWjzTJ"
   },
   "source": [
    "<div style=\"page-break-after: always; visibility: hidden\">  \\pagebreak  </div>\n",
    "\n",
    "#### **Q3** "
   ]
  },
  {
   "cell_type": "code",
   "execution_count": null,
   "metadata": {
    "id": "KQ-_ASyPjzTJ"
   },
   "outputs": [],
   "source": [
    "def mse_and_grad(w, X, y):\n",
    "    ### YOUR CODE HERE\n",
    "    return mse, grad_w"
   ]
  },
  {
   "cell_type": "markdown",
   "metadata": {
    "id": "t82c3nO5jzTK"
   },
   "source": [
    "<div style=\"page-break-after: always; visibility: hidden\">  \\pagebreak  </div>\n",
    "\n",
    "#### **Q4** "
   ]
  },
  {
   "cell_type": "code",
   "execution_count": null,
   "metadata": {
    "id": "XiH-0z82jzTK"
   },
   "outputs": [],
   "source": [
    "def gradient_descent(value_and_grad, w0, lr, niter, *args):\n",
    "    # Get the inital loss\n",
    "    initial_loss, _ = value_and_grad(w0, *args)\n",
    "    losses = []\n",
    "\n",
    "    ### YOUR CODE HERE\n",
    "\n",
    "    return w, losses"
   ]
  },
  {
   "cell_type": "code",
   "execution_count": null,
   "metadata": {
    "id": "l89OoiH6jzTK"
   },
   "outputs": [],
   "source": [
    "data = np.genfromtxt('auto-mpg.csv', delimiter=',', missing_values=['?'], filling_values=[0])\n",
    "# Uncomment if on Colab!\n",
    "# import urllib.request\n",
    "# link = 'https://gist.githubusercontent.com/gabehope/4df286bbd9a672ce7731d52afe3ca07e/raw/65026711d71affaafb9713ddf5b6ef29125ba0fb/auto.csv'\n",
    "# data = np.genfromtxt(urllib.request.urlopen(link), delimiter=',', missing_values=['?'], filling_values=[0])\n",
    "\n",
    "# MPG is the output value\n",
    "target = 'MPG'\n",
    "y = data[:, 0]\n",
    "\n",
    "# The other variables are inputs in the order listed\n",
    "features = ['displacement', 'weight', 'acceleration', 'year']\n",
    "X = data[:, [2, 4, 5, 6]]\n",
    "X = (X - X.mean(axis=0)) / X.std(axis=0)"
   ]
  },
  {
   "cell_type": "markdown",
   "metadata": {
    "id": "Dzpl3_OBjzTL"
   },
   "source": [
    "<div style=\"page-break-after: always; visibility: hidden\">  \\pagebreak  </div>\n",
    "\n",
    "#### **Q5** "
   ]
  },
  {
   "cell_type": "code",
   "execution_count": null,
   "metadata": {
    "id": "GWa7xe9bjzTL"
   },
   "outputs": [],
   "source": [
    "Xweight = X[:, 1:2]\n",
    "w0 = np.zeros((2,))\n",
    "\n",
    "### YOUR CODE HERE\n",
    "w, losses =\n",
    "\n",
    "### PLOTTING CODE HERE\n",
    "plt.figure(figsize=(6, 4))"
   ]
  },
  {
   "cell_type": "markdown",
   "metadata": {
    "id": "OdY9aUWQjzTL"
   },
   "source": [
    "<div style=\"page-break-after: always; visibility: hidden\">  \\pagebreak  </div>\n",
    "\n",
    "#### **Q6** "
   ]
  },
  {
   "cell_type": "code",
   "execution_count": null,
   "metadata": {
    "id": "V7NYR_nNjzTL"
   },
   "outputs": [],
   "source": [
    "### PLOTTING CODE HERE\n",
    "plt.figure(figsize=(6, 4))"
   ]
  },
  {
   "cell_type": "markdown",
   "metadata": {
    "id": "ZDbmJindjzTL"
   },
   "source": [
    "<div style=\"page-break-after: always; visibility: hidden\">  \\pagebreak  </div>\n",
    "\n",
    "#### **Q7** "
   ]
  },
  {
   "cell_type": "code",
   "execution_count": null,
   "metadata": {
    "id": "o31j1gzHjzTL"
   },
   "outputs": [],
   "source": [
    "w0 = np.zeros((5,))\n",
    "\n",
    "### YOUR CODE HERE\n",
    "w, losses =\n",
    "\n",
    "### PLOTTING CODE HERE\n",
    "plt.figure(figsize=(6, 4))"
   ]
  },
  {
   "cell_type": "markdown",
   "metadata": {
    "id": "T_DkQm8_jzTL"
   },
   "source": [
    "**DESCRIBE RESULTS HERE**"
   ]
  },
  {
   "cell_type": "markdown",
   "metadata": {
    "id": "UUIHvixWjzTM"
   },
   "source": [
    "<div style=\"page-break-after: always; visibility: hidden\">  \\pagebreak  </div>\n",
    "\n",
    "#### **Q8** "
   ]
  },
  {
   "cell_type": "code",
   "execution_count": null,
   "metadata": {
    "id": "B6lPatA3jzTM"
   },
   "outputs": [],
   "source": [
    "### CODE TO SPLIT DATASET HERE\n",
    "Xweight_train =\n",
    "y_train =\n",
    "\n",
    "Xweight_test =\n",
    "y_test =\n",
    "\n",
    "### CODE TO FIT MODEL HERE\n",
    "w0 = np.zeros((2,))\n",
    "w, losses =\n",
    "\n",
    "### CODE TO EVALUATE MODEL HERE\n",
    "mse_train =\n",
    "mse_test =\n",
    "\n",
    "print('Loss on training data: %.4f, loss on test data: %.4f' % (mse_train, mse_test))"
   ]
  },
  {
   "cell_type": "markdown",
   "metadata": {
    "id": "fPEUzEFNjzTM"
   },
   "source": [
    "<div style=\"page-break-after: always; visibility: hidden\">  \\pagebreak  </div>\n",
    "\n",
    "#### **Q9** "
   ]
  },
  {
   "cell_type": "code",
   "execution_count": null,
   "metadata": {
    "id": "5MStDXVxjzTM"
   },
   "outputs": [],
   "source": [
    "### CODE TO SPLIT DATASET HERE\n",
    "X_train =\n",
    "y_train =\n",
    "\n",
    "X_test =\n",
    "y_test =\n",
    "\n",
    "### CODE TO FIT MODEL HERE\n",
    "w0 = np.zeros((5,))\n",
    "w, losses =\n",
    "\n",
    "### CODE TO EVALUATE MODEL HERE\n",
    "mse_train =\n",
    "mse_test =\n",
    "\n",
    "print('Loss on training data: %.4f, loss on test data: %.4f' % (mse_train, mse_test))"
   ]
  },
  {
   "cell_type": "markdown",
   "metadata": {
    "id": "ggaAW-eRjzTM"
   },
   "source": [
    "**DESCRIBE RESULTS HERE**"
   ]
  },
  {
   "cell_type": "markdown",
   "metadata": {
    "id": "zl3OFfkCjzTN"
   },
   "source": [
    "<div style=\"page-break-after: always; visibility: hidden\">  \\pagebreak  </div>\n",
    "\n",
    "#### **Q10** "
   ]
  },
  {
   "cell_type": "markdown",
   "metadata": {
    "id": "HZja7gMfjzTN"
   },
   "source": [
    "**YOUR ANSWER HERE**\n",
    "$$\\mathbf{NLL}(\\mathbf{w}, a, \\mathbf{X}, \\mathbf{y}) = $$"
   ]
  },
  {
   "cell_type": "markdown",
   "metadata": {
    "id": "P_e8Bv3QjzTO"
   },
   "source": [
    "<div style=\"page-break-after: always; visibility: hidden\">  \\pagebreak  </div>\n",
    "\n",
    "#### **Q11**"
   ]
  },
  {
   "cell_type": "markdown",
   "metadata": {
    "id": "Z7oEmPYvjzTO"
   },
   "source": [
    "**YOUR ANSWER HERE**\n",
    "$$\\nabla_{\\mathbf{w}}\\mathbf{NLL}(\\mathbf{w}, b, \\mathbf{X}, \\mathbf{y}) = $$"
   ]
  },
  {
   "cell_type": "markdown",
   "metadata": {
    "id": "THwzEy20jzTO"
   },
   "source": [
    "<div style=\"page-break-after: always; visibility: hidden\">  \\pagebreak  </div>\n",
    "\n",
    "#### **Q12** "
   ]
  },
  {
   "cell_type": "code",
   "execution_count": null,
   "metadata": {
    "id": "0Lc3dxt7jzTO"
   },
   "outputs": [],
   "source": [
    "def nll_and_grad(w, X, y):\n",
    "    N = X.shape[0]\n",
    "    ### YOUR CODE HERE\n",
    "\n",
    "\n",
    "    return nll / N, grad_w / N"
   ]
  },
  {
   "cell_type": "markdown",
   "metadata": {
    "id": "VmtlrdSLjzTO"
   },
   "source": [
    "<div style=\"page-break-after: always; visibility: hidden\">  \\pagebreak  </div>\n",
    "\n",
    "#### **Q13**"
   ]
  },
  {
   "cell_type": "code",
   "execution_count": null,
   "metadata": {
    "id": "wWOkTKBAjzTP"
   },
   "outputs": [],
   "source": [
    "Xweight = X[:, 1:2]\n",
    "w0 = np.zeros((2,))\n",
    "\n",
    "### YOUR CODE HERE\n",
    "w_laplace, losses_laplace =\n",
    "\n",
    "### PLOTTING CODE HERE\n",
    "plt.figure(figsize=(6, 4))"
   ]
  },
  {
   "cell_type": "markdown",
   "metadata": {
    "id": "dgsUe_RWjzTP"
   },
   "source": [
    "<div style=\"page-break-after: always; visibility: hidden\">  \\pagebreak  </div>\n",
    "\n",
    "#### **Q14**"
   ]
  },
  {
   "cell_type": "code",
   "execution_count": null,
   "metadata": {
    "id": "ZtolJ1PkjzTP"
   },
   "outputs": [],
   "source": [
    "### CODE FROM Q5 HERE\n",
    "w_mse, losses_mse =\n",
    "\n",
    "### PLOTTING CODE HERE\n",
    "plt.figure(figsize=(6, 4))"
   ]
  },
  {
   "cell_type": "markdown",
   "metadata": {
    "id": "ZJ3vguUOjzTP"
   },
   "source": [
    "**WRITTEN ANSWER HERE**"
   ]
  },
  {
   "cell_type": "markdown",
   "metadata": {
    "id": "sod9yRpfjzTP"
   },
   "source": [
    "<div style=\"page-break-after: always; visibility: hidden\">  \\pagebreak  </div>\n",
    "\n",
    "#### **Q15**"
   ]
  },
  {
   "cell_type": "code",
   "execution_count": null,
   "metadata": {
    "id": "QvKHYGXUjzTQ"
   },
   "outputs": [],
   "source": [
    "# Example of deconstructing and reconstructing the parameter vector.\n",
    "w1, b = w\n",
    "wi = np.array([w1, b])\n",
    "\n",
    "### PLOTTING CODE FOR NLL HERE\n",
    "plt.figure(figsize=(6, 4))"
   ]
  },
  {
   "cell_type": "code",
   "execution_count": null,
   "metadata": {
    "id": "TQ6-PXZIjzTQ"
   },
   "outputs": [],
   "source": [
    "### PLOTTING CODE FOR MSE HERE\n",
    "plt.figure(figsize=(6, 4))"
   ]
  },
  {
   "cell_type": "markdown",
   "metadata": {
    "id": "xqyIVZi7jzTQ"
   },
   "source": [
    "In the cells below, copy your code for **Q5** and **Q13**. Try out different learning rates and and numbers of iterations. Observe what happens to the loss plot in each case."
   ]
  },
  {
   "cell_type": "code",
   "execution_count": null,
   "metadata": {
    "id": "UsT5w7XGjzTQ"
   },
   "outputs": [],
   "source": [
    "### COPY Q5 CODE HERE"
   ]
  },
  {
   "cell_type": "code",
   "execution_count": null,
   "metadata": {
    "id": "S1CEwJeijzTQ"
   },
   "outputs": [],
   "source": [
    "### COPY Q13 CODE HERE"
   ]
  },
  {
   "cell_type": "markdown",
   "metadata": {
    "id": "xVclMjzijzTR"
   },
   "source": [
    "**YOUR ANSWER HERE**"
   ]
  }
 ],
 "metadata": {
  "colab": {
   "provenance": []
  },
  "kernelspec": {
   "display_name": ".venv",
   "language": "python",
   "name": "python3"
  },
  "language_info": {
   "codemirror_mode": {
    "name": "ipython",
    "version": 3
   },
   "file_extension": ".py",
   "mimetype": "text/x-python",
   "name": "python",
   "nbconvert_exporter": "python",
   "pygments_lexer": "ipython3",
   "version": "3.9.6"
  },
  "orig_nbformat": 4
 },
 "nbformat": 4,
 "nbformat_minor": 0
}
