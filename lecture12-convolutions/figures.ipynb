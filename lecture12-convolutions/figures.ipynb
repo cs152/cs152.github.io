{
 "cells": [
  {
   "cell_type": "code",
   "execution_count": 6,
   "metadata": {},
   "outputs": [],
   "source": [
    "import warnings\n",
    "warnings.filterwarnings(\"ignore\")\n",
    "import os\n",
    "import contextlib\n",
    "with open(os.devnull, \"w\") as f, contextlib.redirect_stdout(f):\n",
    "    from manim import *\n",
    "import autograd.numpy as np\n",
    "\n",
    "\n",
    "class LectureScene(Scene):\n",
    "    def __init__(self, *args, **kwargs):\n",
    "        super().__init__(*args, **kwargs)\n",
    "        self.camera.background_color = \"#ffffff\"\n",
    "        self.template = TexTemplate()\n",
    "        self.template.add_to_preamble(r\"\\usepackage{amsmath}\")\n",
    "\n",
    "class ThreeDLectureScene(ThreeDScene):\n",
    "    def __init__(self, *args, **kwargs):\n",
    "        super().__init__(*args, **kwargs)\n",
    "        self.camera.background_color = \"#ffffff\"\n",
    "        self.template = TexTemplate()\n",
    "        self.template.add_to_preamble(r\"\\usepackage{amsmath}\")\n",
    "    \n",
    "\n",
    "class VectorScene(LectureScene):\n",
    "    def __init__(self, *args, **kwargs):\n",
    "        super().__init__(*args, **kwargs)\n",
    "        self.ax = Axes(\n",
    "            x_range=[-7.5, 7.5, 1],\n",
    "            y_range=[-5, 5, 1],\n",
    "            x_length=12,\n",
    "            y_length=8,\n",
    "            axis_config={\"color\": GREY},\n",
    "        )\n",
    "        \n",
    "        #axes_labels.set_color(GREY)\n",
    "        self.add(self.ax)\n",
    "\n",
    "class PositiveVectorScene(LectureScene):\n",
    "    def __init__(self, *args, **kwargs):\n",
    "        super().__init__(*args, **kwargs)\n",
    "        self.ax = Axes(\n",
    "            x_range=[-2.5, 12.5, 1],\n",
    "            y_range=[-1, 9, 1],\n",
    "            x_length=12,\n",
    "            y_length=8,\n",
    "            axis_config={\"color\": GREY},\n",
    "        )\n",
    "                #axes_labels.set_color(GREY)\n",
    "        self.add(self.ax)\n",
    "\n",
    "class ComparisonVectorScene(LectureScene):\n",
    "    def __init__(self, *args, **kwargs):\n",
    "        super().__init__(*args, **kwargs)\n",
    "        self.ax1 = Axes(\n",
    "            x_range=[-5, 5, 1],\n",
    "            y_range=[-5, 5, 1],\n",
    "            x_length=6,\n",
    "            y_length=6,\n",
    "            axis_config={\"color\": GREY},\n",
    "        )\n",
    "        self.ax2 = Axes(\n",
    "            x_range=[-5, 5, 1],\n",
    "            y_range=[-5, 5, 1],\n",
    "            x_length=6,\n",
    "            y_length=6,\n",
    "            axis_config={\"color\": GREY},\n",
    "        )\n",
    "        axgroup = Group(self.ax1, self.ax2)\n",
    "        axgroup.arrange_in_grid(buf=2)\n",
    "        \n",
    "        #axes_labels.set_color(GREY)\n",
    "        self.add(axgroup)\n",
    "from manim_ml.neural_network import NeuralNetwork, Convolutional2DLayer, MaxPooling2DLayer"
   ]
  },
  {
   "cell_type": "code",
   "execution_count": 7,
   "metadata": {},
   "outputs": [
    {
     "data": {
      "text/plain": [
       "str"
      ]
     },
     "execution_count": 7,
     "metadata": {},
     "output_type": "execute_result"
    }
   ],
   "source": [
    "type(BLACK)"
   ]
  },
  {
   "cell_type": "code",
   "execution_count": 231,
   "metadata": {},
   "outputs": [
    {
     "name": "stderr",
     "output_type": "stream",
     "text": [
      "                                                                                                              \r"
     ]
    },
    {
     "data": {
      "text/html": [
       "<video src=\"media/jupyter/Conv@2023-11-11@17-39-05.mp4\" controls autoplay loop style=\"max-width: 60%;\"  >\n",
       "      Your browser does not support the <code>video</code> element.\n",
       "    </video>"
      ],
      "text/plain": [
       "<IPython.core.display.Video object>"
      ]
     },
     "metadata": {},
     "output_type": "display_data"
    }
   ],
   "source": [
    "%%manim -pql -v WARNING Conv\n",
    "def make_sequence(numbers, sl=0.5, colors=BLACK, fills=WHITE, text_colors=None, opacity=1.,  annot=True, stride=1, padding=0):\n",
    "    n = len(numbers)\n",
    "    squares = []\n",
    "\n",
    "    if type(colors) is str:\n",
    "        colors = [colors] * n\n",
    "    if text_colors is None:\n",
    "        text_colors = colors\n",
    "    elif type(text_colors) is str:\n",
    "        text_colors = [text_colors] * n\n",
    "    if type(fills) is str:\n",
    "        fills = [fills] * n\n",
    "\n",
    "    for i in range(n):\n",
    "        pos = i * stride * sl * RIGHT\n",
    "        square = Square(color=colors[i], fill_color=fills[i], side_length=sl,  fill_opacity=opacity).move_to(pos)\n",
    "        if annot:\n",
    "            text = Text(str(numbers[i]), color=text_colors[i]).scale(sl).move_to(pos)\n",
    "            squares.append(VGroup(square, text))\n",
    "        else:\n",
    "            squares.append(VGroup(square))\n",
    "    \n",
    "    if padding > 0:\n",
    "        pads = []\n",
    "        for i in range(padding):\n",
    "            pos = (n + i) * sl * RIGHT\n",
    "            pads.append(Text('0', color=GRAY).scale(sl).move_to(pos))\n",
    "            pos = (-(i + 1)) * sl * RIGHT\n",
    "            pads.append(Text('0', color=GRAY).scale(sl).move_to(pos))\n",
    "        return VGroup(*squares), VGroup(*pads)\n",
    "\n",
    "    return VGroup(*squares)\n",
    "\n",
    "def make_stack(numbers, sl=0.5, colors=BLACK, fills=WHITE, text_colors=None, opacity=1., annot=True, stride=1):\n",
    "    n = len(numbers)\n",
    "\n",
    "    if type(colors) is str:\n",
    "        colors = [colors] * n\n",
    "    if text_colors is None:\n",
    "        text_colors = colors\n",
    "    elif type(text_colors) is str:\n",
    "        text_colors = [text_colors] * n\n",
    "    if type(fills) is str:\n",
    "        fills = [fills] * n\n",
    "\n",
    "    seqs = []\n",
    "    for i in range(n):\n",
    "        seqs.append(make_sequence(numbers[i], sl, colors[i], fills[i], text_colors[i], opacity, annot, stride).shift(i * sl * DOWN))\n",
    "    return VGroup(*seqs)\n",
    "\n",
    "class Conv(LectureScene):\n",
    "    def construct(self):\n",
    "        self.add(Text('Input', color=GRAY, opacity=0.5, font='Noto Sans').scale(0.6).move_to(5 * LEFT + -2 * UP))\n",
    "        self.add(Text('Kernel', color=RED, opacity=0.5, font='Noto Sans').scale(0.6).move_to(5 * LEFT + -1 * UP))\n",
    "        self.add(Text('Output', color=GRAY, opacity=0.5, font='Noto Sans').scale(0.6).move_to(5 * LEFT))\n",
    "        self.add(Text('Convolution (kernel size: 3)', color=BLACK,  font='Noto Sans SemiBold').scale(0.8).move_to(3.5 * UP))\n",
    "\n",
    "\n",
    "        kernelarr = [-1, 3, -1]\n",
    "        kw = len(kernelarr) // 2\n",
    "        kernel = make_sequence(kernelarr, annot=True, opacity=0.2, fills=RED, colors=RED).move_to(-1 * UP)\n",
    "        seqarr = np.random.randint(-9, 9, (15,))\n",
    "\n",
    "        sequence = make_sequence(seqarr, annot=True).move_to(-2 * UP)\n",
    "        outputarr = [sum([seqarr[s - kw + i] * k for i, k in enumerate(kernelarr)]) for s in range(kw, len(seqarr) - kw)]\n",
    "\n",
    "        output = make_sequence(outputarr, annot=True, text_colors=WHITE).move_to(0 * UP)\n",
    "\n",
    "        output_window = make_sequence([1], annot=False, opacity=.2, fills=RED, colors=RED).move_to(0 * UP)\n",
    "        kernel_window = make_sequence([1, 1, 1], annot=False, fills=RED, opacity=0.2, colors=RED).move_to(-2 * UP)\n",
    "\n",
    "        lines = []\n",
    "        for s in [-0.5, 0., 0.5]:\n",
    "            l = Line(-1.75 * UP, -1.25 * UP, color=RED).shift(s * RIGHT)\n",
    "            lab = MathTex(r'\\times', color=RED).scale(0.5).next_to(l, 0.5 * LEFT) \n",
    "            l2 = CubicBezier(-.75 * UP + s * RIGHT, -.5 * UP + s * RIGHT, -.5 * UP, -.25 * UP, color=RED)\n",
    "            lines += [l, lab, l2]\n",
    "        lines.append(MathTex(r'+', color=RED).scale(0.5).next_to(l2, 1.5 * LEFT).shift(0.1 * UP))\n",
    "        lines.append(kernel_window)\n",
    "        kernel_window = VGroup(*lines)\n",
    "\n",
    "        highlight = VGroup(output_window, kernel_window, kernel)\n",
    "        highlight.shift(0.5 * 6 * LEFT)\n",
    "        eq = Text(f'Output[{0 :2}]=({seqarr[0] :2})({kernelarr[0] :2})+({seqarr[1] :2})({kernelarr[1] :2})+({seqarr[2] :2})({kernelarr[2] :2})={outputarr[0] :3}', color=BLACK, font_size=36, font='Roboto Mono').shift(2 * UP)\n",
    "        self.add(sequence, output, highlight, eq)\n",
    "\n",
    "                \n",
    "        output[0][1].set_color(BLACK)\n",
    "        for i in range(12):\n",
    "            neweq = Text(f'Output[{i+1 :2}]=({seqarr[0 + i] :2})({kernelarr[0] :2})+({seqarr[1 + i] :2})({kernelarr[1] :2})+({seqarr[2 + i] :2})({kernelarr[2] :2})={outputarr[1 + i] :3}', color=BLACK, font_size=36, font='Roboto Mono').shift(2 * UP)\n",
    "            self.play(highlight.animate.shift(RIGHT * 0.5), output[i + 1][1].animate.set_color(BLACK), FadeIn(neweq), FadeOut(eq))\n",
    "            eq = neweq\n",
    "        self.wait(2)\n"
   ]
  },
  {
   "cell_type": "code",
   "execution_count": 258,
   "metadata": {},
   "outputs": [
    {
     "name": "stderr",
     "output_type": "stream",
     "text": [
      "                                                                                                              \r"
     ]
    },
    {
     "data": {
      "text/html": [
       "<video src=\"media/jupyter/Conv@2023-11-11@18-22-04.mp4\" controls autoplay loop style=\"max-width: 60%;\"  >\n",
       "      Your browser does not support the <code>video</code> element.\n",
       "    </video>"
      ],
      "text/plain": [
       "<IPython.core.display.Video object>"
      ]
     },
     "metadata": {},
     "output_type": "display_data"
    }
   ],
   "source": [
    "%%manim -pql -v WARNING Conv\n",
    "\n",
    "class Conv(LectureScene):\n",
    "    def construct(self):\n",
    "        self.add(Text('Input', color=GRAY, opacity=0.5, font='Noto Sans').scale(0.6).move_to(5 * LEFT + -2 * UP))\n",
    "        self.add(Text('Kernel', color=RED, opacity=0.5, font='Noto Sans').scale(0.6).move_to(5 * LEFT + -1 * UP))\n",
    "        output_label = Text('Output', color=GRAY, opacity=0.5, font='Noto Sans').scale(0.6).move_to(5 * LEFT)\n",
    "        self.add(output_label)\n",
    "        #self.add(Text('Convolution (kernel size: 3)', color=BLACK,  font='Noto Sans SemiBold').scale(0.8).move_to(3.5 * UP))\n",
    "\n",
    "\n",
    "        kernelarr = [-1, 3, -1]\n",
    "        kw = len(kernelarr) // 2\n",
    "        kernel = make_sequence(kernelarr, annot=True, opacity=0.2, fills=RED, colors=RED).move_to(-1 * UP)\n",
    "        seqarr = np.random.randint(-9, 9, (15,))\n",
    "\n",
    "        sequence = make_sequence(seqarr, annot=True).move_to(-2 * UP)\n",
    "        outputarr = [sum([seqarr[s - kw + i] * k for i, k in enumerate(kernelarr)]) for s in range(kw, len(seqarr) - kw)]\n",
    "\n",
    "        output = make_sequence(outputarr, annot=True, text_colors=WHITE).move_to(0 * UP)\n",
    "\n",
    "        output_window = make_sequence([1], annot=False, opacity=.2, fills=RED, colors=RED).move_to(0 * UP)\n",
    "        kernel_window = make_sequence([1, 1, 1], annot=False, fills=RED, opacity=0.2, colors=RED).move_to(-2 * UP)\n",
    "\n",
    "        lines = []\n",
    "        for s in [-0.5, 0., 0.5]:\n",
    "            l = Line(-1.75 * UP, -1.25 * UP, color=RED).shift(s * RIGHT)\n",
    "            lab = MathTex(r'\\times', color=RED).scale(0.5).next_to(l, 0.5 * LEFT) \n",
    "            l2 = CubicBezier(-.75 * UP + s * RIGHT, -.5 * UP + s * RIGHT, -.5 * UP, -.25 * UP, color=RED)\n",
    "            lines += [l, lab, l2]\n",
    "        lines.append(MathTex(r'+', color=RED).scale(0.5).next_to(l2, 1.5 * LEFT).shift(0.1 * UP))\n",
    "        lines.append(kernel_window)\n",
    "        kernel_window = VGroup(*lines)\n",
    "\n",
    "        highlight = VGroup(output_window, kernel_window, kernel)\n",
    "        highlight.shift(0.5 * 6 * LEFT)\n",
    "        eq = Text(f'Output[{0 :2}]=({seqarr[0] :2})({kernelarr[0] :2})+({seqarr[1] :2})({kernelarr[1] :2})+({seqarr[2] :2})({kernelarr[2] :2})={outputarr[0] :3}', color=BLACK, font_size=36, font='Roboto Mono').shift(2 * UP)\n",
    "        self.add(sequence, output, highlight, eq)\n",
    "\n",
    "                \n",
    "        output[0][1].set_color(BLACK)\n",
    "        for i in range(12):\n",
    "            neweq = Text(f'Output[{i+1 :2}]=({seqarr[0 + i] :2})({kernelarr[0] :2})+({seqarr[1 + i] :2})({kernelarr[1] :2})+({seqarr[2 + i] :2})({kernelarr[2] :2})={outputarr[1 + i] :3}', color=BLACK, font_size=36, font='Roboto Mono').shift(2 * UP)\n",
    "            self.play(highlight.animate.shift(RIGHT * 0.5), output[i + 1][1].animate.set_color(BLACK), FadeIn(neweq), FadeOut(eq), )\n",
    "            eq = neweq\n",
    "\n",
    "        kernel_window = VGroup(*lines)\n",
    "        self.wait(1)\n",
    "        self.play(FadeOut(kernel_window), FadeOut(output_window), run_time=0.25)\n",
    "        self.play(kernel.animate.shift(RIGHT * 2), output.animate.shift(1.5 * UP), output_label.animate.shift(1.5 * UP), run_time=0.5, )\n",
    "\n",
    "\n",
    "\n",
    "        kernelarr = [0, 0, 0]\n",
    "        kw = len(kernelarr) // 2\n",
    "        kernel = make_sequence(kernelarr, annot=True, opacity=0.2, fills=GREEN, colors=GREEN).move_to(-1 * UP)\n",
    "\n",
    "        kernel_window = make_sequence([1, 1, 1], annot=False, fills=GREEN, opacity=0.2, colors=GREEN).move_to(-2 * UP)\n",
    "\n",
    "        lines = []\n",
    "        for s in [-0.5, 0., 0.5]:\n",
    "            l = Line(-1.75 * UP, -1.25 * UP, color=GREEN).shift(s * RIGHT)\n",
    "            lab = MathTex(r'+', color=GREEN).scale(0.5).next_to(l, 0.5 * LEFT) \n",
    "            lines += [l, lab]\n",
    "        lines.append(kernel_window)\n",
    "        kernel_window = VGroup(*lines)\n",
    "        highlight = VGroup(kernel_window, kernel)\n",
    "        highlight.shift(0.5 * 6 * LEFT)\n",
    "        self.add(sequence, output, highlight)\n",
    "\n",
    "        for i in range(12):\n",
    "            kernelarr[0] += seqarr[0 + i]\n",
    "            kernelarr[1] += seqarr[1 + i]\n",
    "            kernelarr[2] += seqarr[2 + i]\n",
    "            \n",
    "            new0 = Text(str(kernelarr[0]), color=GREEN).move_to(kernel[0][1].get_center()).scale(0.5)\n",
    "            new1 = Text(str(kernelarr[1]), color=GREEN).move_to(kernel[1][1].get_center()).scale(0.5)\n",
    "            new2 = Text(str(kernelarr[2]), color=GREEN).move_to(kernel[2][1].get_center()).scale(0.5)\n",
    "            self.play(kernel[0][1].animate.become(new0), kernel[1][1].animate.become(new1), kernel[2][1].animate.become(new2), run_time=0.1)\n",
    "            self.play(highlight.animate.shift(RIGHT * 0.5), output[i + 1][1].animate.set_color(BLACK), run_time=0.5)\n",
    "        self.wait(2)\n",
    "\n"
   ]
  },
  {
   "cell_type": "code",
   "execution_count": 315,
   "metadata": {},
   "outputs": [
    {
     "name": "stderr",
     "output_type": "stream",
     "text": [
      "                                                                                                             \r"
     ]
    },
    {
     "data": {
      "text/html": [
       "<video src=\"media/jupyter/Conv@2023-11-12@21-17-17.mp4\" controls autoplay loop style=\"max-width: 60%;\"  >\n",
       "      Your browser does not support the <code>video</code> element.\n",
       "    </video>"
      ],
      "text/plain": [
       "<IPython.core.display.Video object>"
      ]
     },
     "metadata": {},
     "output_type": "display_data"
    }
   ],
   "source": [
    "%%manim -pql -v WARNING Conv\n",
    "\n",
    "from copy import deepcopy\n",
    "colors = [GOLD, RED, PURPLE]\n",
    "class Conv(LectureScene):\n",
    "    def construct(self):\n",
    "        self.add(Text('Input', color=GRAY, opacity=0.5, font='Noto Sans').scale(0.6).move_to(5 * LEFT + -2 * UP))\n",
    "        self.add(Text('Kernel', color=RED, opacity=0.5, font='Noto Sans').scale(0.6).move_to(5 * LEFT + -1 * UP))\n",
    "        output_label = Text('Output', color=GRAY, opacity=0.5, font='Noto Sans').scale(0.6).move_to(5 * LEFT)\n",
    "        self.add(output_label)\n",
    "        self.add(Text('Convolution (kernel size: 3)', color=BLACK,  font='Noto Sans SemiBold').scale(0.8).move_to(3.5 * UP))\n",
    "\n",
    "\n",
    "        kernelarr = [-1, 3, -1]\n",
    "        kw = len(kernelarr) // 2\n",
    "        kernel = make_sequence(kernelarr, annot=True, opacity=1., colors=GRAY_E, fills=colors).move_to(-1 * UP)\n",
    "        kernel.z_index=10\n",
    "        seqarr = np.random.randint(-9, 9, (15,))\n",
    "\n",
    "        sequence = make_sequence(seqarr, annot=True).move_to(-2 * UP)\n",
    "        outputarr = [sum([seqarr[s - kw + i] * k for i, k in enumerate(kernelarr)]) for s in range(kw, len(seqarr) - kw)]\n",
    "\n",
    "        output = make_sequence(outputarr, annot=True, text_colors=WHITE).move_to(0 * UP)\n",
    "\n",
    "        output_window = make_sequence([1], annot=False, opacity=.2, fills=GRAY_E, colors=GRAY_E).move_to(0 * UP)\n",
    "        kernel_window = make_sequence([1, 1, 1], annot=False, fills=colors, opacity=0.2, colors=GRAY_E, ).move_to(-2 * UP)\n",
    "\n",
    "        lines = []\n",
    "        static_lines = []\n",
    "        for s, c in zip([-0.5, 0., 0.5], colors):\n",
    "            l = Line(-1.75 * UP, -1.25 * UP, color=c).shift(s * RIGHT)\n",
    "            lab = MathTex(r'\\times', color=c).scale(0.5).next_to(l, 0.5 * LEFT) \n",
    "            l2 = CubicBezier(-.75 * UP + s * RIGHT, -.5 * UP + s * RIGHT, -.5 * UP, -.25 * UP, color=c)\n",
    "            lines += [l, lab, l2]\n",
    "\n",
    "            l = Line(-1.75 * UP + s * RIGHT, -.25 * UP, color=c)#.shift()\n",
    "            l2 = CubicBezier(-.75 * UP + s * RIGHT, -.5 * UP + s * RIGHT, -.5 * UP, -.25 * UP, color=c)\n",
    "            static_lines += [l2]\n",
    "\n",
    "        lines.append(MathTex(r'+', color=RED).scale(0.5).next_to(l2, 1.5 * LEFT).shift(0.1 * UP))\n",
    "        lines.append(kernel_window)\n",
    "        static_lines = VGroup(*static_lines)\n",
    "        \n",
    "\n",
    "        kernel_window = VGroup(*lines)\n",
    "\n",
    "        highlight = VGroup(output_window, kernel_window, kernel)\n",
    "        highlight.shift(0.5 * 6 * LEFT)\n",
    "        eq = Text(f'Output[{0 :2}]=({seqarr[0] :2})({kernelarr[0] :2})+({seqarr[1] :2})({kernelarr[1] :2})+({seqarr[2] :2})({kernelarr[2] :2})={outputarr[0] :3}', color=BLACK, font_size=36, font='Roboto Mono').shift(2 * UP)\n",
    "        self.add(sequence, output, highlight)\n",
    "\n",
    "                \n",
    "        output[0][1].set_color(BLACK)\n",
    "        for i in range(12):\n",
    "            neweq = Text(f'Output[{i+1 :2}]=({seqarr[0 + i] :2})({kernelarr[0] :2})+({seqarr[1 + i] :2})({kernelarr[1] :2})+({seqarr[2 + i] :2})({kernelarr[2] :2})={outputarr[1 + i] :3}', color=BLACK, font_size=36, font='Roboto Mono').shift(2 * UP)\n",
    "            sl = deepcopy(static_lines).move_to(highlight)\n",
    "            sl.z_index = -100\n",
    "            self.play(highlight.animate.shift(RIGHT * 0.5), output[i + 1][1].animate.set_color(BLACK), FadeIn(sl) )\n",
    "            eq = neweq\n",
    "\n",
    "        return\n",
    "\n",
    "        kernel_window = VGroup(*lines)\n",
    "        self.wait(1)\n",
    "        self.play(FadeOut(kernel_window), FadeOut(output_window), run_time=0.25)\n",
    "        self.play(kernel.animate.shift(0.5 * RIGHT), output.animate.shift(.5 * UP), output_label.animate.shift(.5 * UP), sequence.animate.shift(.5 * DOWN), run_time=0.5, )\n",
    "\n",
    "\n",
    "        seqarr = np.random.randint(-9, 9, (15,))\n",
    "\n",
    "        sequence = make_sequence(seqarr, annot=True, text_colors=WHITE).move_to(-2 * UP)\n",
    "        outputarr = np.random.randint(-9, 9, (13,))\n",
    "\n",
    "        output = make_sequence(outputarr, annot=True).move_to(0 * UP)\n",
    "\n",
    "        self.play(FadeIn(output), FadeIn(sequence), kernel.animate.set_color(GREEN))\n",
    "        self.play(Rotate(kernel, 180 * DEGREES))\n",
    "\n",
    "        output_window = make_sequence([1], annot=False, opacity=.2, fills=RED, colors=RED).move_to(0 * UP)\n",
    "        kernel_window = make_sequence([1, 1, 1], annot=False, fills=RED, opacity=0.2, colors=RED).move_to(-2 * UP)\n",
    "\n",
    "        output_window = make_sequence([1], annot=False, opacity=.2, fills=GREEN, colors=GREEN).move_to(-2 * UP)\n",
    "        kernel_window = make_sequence([1, 1, 1], annot=False, fills=GREEN, opacity=0.2, colors=GREEN).move_to(0 * UP)\n",
    "\n",
    "        lines = []\n",
    "        for s in [-0.5, 0., 0.5]:\n",
    "            l = Line(-.75 * UP, -.25 * UP, color=GREEN).shift(s * RIGHT)\n",
    "            lab = MathTex(r'\\times', color=GREEN).scale(0.5).next_to(l, 0.5 * LEFT) \n",
    "            l2 = CubicBezier(-1.75 * UP, -1.5 * UP, -1.5 * UP + s * RIGHT, -1.25 * UP + s * RIGHT, color=GREEN)\n",
    "            lines += [l, lab, l2]\n",
    "        lines.append(MathTex(r'+', color=GREEN).scale(0.5).next_to(l2, 1.5 * LEFT).shift(0.1 * UP))\n",
    "        lines.append(kernel_window)\n",
    "        lines.append(output_window)\n",
    "        kernel_window = VGroup(*lines)\n",
    "        kernel_window.move_to(kernel)\n",
    "        self.play(FadeIn(kernel_window), FadeIn(output_window))\n",
    "\n",
    "\n",
    "        highlight = VGroup(output_window, kernel_window, kernel)\n",
    "        sequence[-1][1].set_color(BLACK)\n",
    "        for i in range(13):\n",
    "            self.play(highlight.animate.shift(LEFT * 0.5), sequence[(14 - i -1)][1].animate.set_color(BLACK) )\n",
    "            eq = neweq\n",
    "        self.play(highlight.animate.shift(LEFT * 0.5), sequence[(0)][1].animate.set_color(BLACK) )\n",
    "        self.wait(2)"
   ]
  },
  {
   "cell_type": "code",
   "execution_count": 290,
   "metadata": {},
   "outputs": [
    {
     "name": "stderr",
     "output_type": "stream",
     "text": [
      "                                                                                                              \r"
     ]
    },
    {
     "data": {
      "text/html": [
       "<video src=\"media/jupyter/Conv@2023-11-12@00-37-39.mp4\" controls autoplay loop style=\"max-width: 60%;\"  >\n",
       "      Your browser does not support the <code>video</code> element.\n",
       "    </video>"
      ],
      "text/plain": [
       "<IPython.core.display.Video object>"
      ]
     },
     "metadata": {},
     "output_type": "display_data"
    }
   ],
   "source": [
    "%%manim -pql -v WARNING Conv\n",
    "\n",
    "class Conv(LectureScene):\n",
    "    def construct(self):\n",
    "        self.add(Text('Input', color=GRAY, opacity=0.5, font='Noto Sans').scale(0.6).move_to(5 * LEFT + -2 * UP))\n",
    "        self.add(Text('Kernel', color=RED, opacity=0.5, font='Noto Sans').scale(0.6).move_to(5 * LEFT + -1 * UP))\n",
    "        output_label = Text('Output', color=GRAY, opacity=0.5, font='Noto Sans').scale(0.6).move_to(5 * LEFT)\n",
    "        self.add(output_label)\n",
    "        self.add(Text('Convolution (kernel size: 3)', color=BLACK,  font='Noto Sans SemiBold').scale(0.8).move_to(3.5 * UP))\n",
    "\n",
    "\n",
    "        kernelarr = [-1, 3, -1]\n",
    "        kw = len(kernelarr) // 2\n",
    "        kernel = make_sequence(kernelarr, annot=True, opacity=0.2, fills=RED, colors=RED).move_to(-1 * UP)\n",
    "        seqarr = np.random.randint(-9, 9, (15,))\n",
    "\n",
    "        sequence = make_sequence(seqarr, annot=True).move_to(-2 * UP)\n",
    "        outputarr = [sum([seqarr[s - kw + i] * k for i, k in enumerate(kernelarr)]) for s in range(kw, len(seqarr) - kw)]\n",
    "\n",
    "        output = make_sequence(outputarr, annot=True, text_colors=WHITE).move_to(0 * UP)\n",
    "\n",
    "        output_window = make_sequence([1], annot=False, opacity=.2, fills=RED, colors=RED).move_to(0 * UP)\n",
    "        kernel_window = make_sequence([1, 1, 1], annot=False, fills=RED, opacity=0.2, colors=RED).move_to(-2 * UP)\n",
    "\n",
    "        lines = []\n",
    "        for s in [-0.5, 0., 0.5]:\n",
    "            l = Line(-1.75 * UP, -1.25 * UP, color=RED).shift(s * RIGHT)\n",
    "            lab = MathTex(r'\\times', color=RED).scale(0.5).next_to(l, 0.5 * LEFT) \n",
    "            l2 = CubicBezier(-.75 * UP + s * RIGHT, -.5 * UP + s * RIGHT, -.5 * UP, -.25 * UP, color=RED)\n",
    "            lines += [l, lab, l2]\n",
    "        lines.append(MathTex(r'+', color=RED).scale(0.5).next_to(l2, 1.5 * LEFT).shift(0.1 * UP))\n",
    "        lines.append(kernel_window)\n",
    "        kernel_window = VGroup(*lines)\n",
    "\n",
    "        highlight = VGroup(output_window, kernel_window, kernel)\n",
    "        highlight.shift(0.5 * 6 * LEFT)\n",
    "        eq = Text(f'Output[{0 :2}]=({seqarr[0] :2})({kernelarr[0] :2})+({seqarr[1] :2})({kernelarr[1] :2})+({seqarr[2] :2})({kernelarr[2] :2})={outputarr[0] :3}', color=BLACK, font_size=36, font='Roboto Mono').shift(2 * UP)\n",
    "        self.add(sequence, output, highlight)\n",
    "\n",
    "                \n",
    "        output[0][1].set_color(BLACK)\n",
    "        for i in range(12):\n",
    "            neweq = Text(f'Output[{i+1 :2}]=({seqarr[0 + i] :2})({kernelarr[0] :2})+({seqarr[1 + i] :2})({kernelarr[1] :2})+({seqarr[2 + i] :2})({kernelarr[2] :2})={outputarr[1 + i] :3}', color=BLACK, font_size=36, font='Roboto Mono').shift(2 * UP)\n",
    "            self.play(highlight.animate.shift(RIGHT * 0.5), output[i + 1][1].animate.set_color(BLACK) )\n",
    "            eq = neweq\n",
    "\n",
    "        kernel_window = VGroup(*lines)\n",
    "        self.wait(1)\n",
    "        self.play(FadeOut(kernel_window), FadeOut(output_window), run_time=0.25)\n",
    "        self.play(kernel.animate.shift(0.5 * RIGHT), output.animate.shift(.5 * UP), output_label.animate.shift(.5 * UP), sequence.animate.shift(.5 * DOWN), run_time=0.5, )\n",
    "\n",
    "\n",
    "        seqarr = np.random.randint(-9, 9, (15,))\n",
    "\n",
    "        sequence = make_sequence(seqarr, annot=True, text_colors=WHITE).move_to(-2 * UP)\n",
    "        outputarr = np.random.randint(-9, 9, (13,))\n",
    "\n",
    "        output = make_sequence(outputarr, annot=True).move_to(0 * UP)\n",
    "\n",
    "        self.play(FadeIn(output), FadeIn(sequence), kernel.animate.set_color(GREEN))\n",
    "        self.play(Rotate(kernel, 180 * DEGREES))\n",
    "\n",
    "        output_window = make_sequence([1], annot=False, opacity=.2, fills=RED, colors=RED).move_to(0 * UP)\n",
    "        kernel_window = make_sequence([1, 1, 1], annot=False, fills=RED, opacity=0.2, colors=RED).move_to(-2 * UP)\n",
    "\n",
    "        output_window = make_sequence([1], annot=False, opacity=.2, fills=GREEN, colors=GREEN).move_to(-2 * UP)\n",
    "        kernel_window = make_sequence([1, 1, 1], annot=False, fills=GREEN, opacity=0.2, colors=GREEN).move_to(0 * UP)\n",
    "\n",
    "        lines = []\n",
    "        for s in [-0.5, 0., 0.5]:\n",
    "            l = Line(-.75 * UP, -.25 * UP, color=GREEN).shift(s * RIGHT)\n",
    "            lab = MathTex(r'\\times', color=GREEN).scale(0.5).next_to(l, 0.5 * LEFT) \n",
    "            l2 = CubicBezier(-1.75 * UP, -1.5 * UP, -1.5 * UP + s * RIGHT, -1.25 * UP + s * RIGHT, color=GREEN)\n",
    "            lines += [l, lab, l2]\n",
    "        lines.append(MathTex(r'+', color=GREEN).scale(0.5).next_to(l2, 1.5 * LEFT).shift(0.1 * UP))\n",
    "        lines.append(kernel_window)\n",
    "        lines.append(output_window)\n",
    "        kernel_window = VGroup(*lines)\n",
    "        kernel_window.move_to(kernel)\n",
    "        self.play(FadeIn(kernel_window), FadeIn(output_window))\n",
    "\n",
    "\n",
    "        highlight = VGroup(output_window, kernel_window, kernel)\n",
    "        sequence[-1][1].set_color(BLACK)\n",
    "        for i in range(13):\n",
    "            self.play(highlight.animate.shift(LEFT * 0.5), sequence[(14 - i -1)][1].animate.set_color(BLACK) )\n",
    "            eq = neweq\n",
    "        self.play(highlight.animate.shift(LEFT * 0.5), sequence[(0)][1].animate.set_color(BLACK) )\n",
    "        self.wait(2)"
   ]
  },
  {
   "cell_type": "code",
   "execution_count": null,
   "metadata": {},
   "outputs": [
    {
     "name": "stderr",
     "output_type": "stream",
     "text": [
      "                                                                                                              \r"
     ]
    },
    {
     "data": {
      "text/html": [
       "<video src=\"media/jupyter/Conv@2023-11-11@17-25-57.mp4\" controls autoplay loop style=\"max-width: 60%;\"  >\n",
       "      Your browser does not support the <code>video</code> element.\n",
       "    </video>"
      ],
      "text/plain": [
       "<IPython.core.display.Video object>"
      ]
     },
     "metadata": {},
     "output_type": "display_data"
    }
   ],
   "source": [
    "%%manim -pql -v WARNING Conv\n",
    "\n",
    "class Conv(LectureScene):\n",
    "    def construct(self):\n",
    "        self.add(Text('Input', color=GRAY, opacity=0.5, font='Noto Sans').scale(0.6).move_to(5 * LEFT + -2 * UP))\n",
    "        self.add(Text('Kernel', color=RED, opacity=0.5, font='Noto Sans').scale(0.6).move_to(5 * LEFT + -1 * UP))\n",
    "        self.add(Text('Output', color=GRAY, opacity=0.5, font='Noto Sans').scale(0.6).move_to(5 * LEFT))\n",
    "        self.add(Text('Convolution (kernel size: 5)', color=BLACK,  font='Noto Sans SemiBold').scale(0.8).move_to(3.5 * UP))\n",
    "\n",
    "\n",
    "        kernelarr = [1, -1, 3, -1, 1]\n",
    "        kw = len(kernelarr) // 2\n",
    "        kernel = make_sequence(kernelarr, annot=True, opacity=0.2, fills=RED, colors=RED).move_to(-1 * UP)\n",
    "        seqarr = np.random.randint(-9, 9, (15,))\n",
    "\n",
    "        sequence = make_sequence(seqarr, annot=True).move_to(-2 * UP)\n",
    "        outputarr = [sum([seqarr[s - kw + i] * k for i, k in enumerate(kernelarr)]) for s in range(kw, len(seqarr) - kw)]\n",
    "\n",
    "        output = make_sequence(outputarr, annot=True, text_colors=WHITE).move_to(0 * UP)\n",
    "\n",
    "        output_window = make_sequence([1], annot=False, opacity=.2, fills=RED, colors=RED).move_to(0 * UP)\n",
    "        kernel_window = make_sequence([1, 1, 1, 1, 1], annot=False, fills=RED, opacity=0.2, colors=RED).move_to(-2 * UP)\n",
    "\n",
    "        lines = []\n",
    "        for s in [-1., -0.5, 0., 0.5, 1.]:\n",
    "            l = Line(-1.75 * UP, -1.25 * UP, color=RED).shift(s * RIGHT)\n",
    "            lab = MathTex(r'\\times', color=RED).scale(0.5).next_to(l, 0.5 * LEFT) \n",
    "            l2 = CubicBezier(-.75 * UP + s * RIGHT, -.5 * UP + s * RIGHT, -.5 * UP, -.25 * UP, color=RED)\n",
    "            lines += [l, lab, l2]\n",
    "        lines.append(MathTex(r'+', color=RED).scale(0.5).next_to(l2, 1.5 * LEFT).shift(0.1 * UP))\n",
    "        lines.append(kernel_window)\n",
    "        kernel_window = VGroup(*lines)\n",
    "\n",
    "        highlight = VGroup(output_window, kernel_window, kernel)\n",
    "        highlight.shift(0.5 * 5 * LEFT)\n",
    "        self.add(sequence, output, highlight)\n",
    "\n",
    "                \n",
    "        output[0][1].set_color(BLACK)\n",
    "        for i in range(10):\n",
    "            self.play(highlight.animate.shift(RIGHT * 0.5), output[i + 1][1].animate.set_color(BLACK))\n",
    "        self.wait(2)"
   ]
  },
  {
   "cell_type": "code",
   "execution_count": 230,
   "metadata": {},
   "outputs": [
    {
     "name": "stderr",
     "output_type": "stream",
     "text": [
      "                                                                                                           \r"
     ]
    },
    {
     "data": {
      "text/html": [
       "<video src=\"media/jupyter/Shuffle@2023-11-11@17-35-58.mp4\" controls autoplay loop style=\"max-width: 60%;\"  >\n",
       "      Your browser does not support the <code>video</code> element.\n",
       "    </video>"
      ],
      "text/plain": [
       "<IPython.core.display.Video object>"
      ]
     },
     "metadata": {},
     "output_type": "display_data"
    }
   ],
   "source": [
    "%%manim -pql -v WARNING Shuffle\n",
    "\n",
    "class Shuffle(LectureScene):\n",
    "    def construct(self):\n",
    "        self.add(Text('Input', color=GRAY, opacity=0.5, font='Noto Sans').scale(0.6).move_to(5 * LEFT + -2 * UP))\n",
    "        self.add(Text('Kernel', color=RED, opacity=0.5, font='Noto Sans').scale(0.6).move_to(5 * LEFT + -1 * UP))\n",
    "        self.add(Text('Output', color=GRAY, opacity=0.5, font='Noto Sans').scale(0.6).move_to(5 * LEFT))\n",
    "        self.add(Text('Convolution (size: 3) + Shuffle', color=BLACK,  font='Noto Sans SemiBold').scale(0.8).move_to(3.5 * UP))\n",
    "\n",
    "        kernelarr = [-1, 3, -1]\n",
    "        kw = len(kernelarr) // 2\n",
    "        kernel = make_sequence(kernelarr, annot=True, opacity=0.2, fills=RED, colors=RED).move_to(-1 * UP)\n",
    "        seqarr = np.random.randint(-9, 9, (16,))\n",
    "\n",
    "        sequence = make_sequence(seqarr, annot=True).move_to(-2 * UP)\n",
    "        outputarr = [sum([seqarr[s - kw + i] * k for i, k in enumerate(kernelarr)]) for s in range(kw, len(seqarr) - kw)]\n",
    "\n",
    "        output = make_sequence(outputarr, annot=True, text_colors=WHITE).move_to(0 * UP)\n",
    "\n",
    "        output_window = make_sequence([1], annot=False, opacity=0.2, fills=RED, colors=RED).move_to(0 * UP)\n",
    "        kernel_window = make_sequence([1, 1, 1], annot=False,  opacity=0.2, fills=RED, colors=RED).move_to(-2 * UP)\n",
    "\n",
    "        lines = []\n",
    "        for s in [-0.5, 0., 0.5]:\n",
    "            l = Line(-1.75 * UP, -1.25 * UP, color=RED).shift(s * RIGHT)\n",
    "            lab = MathTex(r'\\times', color=RED).scale(0.5).next_to(l, 0.5 * LEFT) \n",
    "            l2 = CubicBezier(-.75 * UP + s * RIGHT, -.5 * UP + s * RIGHT, -.5 * UP, -.25 * UP, color=RED)\n",
    "            lines += [l, lab, l2]\n",
    "        lines.append(MathTex(r'+', color=RED).scale(0.5).next_to(l2, 1.5 * LEFT).shift(0.1 * UP))\n",
    "        lines.append(kernel_window)\n",
    "        kernel_window = VGroup(*lines)\n",
    "        \n",
    "        highlight = VGroup(output_window, kernel_window, kernel)\n",
    "        highlight.shift(0.5 * 6.5 * LEFT)\n",
    "        self.add(sequence, output, highlight)\n",
    "\n",
    "                \n",
    "        output[0][1].set_color(BLACK)\n",
    "        for i in range(13):\n",
    "            self.play(highlight.animate.shift(RIGHT * 0.5), output[i + 1][1].animate.set_color(BLACK), run_time=0.5)\n",
    "        n=16\n",
    "        self.play(output_window.animate.set_opacity(0.), kernel_window.animate.set_opacity(0.), sequence.animate.set_opacity(0.5), run_time=0.5)\n",
    "\n",
    "        stack_anims = []\n",
    "        for i, o in enumerate(output):\n",
    "            if i % 2 == 0:\n",
    "                stack_anims.append(o.animate.shift(RIGHT * 0.25 + 0.25 * UP))\n",
    "            else:\n",
    "                stack_anims.append(o.animate.shift(LEFT * 0.25 + 0.25 * DOWN))\n",
    "        self.play(*stack_anims)\n",
    "\n",
    "        \n",
    "\n",
    "        shift_anims = []\n",
    "        for i, o in enumerate(output):\n",
    "            j = i // 2\n",
    "            s = j - (n / 4)\n",
    "            shift_anims.append(o.animate.shift(LEFT * s * 0.5 + 0.5 * LEFT))\n",
    "        self.play(*shift_anims)\n",
    "\n",
    "        self.wait(3)"
   ]
  },
  {
   "cell_type": "code",
   "execution_count": 221,
   "metadata": {},
   "outputs": [
    {
     "name": "stderr",
     "output_type": "stream",
     "text": [
      "                                                                                                               \r"
     ]
    },
    {
     "data": {
      "text/html": [
       "<video src=\"media/jupyter/MovingAround@2023-11-11@17-28-32.mp4\" controls autoplay loop style=\"max-width: 60%;\"  >\n",
       "      Your browser does not support the <code>video</code> element.\n",
       "    </video>"
      ],
      "text/plain": [
       "<IPython.core.display.Video object>"
      ]
     },
     "metadata": {},
     "output_type": "display_data"
    }
   ],
   "source": [
    "%%manim -pql -v WARNING MovingAround\n",
    "\n",
    "class MovingAround(LectureScene):\n",
    "    def construct(self):\n",
    "        self.add(Text('Input', color=GRAY, opacity=0.5, font='Noto Sans').scale(0.6).move_to(5 * LEFT + -2 * UP))\n",
    "        self.add(Text('Kernel', color=RED, opacity=0.5, font='Noto Sans').scale(0.6).move_to(5 * LEFT + -1 * UP))\n",
    "        self.add(Text('Pooling', color=BLUE, opacity=0.5, font='Noto Sans').scale(0.6).move_to(5 * LEFT + 1 * UP))\n",
    "        self.add(Text('Output', color=GRAY, opacity=0.5, font='Noto Sans').scale(0.6).move_to(5 * LEFT + 2 * UP))\n",
    "        self.add(Text('Conv. output', color=GRAY, opacity=0.5, font='Noto Sans').scale(0.6).move_to(5 * LEFT))\n",
    "        self.add(Text('Convolution (size: 3) + Max Pooling (size: 3, stride: 2)', color=BLACK,  font='Noto Sans SemiBold').scale(0.8).move_to(3.5 * UP))\n",
    "\n",
    "        kernelarr = [-1, 3, -1]\n",
    "        kw = len(kernelarr) // 2\n",
    "        kernel = make_sequence(kernelarr, annot=True, opacity=0.2, fills=RED, colors=RED).move_to(-1 * UP)\n",
    "        seqarr = np.random.randint(-9, 9, (16,))\n",
    "\n",
    "        sequence = make_sequence(seqarr, annot=True).move_to(-2 * UP)\n",
    "        outputarr = [sum([seqarr[s - kw + i] * k for i, k in enumerate(kernelarr)]) for s in range(kw, len(seqarr) - kw)]\n",
    "\n",
    "        outputarr2 = maxpool1d(outputarr, 3, stride=2)\n",
    "\n",
    "        output = make_sequence(outputarr, annot=True, text_colors=WHITE).move_to(0 * UP)\n",
    "        output2 = make_sequence(outputarr2.astype(int), annot=True, stride=2, text_colors=WHITE).move_to(2 * UP + 0.25 * LEFT)\n",
    "\n",
    "        output_window = make_sequence([1], annot=False, opacity=0.2, fills=RED, colors=RED).move_to(0 * UP)\n",
    "        kernel_window = make_sequence([1, 1, 1], annot=False, opacity=0.2, fills=RED,  colors=RED).move_to(-2 * UP)\n",
    "\n",
    "        lines = []\n",
    "        for s in [-0.5, 0., 0.5]:\n",
    "            l = Line(-1.75 * UP, -1.25 * UP, color=RED).shift(s * RIGHT)\n",
    "            lab = MathTex(r'\\times', color=RED).scale(0.5).next_to(l, 0.5 * LEFT) \n",
    "            l2 = CubicBezier(-.75 * UP + s * RIGHT, -.5 * UP + s * RIGHT, -.5 * UP, -.25 * UP, color=RED)\n",
    "            lines += [l, lab, l2]\n",
    "        lines.append(MathTex(r'+', color=RED).scale(0.5).next_to(l2, 1.5 * LEFT).shift(0.1 * UP))\n",
    "        lines.append(kernel_window)\n",
    "        kernel_window = VGroup(*lines)\n",
    "\n",
    "        maxpool_window = make_sequence([1, 1, 1], annot=False, opacity=0.2, colors=BLUE, fills=BLUE).move_to(0 * UP)\n",
    "\n",
    "        lines = []\n",
    "        for s in [-0.5, 0., 0.5]:\n",
    "            l2 = CubicBezier(0.25 * UP + s * RIGHT, 0.25 * UP + UP + s * RIGHT, UP, 1.75 * UP, color=BLUE)\n",
    "            lines += [l2]\n",
    "        lines.append(MathTex(r'\\max', color=BLUE).scale(0.5).next_to(l2, 1.5 * LEFT).shift(0.1 * UP))\n",
    "        lines.append(maxpool_window)\n",
    "        maxpool_window = VGroup(*lines)\n",
    "\n",
    "\n",
    "        maxpool_output_window = make_sequence([1], annot=False, opacity=0.2, colors=BLUE, fills=BLUE).move_to(2 * UP)\n",
    "        maxpool_highlight = VGroup(maxpool_output_window, maxpool_window).shift(0.5 * 5.5 * LEFT)\n",
    "        \n",
    "        highlight = VGroup(output_window, kernel_window, kernel)\n",
    "        highlight.shift(0.5 * 6.5 * LEFT)\n",
    "        self.add(sequence, output, highlight, output2, )\n",
    "\n",
    "                \n",
    "        output[0][1].set_color(BLACK)\n",
    "        for i in range(13):\n",
    "            self.play(highlight.animate.shift(RIGHT * 0.5), output[i + 1][1].animate.set_color(BLACK), run_time=0.1)\n",
    "        n=16\n",
    "\n",
    "        self.play(FadeIn(maxpool_highlight), highlight.animate.set_opacity(0.), output2[0][1].animate.set_color(BLACK), sequence.animate.set_opacity(0.5))\n",
    "\n",
    "        for i in range(5):\n",
    "            self.play(maxpool_highlight.animate.shift(RIGHT * 1.), output2[i + 1][1].animate.set_color(BLACK))\n",
    "\n",
    "        self.play(maxpool_highlight.animate.set_opacity(0.), output.animate.set_opacity(0.5))\n",
    "        shift_anims = []\n",
    "        for i, o in enumerate(output2):\n",
    "            j = i\n",
    "            s = j - (4)\n",
    "            shift_anims.append(o.animate.shift(LEFT * s * 0.5 + 0.5 * LEFT))\n",
    "        self.play(*shift_anims)\n",
    "        self.wait(3)\n",
    "        "
   ]
  },
  {
   "cell_type": "code",
   "execution_count": 229,
   "metadata": {},
   "outputs": [
    {
     "name": "stderr",
     "output_type": "stream",
     "text": [
      "                                                                                                    \r"
     ]
    },
    {
     "data": {
      "text/html": [
       "<video src=\"media/jupyter/MovingAround@2023-11-11@17-34-47.mp4\" controls autoplay loop style=\"max-width: 60%;\"  >\n",
       "      Your browser does not support the <code>video</code> element.\n",
       "    </video>"
      ],
      "text/plain": [
       "<IPython.core.display.Video object>"
      ]
     },
     "metadata": {},
     "output_type": "display_data"
    }
   ],
   "source": [
    "%%manim -pql -v WARNING MovingAround\n",
    "\n",
    "class MovingAround(LectureScene):\n",
    "    def construct(self):\n",
    "        self.add(Text('Input', color=GRAY, opacity=0.5, font='Noto Sans').scale(0.6).move_to(5 * LEFT + -2 * UP))\n",
    "        self.add(Text('Kernel', color=RED, opacity=0.5, font='Noto Sans').scale(0.6).move_to(5 * LEFT + -1 * UP))\n",
    "        self.add(Text('Output', color=GRAY, opacity=0.5, font='Noto Sans').scale(0.6).move_to(5 * LEFT))\n",
    "        self.add(Text('Convolution (size: 3, stride: 2)', color=BLACK,  font='Noto Sans SemiBold').scale(0.8).move_to(3.5 * UP))\n",
    "        kernelarr = [-1, 3, -1]\n",
    "        kw = len(kernelarr) // 2\n",
    "        kernel = make_sequence(kernelarr, annot=True, opacity=0.2, fills=RED, colors=RED).move_to(-1 * UP)\n",
    "        seqarr = np.random.randint(-9, 9, (15,))\n",
    "\n",
    "        sequence = make_sequence(seqarr, annot=True).move_to(-2 * UP)\n",
    "        outputarr = [sum([seqarr[s - kw + i] * k for i, k in enumerate(kernelarr)]) for s in range(kw, len(seqarr) - kw)]\n",
    "\n",
    "        output = make_sequence(outputarr[::2], annot=True, stride=2, text_colors=WHITE).move_to(0 * UP)\n",
    "\n",
    "        output_window = make_sequence([1], annot=False, opacity=0.2, fills=RED, colors=RED).move_to(0 * UP)\n",
    "        kernel_window = make_sequence([1, 1, 1], annot=False, opacity=0.2, fills=RED, colors=RED).move_to(-2 * UP)\n",
    "\n",
    "        lines = []\n",
    "        for s in [-0.5, 0., 0.5]:\n",
    "            l = Line(-1.75 * UP, -1.25 * UP, color=RED).shift(s * RIGHT)\n",
    "            lab = MathTex(r'\\times', color=RED).scale(0.5).next_to(l, 0.5 * LEFT) \n",
    "            l2 = CubicBezier(-.75 * UP + s * RIGHT, -.5 * UP + s * RIGHT, -.5 * UP, -.25 * UP, color=RED)\n",
    "            lines += [l, lab, l2]\n",
    "        lines.append(MathTex(r'+', color=RED).scale(0.5).next_to(l2, 1.5 * LEFT).shift(0.1 * UP))\n",
    "        lines.append(kernel_window)\n",
    "        kernel_window = VGroup(*lines)\n",
    "        \n",
    "        highlight = VGroup(output_window, kernel_window, kernel)\n",
    "        highlight.shift(0.5 * 6 * LEFT)\n",
    "        self.add(sequence, output, highlight)\n",
    "                \n",
    "        output[0][1].set_color(BLACK)\n",
    "        for i in range(6):\n",
    "            self.play(highlight.animate.shift(RIGHT * 1), output[i + 1][1].animate.set_color(BLACK))\n",
    "\n",
    "        self.play(output_window.animate.set_opacity(0.), sequence.animate.set_opacity(0.5), kernel_window.animate.set_opacity(0.))\n",
    "        shift_anims = []\n",
    "        for i, o in enumerate(output):\n",
    "            j = i\n",
    "            s = j - (4)\n",
    "            shift_anims.append(o.animate.shift(LEFT * s * 0.5 + 0.5 * LEFT))\n",
    "        self.play(*shift_anims)\n",
    "        self.wait(2)\n"
   ]
  },
  {
   "cell_type": "code",
   "execution_count": 222,
   "metadata": {},
   "outputs": [
    {
     "name": "stderr",
     "output_type": "stream",
     "text": [
      "                                                                                                    \r"
     ]
    },
    {
     "data": {
      "text/html": [
       "<video src=\"media/jupyter/MovingAround@2023-11-11@17-29-38.mp4\" controls autoplay loop style=\"max-width: 60%;\"  >\n",
       "      Your browser does not support the <code>video</code> element.\n",
       "    </video>"
      ],
      "text/plain": [
       "<IPython.core.display.Video object>"
      ]
     },
     "metadata": {},
     "output_type": "display_data"
    }
   ],
   "source": [
    "%%manim -pql -v WARNING MovingAround\n",
    "\n",
    "from scipy.ndimage import correlate\n",
    "\n",
    "\n",
    "class MovingAround(LectureScene):\n",
    "    def construct(self):\n",
    "        self.add(Text('Input', color=GRAY, opacity=0.5, font='Noto Sans').scale(0.6).move_to(5 * LEFT + -2 * UP))\n",
    "        self.add(Text('Kernel', color=RED, opacity=0.5, font='Noto Sans').scale(0.6).move_to(5 * LEFT + -1 * UP))\n",
    "        self.add(Text('Output', color=GRAY, opacity=0.5, font='Noto Sans').scale(0.6).move_to(5 * LEFT))\n",
    "        self.add(Text('Convolution (size: 3, padding: 1)', color=BLACK,  font='Noto Sans SemiBold').scale(0.8).move_to(3.5 * UP))\n",
    "        kernelarr = [-1, 3, -1]\n",
    "        kw = len(kernelarr) // 2\n",
    "        kernel = make_sequence(kernelarr, annot=True, opacity=0.2, fills=RED, colors=RED).move_to(-1 * UP)\n",
    "        seqarr = np.random.randint(-9, 9, (15,))\n",
    "\n",
    "        sequence, pads = make_sequence(seqarr, annot=True, padding=1)\n",
    "        sequence.move_to(-2 * UP), pads.move_to(-2 * UP)\n",
    "        outputarr = convolution1d(seqarr, kernelarr, padding=1).astype(int)\n",
    "\n",
    "        output = make_sequence(outputarr, annot=True, text_colors=WHITE).move_to(0 * UP)\n",
    "\n",
    "        output_window = make_sequence([1], annot=False, opacity=0.2, fills=RED, colors=RED).move_to(0 * UP)\n",
    "        kernel_window = make_sequence([1, 1, 1], annot=False, opacity=0.2, fills=RED, colors=RED).move_to(-2 * UP)\n",
    "\n",
    "        lines = []\n",
    "        for s in [-0.5, 0., 0.5]:\n",
    "            l = Line(-1.75 * UP, -1.25 * UP, color=RED).shift(s * RIGHT)\n",
    "            lab = MathTex(r'\\times', color=RED).scale(0.5).next_to(l, 0.5 * LEFT) \n",
    "            l2 = CubicBezier(-.75 * UP + s * RIGHT, -.5 * UP + s * RIGHT, -.5 * UP, -.25 * UP, color=RED)\n",
    "            lines += [l, lab, l2]\n",
    "        lines.append(MathTex(r'+', color=RED).scale(0.5).next_to(l2, 1.5 * LEFT).shift(0.1 * UP))\n",
    "        lines.append(kernel_window)\n",
    "        kernel_window = VGroup(*lines)\n",
    "        \n",
    "        highlight = VGroup(output_window, kernel_window, kernel)\n",
    "        highlight.shift(0.5 * 7 * LEFT)\n",
    "        \n",
    "        self.add(sequence, output, pads)\n",
    "        self.play(FadeIn(highlight), output[0][1].animate.set_color(BLACK))\n",
    "                \n",
    "        \n",
    "        for i in range(14):\n",
    "            self.play(highlight.animate.shift(RIGHT * 0.5), output[i + 1][1].animate.set_color(BLACK), run_time=0.5)\n",
    "        \n",
    "        self.wait(2)\n",
    "        "
   ]
  },
  {
   "cell_type": "code",
   "execution_count": 233,
   "metadata": {},
   "outputs": [
    {
     "name": "stderr",
     "output_type": "stream",
     "text": [
      "                                                                                                    \r"
     ]
    },
    {
     "data": {
      "text/html": [
       "<video src=\"media/jupyter/MovingAround@2023-11-11@17-40-55.mp4\" controls autoplay loop style=\"max-width: 60%;\"  >\n",
       "      Your browser does not support the <code>video</code> element.\n",
       "    </video>"
      ],
      "text/plain": [
       "<IPython.core.display.Video object>"
      ]
     },
     "metadata": {},
     "output_type": "display_data"
    }
   ],
   "source": [
    "%%manim -pql -v WARNING MovingAround\n",
    "\n",
    "class MovingAround(LectureScene):\n",
    "\n",
    "    def construct(self):\n",
    "        self.add(Text('Input', color=GRAY, opacity=0.5, font='Noto Sans').scale(0.6).move_to(5 * LEFT + -2 * UP))\n",
    "        self.add(Text('Kernel', color=RED, opacity=0.5, font='Noto Sans').scale(0.6).move_to(5 * LEFT))\n",
    "        self.add(Text('Output', color=GRAY, opacity=0.5, font='Noto Sans').scale(0.6).move_to(5 * LEFT + 2 * UP))\n",
    "        self.add(Text('Convolution (size: 3, channels: 3, output channels: 1)', color=BLACK,  font='Noto Sans SemiBold').scale(0.8).move_to(3.5 * UP))\n",
    "        n = 16\n",
    "        \n",
    "        seqarr = np.random.randint(-9, 9, (3, n,))\n",
    "        sequence = make_stack(seqarr, annot=True).move_to(-2 * UP)\n",
    "\n",
    "\n",
    "        kernelarr = np.random.randint(-3, 3, (3, 3,))\n",
    "        kw = len(kernelarr[0]) // 2\n",
    "        kernel = make_stack(kernelarr, annot=True, opacity=0.2, colors=[RED, GREEN, BLUE], fills=[RED, GREEN, BLUE]).move_to(0 * UP)\n",
    "        outputarr = convolution1d(seqarr.T, kernelarr).astype(int) #np.zeros(14).astype(int)#[sum([seqarr[s - kw + i] * k for i, k in enumerate(kernelarr)]) for s in range(kw, len(seqarr) - kw)]\n",
    "        output = make_sequence(outputarr, annot=True, text_colors=WHITE).move_to(1.5 * UP)\n",
    "\n",
    "        output_window = make_sequence([1], annot=False, opacity=0.2, colors=GRAY, fills=GRAY).move_to(1.5 * UP)\n",
    "        kernel_window = make_stack(kernelarr, annot=False, opacity=0.2, colors=[RED, GREEN, BLUE], fills=[RED, GREEN, BLUE]).move_to(-2 * UP)\n",
    "\n",
    "        lines = []\n",
    "        for s in [-0.5, 0., 0.5]:\n",
    "            l = Line(-1.25 * UP, -.75 * UP, color=GRAY).shift(s * RIGHT)\n",
    "            lab = MathTex(r'\\text{dot}', color=GRAY).scale(0.35).next_to(l, 0.5 * LEFT) \n",
    "            l2 = CubicBezier(-.25 * UP + UP + s * RIGHT,  UP + s * RIGHT,  UP, .25 * UP + UP, color=GRAY)\n",
    "            lines += [l, lab, l2]\n",
    "        lines.append(MathTex(r'+', color=GRAY).scale(0.5).next_to(l2, 1.5 * LEFT).shift(0.1 * UP))\n",
    "        lines.append(kernel_window)\n",
    "        kernel_window = VGroup(*lines)\n",
    "        \n",
    "        highlight = VGroup(output_window, kernel_window, kernel)\n",
    "        highlight.shift(0.5 * (n-3) / 2 * LEFT)\n",
    "        self.add(sequence, output, highlight)\n",
    "                \n",
    "        output[0][1].set_color(BLACK)\n",
    "        for i in range(n - 3):\n",
    "            self.play(highlight.animate.shift(RIGHT * 0.5), output[i + 1][1].animate.set_color(BLACK), run_time=0.5)\n",
    "\n",
    "        self.wait(2)\n",
    "\n",
    "        #stack_anims = []\n",
    "        #for i, o in enumerate(output):\n",
    "        #    if i % 2 == 0:\n",
    "        #        stack_anims.append(o.animate.shift(RIGHT * 0.25 + 0.25 * UP))\n",
    "        #    else:\n",
    "        #        stack_anims.append(o.animate.shift(LEFT * 0.25 + 0.25 * DOWN))\n",
    "        #self.play(*stack_anims)\n",
    "\n",
    "        #shift_anims = []\n",
    "        #for i, o in enumerate(output):\n",
    "        #    j = i // 2\n",
    "        #    s = j - (n / 4)\n",
    "        #    shift_anims.append(o.animate.shift(LEFT * s * 0.5))\n",
    "        #self.play(*shift_anims)"
   ]
  },
  {
   "cell_type": "code",
   "execution_count": 227,
   "metadata": {},
   "outputs": [
    {
     "name": "stderr",
     "output_type": "stream",
     "text": [
      "                                                                                                      \r"
     ]
    },
    {
     "data": {
      "text/html": [
       "<video src=\"media/jupyter/MovingAround@2023-11-11@17-34-36.mp4\" controls autoplay loop style=\"max-width: 60%;\"  >\n",
       "      Your browser does not support the <code>video</code> element.\n",
       "    </video>"
      ],
      "text/plain": [
       "<IPython.core.display.Video object>"
      ]
     },
     "metadata": {},
     "output_type": "display_data"
    }
   ],
   "source": [
    "%%manim -pql -v WARNING MovingAround\n",
    "\n",
    "class MovingAround(LectureScene):\n",
    "    def construct(self):\n",
    "        self.add(Text('Input', color=GRAY, opacity=0.5, font='Noto Sans').scale(0.6).move_to(5 * LEFT + -2 * UP))\n",
    "        self.add(Text('Kernel', color=RED, opacity=0.5, font='Noto Sans').scale(0.6).move_to(5 * LEFT + 0 * UP))\n",
    "        self.add(Text('Output', color=GRAY, opacity=0.5, font='Noto Sans').scale(0.6).move_to(5 * LEFT + 2 * UP))\n",
    "        self.add(Text('Convolution (size: 3, channels: 3, output channels: 3)', color=BLACK,  font='Noto Sans SemiBold').scale(0.8).move_to(3.5 * UP))\n",
    "        n = 16\n",
    "        \n",
    "        seqarr = np.random.randint(-9, 9, (3, n,))\n",
    "        sequence = make_stack(seqarr, annot=True).move_to(-2 * UP)\n",
    "\n",
    "\n",
    "        kernelarr = np.random.randint(-3, 3, (3, 3,))\n",
    "        kw = len(kernelarr[0]) // 2\n",
    "        kernel = make_stack(kernelarr, annot=True, opacity=0.2, colors=[RED, GREEN, BLUE], fills=[RED, GREEN, BLUE]).move_to(0 * UP)\n",
    "        outputarr = convolution1d(seqarr.T, kernelarr).astype(int) #np.zeros(14).astype(int)#[sum([seqarr[s - kw + i] * k for i, k in enumerate(kernelarr)]) for s in range(kw, len(seqarr) - kw)]\n",
    "        output = make_sequence(outputarr, annot=True, text_colors=WHITE).move_to(1.5 * UP)\n",
    "        output_window = make_sequence([1], annot=False, opacity=0.2, colors=GRAY, fills=GRAY).move_to(1.5 * UP)\n",
    "        kernel_window = make_stack(kernelarr, annot=False, opacity=0.2, colors=[RED, GREEN, BLUE], fills=[RED, GREEN, BLUE]).move_to(-2 * UP)\n",
    "\n",
    "        lines = []\n",
    "        for s in [-0.5, 0., 0.5]:\n",
    "            l = Line(-1.25 * UP, -.75 * UP, color=GRAY).shift(s * RIGHT)\n",
    "            lab = MathTex(r'\\text{dot}', color=GRAY).scale(0.35).next_to(l, 0.5 * LEFT) \n",
    "            l2 = CubicBezier(-.25 * UP + UP + s * RIGHT,  UP + s * RIGHT,  UP, .25 * UP + UP, color=GRAY)\n",
    "            lines += [l, lab, l2]\n",
    "        lines.append(MathTex(r'+', color=GRAY).scale(0.5).next_to(l2, 1.5 * LEFT).shift(0.1 * UP))\n",
    "        lines.append(kernel_window)\n",
    "        kernel_window = VGroup(*lines)\n",
    "\n",
    "        highlight = VGroup(output_window, kernel_window, kernel)\n",
    "        highlight.shift(0.5 * (n-3) / 2 * LEFT)\n",
    "        self.add(sequence, output, highlight)\n",
    "  \n",
    "        output[0][1].set_color(BLACK)\n",
    "        for i in range(n - 3):\n",
    "            self.play(highlight.animate.shift(RIGHT * 0.5), output[i + 1][1].animate.set_color(BLACK), run_time=0.3)\n",
    "\n",
    "        self.play(FadeOut(kernel_window),  FadeOut(output_window) , run_time=0.25)\n",
    "        self.play(kernel.animate.move_to(5.5 * RIGHT), run_time=0.5)\n",
    "        self.play(kernel.animate.shift(2 * UP), run_time=0.5)\n",
    "\n",
    "\n",
    "        kernelarr = np.random.randint(-3, 3, (3, 3,))\n",
    "        kw = len(kernelarr[0]) // 2\n",
    "        kernel = make_stack(kernelarr, annot=True, opacity=0.2, colors=[RED, GREEN, BLUE], fills=[RED, GREEN, BLUE]).move_to(0 * UP)\n",
    "        outputarr = convolution1d(seqarr.T, kernelarr).astype(int) #np.zeros(14).astype(int)#[sum([seqarr[s - kw + i] * k for i, k in enumerate(kernelarr)]) for s in range(kw, len(seqarr) - kw)]\n",
    "        output = make_sequence(outputarr, annot=True, text_colors=WHITE).move_to(2 * UP)\n",
    "        output_window = make_sequence([1], annot=False, opacity=0.2, colors=GRAY, fills=GRAY).move_to(2 * UP)\n",
    "        kernel_window = make_stack(kernelarr, annot=False, opacity=0.2, colors=[RED, GREEN, BLUE], fills=[RED, GREEN, BLUE]).move_to(-2 * UP)\n",
    "\n",
    "        lines = []\n",
    "        for s in [-0.5, 0., 0.5]:\n",
    "            l = Line(-1.25 * UP, -.75 * UP, color=GRAY).shift(s * RIGHT)\n",
    "            lab = MathTex(r'\\text{dot}', color=GRAY).scale(0.35).next_to(l, 0.5 * LEFT) \n",
    "            l2 = CubicBezier(-.25 * UP + UP + s * RIGHT,  UP + s * RIGHT,  UP, .25 * UP + UP, color=GRAY)\n",
    "            lines += [l, lab, l2]\n",
    "        lines.append(MathTex(r'+', color=GRAY).scale(0.5).next_to(l2, 1.5 * LEFT).shift(0.1 * UP))\n",
    "        lines.append(kernel_window)\n",
    "        kernel_window = VGroup(*lines)\n",
    "        \n",
    "        highlight = VGroup(output_window, kernel_window, kernel)\n",
    "        highlight.shift(0.5 * (n-3) / 2 * LEFT)\n",
    "        self.play(FadeIn(output), FadeIn(highlight), run_time=0.5)\n",
    "\n",
    "        output[0][1].set_color(BLACK)\n",
    "        for i in range(n - 3):\n",
    "            self.play(highlight.animate.shift(RIGHT * 0.5), output[i + 1][1].animate.set_color(BLACK), run_time=0.3)\n",
    "\n",
    "        self.play(FadeOut(kernel_window),  FadeOut(output_window), run_time=0.25)\n",
    "        self.play(kernel.animate.move_to(5.5 * RIGHT), run_time=0.5)\n",
    "        self.play(kernel.animate.shift(2 * DOWN),  run_time=0.5)\n",
    "\n",
    "        kernelarr = np.random.randint(-3, 3, (3, 3,))\n",
    "        kw = len(kernelarr[0]) // 2\n",
    "        kernel = make_stack(kernelarr, annot=True, opacity=0.2, colors=[RED, GREEN, BLUE], fills=[RED, GREEN, BLUE]).move_to(0 * UP)\n",
    "        outputarr = convolution1d(seqarr.T, kernelarr).astype(int) #np.zeros(14).astype(int)#[sum([seqarr[s - kw + i] * k for i, k in enumerate(kernelarr)]) for s in range(kw, len(seqarr) - kw)]\n",
    "        output = make_sequence(outputarr, annot=True, text_colors=WHITE).move_to(2.5 * UP)\n",
    "        output_window = make_sequence([1], annot=False, opacity=0.2, colors=GRAY, fills=GRAY).move_to(2.5 * UP)\n",
    "        kernel_window = make_stack(kernelarr, annot=False, opacity=0.2, colors=[RED, GREEN, BLUE], fills=[RED, GREEN, BLUE]).move_to(-2 * UP)\n",
    "\n",
    "        lines = []\n",
    "        for s in [-0.5, 0., 0.5]:\n",
    "            l = Line(-1.25 * UP, -.75 * UP, color=GRAY).shift(s * RIGHT)\n",
    "            lab = MathTex(r'\\text{dot}', color=GRAY).scale(0.35).next_to(l, 0.5 * LEFT) \n",
    "            l2 = CubicBezier(-.25 * UP + UP + s * RIGHT,  UP + s * RIGHT,  UP, .25 * UP + UP, color=GRAY)\n",
    "            lines += [l, lab, l2]\n",
    "        lines.append(MathTex(r'+', color=GRAY).scale(0.5).next_to(l2, 1.5 * LEFT).shift(0.1 * UP))\n",
    "        lines.append(kernel_window)\n",
    "        kernel_window = VGroup(*lines)\n",
    "\n",
    "        highlight = VGroup(output_window, kernel_window, kernel)\n",
    "        highlight.shift(0.5 * (n-3) / 2 * LEFT)\n",
    "        self.play(FadeIn(output), FadeIn(highlight), run_time=0.5)\n",
    "\n",
    "        output[0][1].set_color(BLACK)\n",
    "        for i in range(n - 3):\n",
    "            self.play(highlight.animate.shift(RIGHT * 0.5), output[i + 1][1].animate.set_color(BLACK), run_time=0.3)\n",
    "\n",
    "        self.play(FadeOut(kernel_window),  FadeOut(output_window), run_time=0.25)\n",
    "        self.play(kernel.animate.move_to(5.5 * RIGHT), run_time=0.5)\n",
    "        self.play( sequence.animate.set_opacity(0.5), run_time=0.5)\n",
    "\n",
    "        self.wait(2)"
   ]
  },
  {
   "cell_type": "code",
   "execution_count": 22,
   "metadata": {},
   "outputs": [],
   "source": [
    "def convolution1d(x, kernel):\n",
    "    kernel_width = len(kernel)\n",
    "    input_size = len(x)\n",
    "\n",
    "    output_size = input_size - (kernel_width - 1)\n",
    "    output = np.zeros((output_size,))\n",
    "    for i in range(output_size):\n",
    "        for j in range(kernel_width):\n",
    "            output[i] += x[i + j] * kernel[j]\n",
    "    return output"
   ]
  },
  {
   "cell_type": "code",
   "execution_count": 23,
   "metadata": {},
   "outputs": [],
   "source": [
    "def convolution1d(x, kernel):\n",
    "    kernel_width = len(kernel)\n",
    "    input_size = len(x)\n",
    "\n",
    "    output_size = input_size - (kernel_width - 1)\n",
    "    output = np.zeros((output_size,))\n",
    "    for i in range(output_size):\n",
    "        for j in range(kernel_width):\n",
    "            output[i] += np.dot(x[i + j], kernel[j])\n",
    "    return output"
   ]
  },
  {
   "cell_type": "code",
   "execution_count": 24,
   "metadata": {},
   "outputs": [],
   "source": [
    "def convolution1d(x, kernel, padding=0):\n",
    "\n",
    "    kernel_width = len(kernel)\n",
    "    input_size = len(x)\n",
    "\n",
    "    output_size = input_size - (kernel_width - 1) + 2 * padding\n",
    "    output = np.zeros((output_size,))\n",
    "    for i in range(output_size):\n",
    "        for j in range(kernel_width):\n",
    "            ind = i + j - padding\n",
    "            if ind >= 0 and ind < input_size:\n",
    "                output[i] += np.dot(x[ind], kernel[j])\n",
    "    return output"
   ]
  },
  {
   "cell_type": "code",
   "execution_count": 25,
   "metadata": {},
   "outputs": [],
   "source": [
    "def convolution1d(x, kernel, padding=0, stride=1):\n",
    "\n",
    "    kernel_width = len(kernel)\n",
    "    input_size = len(x)\n",
    "\n",
    "    output_size = (input_size - (kernel_width - 1) + 2 * padding - 1) // stride + 1\n",
    "    output = np.zeros((output_size,))\n",
    "    for i in range(len(output)):\n",
    "        for j in range(kernel_width):\n",
    "            ind = i * stride + j - padding\n",
    "            if ind >= 0 and ind < input_size:\n",
    "                output[i] += np.dot(x[ind], kernel[j])\n",
    "    return output"
   ]
  },
  {
   "cell_type": "code",
   "execution_count": 26,
   "metadata": {},
   "outputs": [],
   "source": [
    "def convolution1d(x, kernel, padding=0, stride=1, dialation=1):\n",
    "\n",
    "    kernel_width = len(kernel)\n",
    "    input_size = len(x)\n",
    "\n",
    "    output_size = (input_size - dialation * (kernel_width - 1) + 2 * padding - 1) // stride + 1\n",
    "    output = np.zeros((output_size,))\n",
    "    for i in range(len(output)):\n",
    "        for j in range(kernel_width):\n",
    "            ind = i * stride + j * dialation - padding\n",
    "            if ind >= 0 and ind < input_size:\n",
    "                output[i] += np.dot(x[ind], kernel[j])\n",
    "    return output"
   ]
  },
  {
   "cell_type": "code",
   "execution_count": 27,
   "metadata": {},
   "outputs": [],
   "source": [
    "def convolution1d(x, kernel, bias=0, padding=0, stride=1, dialation=1):\n",
    "\n",
    "    kernel_width = len(kernel)\n",
    "    input_size = len(x)\n",
    "\n",
    "    output_size = (input_size - dialation * (kernel_width - 1) + 2 * padding - 1) // stride + 1\n",
    "    output = np.zeros((output_size,))\n",
    "    for i in range(len(output)):\n",
    "        output[i] = bias\n",
    "        for j in range(kernel_width):\n",
    "            ind = i * stride + j * dialation - padding\n",
    "            if ind >= 0 and ind < input_size:\n",
    "                output[i] += np.dot(x[ind], kernel[j])\n",
    "    return output"
   ]
  },
  {
   "cell_type": "code",
   "execution_count": 28,
   "metadata": {},
   "outputs": [],
   "source": [
    "def maxpool1d(x, window, padding=0, stride=1):\n",
    "    input_size = len(x)\n",
    "\n",
    "    output_size = (input_size - (window - 1) + 2 * padding - 1) // stride + 1\n",
    "    output = np.zeros((output_size,))\n",
    "    for i in range(len(output)):\n",
    "        output[i] = -np.infty\n",
    "        for j in range(window):\n",
    "            ind = i * stride + j - padding\n",
    "            if ind >= 0 and ind < input_size:\n",
    "                output[i] = np.maximum(x[ind], output[i])\n",
    "    return output"
   ]
  },
  {
   "cell_type": "code",
   "execution_count": 1,
   "metadata": {},
   "outputs": [
    {
     "data": {
      "text/html": [
       "<pre style=\"white-space:pre;overflow-x:auto;line-height:normal;font-family:Menlo,'DejaVu Sans Mono',consolas,'Courier New',monospace\">Manim Community <span style=\"color: #008000; text-decoration-color: #008000\">v0.17.3</span>\n",
       "\n",
       "</pre>\n"
      ],
      "text/plain": [
       "Manim Community \u001b[32mv0.\u001b[0m\u001b[32m17.3\u001b[0m\n",
       "\n"
      ]
     },
     "metadata": {},
     "output_type": "display_data"
    }
   ],
   "source": [
    "\n",
    "from manim import *"
   ]
  },
  {
   "cell_type": "code",
   "execution_count": 4,
   "metadata": {},
   "outputs": [
    {
     "name": "stdout",
     "output_type": "stream",
     "text": [
      "Constructing layers\n",
      "Current layer: FeedForwardLayer\n",
      "Current layer: FeedForwardLayer\n",
      "Current layer: FeedForwardLayer\n",
      "NeuralNetwork([\n",
      "    FeedForwardLayer(z_index=3, title_text= , ),\n",
      "    FeedForwardToFeedForward(input_layer=FeedForwardLayer,output_layer=FeedForwardLayer,)(z_index=2, title_text= , ),\n",
      "    FeedForwardLayer(z_index=3, title_text= , ),\n",
      "    FeedForwardToFeedForward(input_layer=FeedForwardLayer,output_layer=FeedForwardLayer,)(z_index=2, title_text= , ),\n",
      "    FeedForwardLayer(z_index=3, title_text= , ),\n",
      "])\n"
     ]
    },
    {
     "name": "stderr",
     "output_type": "stream",
     "text": [
      "                                                                               \r"
     ]
    },
    {
     "data": {
      "text/html": [
       "<video src=\"media/jupyter/MovingAround@2023-11-11@12-57-45.mp4\" controls autoplay loop style=\"max-width: 60%;\"  >\n",
       "      Your browser does not support the <code>video</code> element.\n",
       "    </video>"
      ],
      "text/plain": [
       "<IPython.core.display.Video object>"
      ]
     },
     "metadata": {},
     "output_type": "display_data"
    }
   ],
   "source": [
    "%%manim -pql -v WARNING MovingAround\n",
    "\n",
    "from manim_ml.neural_network import NeuralNetwork, FeedForwardLayer\n",
    "class MovingAround(Scene):\n",
    "    def construct(self):\n",
    "        nn = NeuralNetwork([\n",
    "            FeedForwardLayer(num_nodes=3),\n",
    "            FeedForwardLayer(num_nodes=5),\n",
    "            FeedForwardLayer(num_nodes=3)\n",
    "        ])\n",
    "        self.add(nn)\n",
    "        # Make the animation\n",
    "        forward_pass_animation = nn.make_forward_pass_animation()\n",
    "        # Play the animation\n",
    "        self.play(forward_pass_animation)"
   ]
  },
  {
   "cell_type": "code",
   "execution_count": 6,
   "metadata": {},
   "outputs": [],
   "source": [
    "import manim_ml"
   ]
  },
  {
   "cell_type": "code",
   "execution_count": 7,
   "metadata": {},
   "outputs": [
    {
     "data": {
      "text/plain": [
       "<module 'manim_ml' from '/Users/gabe/Documents/Courses/CS152-Neural-Networks-Fall-2023.github.io/.venv/lib/python3.9/site-packages/manim_ml/__init__.py'>"
      ]
     },
     "execution_count": 7,
     "metadata": {},
     "output_type": "execute_result"
    }
   ],
   "source": [
    "manim_ml.ThreeDScene"
   ]
  },
  {
   "cell_type": "code",
   "execution_count": null,
   "metadata": {},
   "outputs": [],
   "source": []
  }
 ],
 "metadata": {
  "kernelspec": {
   "display_name": ".venv",
   "language": "python",
   "name": "python3"
  },
  "language_info": {
   "codemirror_mode": {
    "name": "ipython",
    "version": 3
   },
   "file_extension": ".py",
   "mimetype": "text/x-python",
   "name": "python",
   "nbconvert_exporter": "python",
   "pygments_lexer": "ipython3",
   "version": "3.9.6"
  }
 },
 "nbformat": 4,
 "nbformat_minor": 2
}
