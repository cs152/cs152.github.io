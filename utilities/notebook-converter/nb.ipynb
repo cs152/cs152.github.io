{
 "cells": [
  {
   "cell_type": "code",
   "execution_count": 32,
   "metadata": {},
   "outputs": [],
   "source": [
    "import nbformat\n",
    "from nbconvert import WebPDFExporter"
   ]
  },
  {
   "cell_type": "code",
   "execution_count": 27,
   "metadata": {},
   "outputs": [
    {
     "data": {
      "text/plain": [
       "True"
      ]
     },
     "execution_count": 27,
     "metadata": {},
     "output_type": "execute_result"
    }
   ],
   "source": [
    "'Q1' in nbformat.read('main.ipynb', nbformat.NO_CONVERT).cells[7].metadata.tags"
   ]
  },
  {
   "cell_type": "code",
   "execution_count": 50,
   "metadata": {},
   "outputs": [],
   "source": [
    "nb = nbformat.read('main.ipynb', 4)"
   ]
  },
  {
   "cell_type": "code",
   "execution_count": 48,
   "metadata": {},
   "outputs": [
    {
     "name": "stdout",
     "output_type": "stream",
     "text": [
      "\n",
      "\n"
     ]
    }
   ],
   "source": [
    "print('\\n')"
   ]
  },
  {
   "cell_type": "code",
   "execution_count": 52,
   "metadata": {},
   "outputs": [],
   "source": [
    "pagebreak = r'''<div style=\"page-break-after: always; visibility: hidden\"> \n",
    "\\pagebreak \n",
    "</div>'''\n",
    "\n",
    "cells = []\n",
    "for question in range(20):\n",
    "    qstr = f'Q{question}'\n",
    "    if question > 0:\n",
    "        cells.append(nbformat.v4.new_markdown_cell(source='# ' + qstr))\n",
    "\n",
    "    for cell in nb.cells:\n",
    "        checksource = cell.source.strip().replace(' ', '').find('#!' + qstr) == 0\n",
    "        if ('tags' in cell.metadata and qstr in cell.metadata.tags) or checksource:\n",
    "            if checksource:\n",
    "                cell.source = '\\n'.join(cell.source.splitlines()[1:])\n",
    "            cells.append(cell)\n",
    "            \n",
    "    cells.append(nbformat.v4.new_markdown_cell(source=pagebreak))\n",
    "\n",
    "output = nbformat.v4.new_notebook()\n",
    "output.cells = cells\n"
   ]
  },
  {
   "cell_type": "code",
   "execution_count": 30,
   "metadata": {},
   "outputs": [
    {
     "data": {
      "text/plain": [
       "{'id': '8da0209c', 'cell_type': 'markdown', 'source': '', 'metadata': {}}"
      ]
     },
     "execution_count": 30,
     "metadata": {},
     "output_type": "execute_result"
    }
   ],
   "source": [
    "#! Q1\n",
    "nbformat.v4.new_markdown_cell(source='')"
   ]
  },
  {
   "cell_type": "markdown",
   "metadata": {},
   "source": [
    "#! Q1"
   ]
  },
  {
   "cell_type": "code",
   "execution_count": 53,
   "metadata": {},
   "outputs": [
    {
     "name": "stderr",
     "output_type": "stream",
     "text": [
      "/Users/gabehope/Documents/Courses/cs152.github.io/.venv/lib/python3.12/site-packages/nbconvert/exporters/exporter.py:348: MissingIDFieldWarning: Cell is missing an id field, this will become a hard error in future nbformat versions. You may want to use `normalize()` on your notebooks before validations (available since nbformat 5.1.4). Previous versions of nbformat are fixing this issue transparently, and will stop doing so in the future.\n",
      "  _, nbc = validator.normalize(nbc)\n"
     ]
    }
   ],
   "source": [
    "(pdf, _) = WebPDFExporter().from_notebook_node(output)\n",
    "with open('main2.pdf', 'wb') as f:\n",
    "    f.write(pdf)"
   ]
  },
  {
   "cell_type": "code",
   "execution_count": 41,
   "metadata": {},
   "outputs": [],
   "source": [
    "pagebreak = r'''<div style=\"page-break-after: always; visibility: hidden\"> \n",
    "\\pagebreak \n",
    "</div>'''"
   ]
  },
  {
   "cell_type": "code",
   "execution_count": 42,
   "metadata": {},
   "outputs": [
    {
     "data": {
      "text/plain": [
       "'<div style=\"page-break-after: always; visibility: hidden\"> \\n\\\\pagebreak \\n</div>'"
      ]
     },
     "execution_count": 42,
     "metadata": {},
     "output_type": "execute_result"
    }
   ],
   "source": [
    "pagebreak"
   ]
  },
  {
   "cell_type": "code",
   "execution_count": null,
   "metadata": {},
   "outputs": [],
   "source": []
  },
  {
   "cell_type": "code",
   "execution_count": null,
   "metadata": {},
   "outputs": [],
   "source": []
  }
 ],
 "metadata": {
  "kernelspec": {
   "display_name": ".venv",
   "language": "python",
   "name": "python3"
  },
  "language_info": {
   "codemirror_mode": {
    "name": "ipython",
    "version": 3
   },
   "file_extension": ".py",
   "mimetype": "text/x-python",
   "name": "python",
   "nbconvert_exporter": "python",
   "pygments_lexer": "ipython3",
   "version": "3.12.6"
  }
 },
 "nbformat": 4,
 "nbformat_minor": 2
}
