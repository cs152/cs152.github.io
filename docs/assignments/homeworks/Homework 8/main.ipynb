{
 "cells": [
  {
   "cell_type": "markdown",
   "id": "2a1e08ac",
   "metadata": {
    "id": "2a1e08ac"
   },
   "source": [
    "# **Homework 7:** Optimization and Normalization"
   ]
  },
  {
   "cell_type": "markdown",
   "id": "e60ee612",
   "metadata": {
    "id": "e60ee612"
   },
   "source": [
    "### Collaborators\n",
    "\n",
    "Please list anyone you discussed or collaborated on this assignment with below.|"
   ]
  },
  {
   "cell_type": "markdown",
   "id": "e8b5f08c",
   "metadata": {
    "id": "e8b5f08c"
   },
   "source": [
    "LIST COLLABORATORS HERE"
   ]
  },
  {
   "cell_type": "markdown",
   "id": "617d1a3b",
   "metadata": {
    "id": "617d1a3b"
   },
   "source": [
    "### Course feedback\n",
    "\n",
    "Please submit this week's course survey here: https://forms.gle/aHnv3ZxmgYFV7cjD7"
   ]
  },
  {
   "cell_type": "markdown",
   "id": "5521e2eb",
   "metadata": {
    "id": "5521e2eb"
   },
   "source": [
    "# Part 0: Enviornment Setup\n",
    "\n",
    "For this homework and for the final project, you may find it useful to run your code with access to a sufficient GPU, which may allow your code to run faster (we will talk about why later in the course). If you do not have access to a powerful GPU on your personal computer (e.g. if you primarily use a laptop), then there are 2 options you may consider for using a remotely hosted GPU.\n",
    "\n",
    "*Note that some laptops may actually run this code faster than the course server, so you may want to try it first on your laptop regardless*"
   ]
  },
  {
   "cell_type": "code",
   "execution_count": 2,
   "id": "bc46fd6c",
   "metadata": {
    "id": "bc46fd6c"
   },
   "outputs": [],
   "source": [
    "# This is the path that the dataset for this homework will be downloaded to.\n",
    "# If you are running on the course server or Colab you can keep this line, if you are\n",
    "# running on a personal computer, you may want to change this location.\n",
    "data_path = '/cs/cs152/data'"
   ]
  },
  {
   "cell_type": "markdown",
   "id": "2bcad870",
   "metadata": {
    "id": "2bcad870"
   },
   "source": [
    "## Option 1: Use the course GPU server"
   ]
  },
  {
   "cell_type": "markdown",
   "id": "865b5fc1",
   "metadata": {
    "id": "865b5fc1"
   },
   "source": [
    "\n",
    "\n",
    "We have a GPU server available for this course that you all should have access to. (If you are not a Mudd student we may need to get you setup with a Mudd CS account). The server name is `teapot.cs.hmc.edu`.\n",
    "\n",
    "You can login to the server via a terminal using your hmc username and password:\n",
    "\n",
    "`ssh <USERNAME>@teapot.ssh.hmc.edu`\n",
    "\n",
    "Then run the command:\n",
    "\n",
    "`source /cs/cs152/venv/bin/activate`\n",
    "\n",
    "to activate the course Python enviornment, followed by:\n",
    "\n",
    "`jupyter lab --no-browser`\n",
    "\n",
    "to start a Jupyter server (if you want to keep a server running you can use [tmux](https://www.redhat.com/sysadmin/introduction-tmux-linux)). At the end of the Jupyter startup output you should see a line like this:\n",
    "\n",
    "![image.png](attachment:image.png)\n",
    "\n",
    "This tells us the port and password we need to access the server remotely. In order to access the server we'll start an ssh tunnel. Open a new terminal window and run the command:\n",
    "\n",
    "`ssh -L 9000:localhost:<PORT> <USERNAME>@teapot.cs.hmc.edu`\n",
    "\n",
    "Where `<PORT>` is the port output from JupyterLab above (`8888` in the example image). `9000` is a local network port for your compute to access the server. If `9000` is in use, you can change the number to something different. Once the ssh tunnel is running you can access the notebook server by navigating to `http://localhost:9000/lab` in a web browser.\n",
    "\n",
    "You can also setup VSCode to connect to this server. At the top right of the window click the kernel menu:\n",
    "\n",
    "![image-2.png](attachment:image-2.png)\n",
    "\n",
    "You should see the following popup:\n",
    "\n",
    "![image-3.png](attachment:image-3.png)\n",
    "\n",
    "Click `Select another kernel`, then `Existing Jupyter Server` and paste the address from above:\n",
    "\n",
    "![image-6.png](attachment:image-6.png)\n",
    "![image-5.png](attachment:image-5.png)\n",
    "\n",
    "Paste the token from the Jupyter output when prompted for a password. If given multiple kernel options, select `Python3`. You should now be running the notebook code remotely!"
   ]
  },
  {
   "cell_type": "markdown",
   "id": "17e5146b",
   "metadata": {
    "id": "17e5146b"
   },
   "source": [
    "## Option 2: Google Colab\n",
    "\n"
   ]
  },
  {
   "cell_type": "markdown",
   "id": "14abfa3e",
   "metadata": {
    "id": "14abfa3e"
   },
   "source": [
    "If you are unable to get the course server to work, another option is to use Google's Colab service which provides a simple way to run GPU-accelerated Jupyter notebooks on the web.\n",
    "\n",
    "To start, go to: `https://colab.research.google.com/`"
   ]
  },
  {
   "cell_type": "markdown",
   "id": "dce6a285",
   "metadata": {
    "id": "dce6a285"
   },
   "source": [
    "![image.png](attachment:image.png)\n",
    "\n",
    "Upload this notebook by either going to the upload tab on the welcome screen or selecting `file->upload notebook` in the top menu.\n",
    "\n",
    "Once you open the notebook, you'll want to add a GPU. To do this navigate to `runtime->change runtime type` in the top menu.\n",
    "\n",
    "![image-2.png](attachment:image-2.png)\n",
    "\n",
    "In the popup menu select `T4 GPU` and click save.\n",
    "\n",
    "![image-3.png](attachment:image-3.png)\n",
    "\n",
    "Now you should be able to run the notebook! Once you've completed the assignment, you can download the notebook to submit it as usual."
   ]
  },
  {
   "cell_type": "markdown",
   "id": "b09b1925",
   "metadata": {
    "id": "b09b1925"
   },
   "source": [
    "# Support Code\n",
    "\n",
    "**There are no problems in this section, but you should read and try to understand the code being shown. Make sure to run all the cells in this section as well.**"
   ]
  },
  {
   "cell_type": "markdown",
   "id": "2f3c955e",
   "metadata": {
    "id": "2f3c955e"
   },
   "source": [
    "## Set Hyperparameters"
   ]
  },
  {
   "cell_type": "code",
   "execution_count": 7,
   "id": "7610e0d6",
   "metadata": {
    "id": "7610e0d6"
   },
   "outputs": [],
   "source": [
    "import torch\n",
    "import torch.nn as nn\n",
    "from torch.utils.data import DataLoader\n",
    "import numpy as np\n",
    "\n",
    "from torchsummary import summary\n",
    "\n",
    "from torchvision.datasets import FashionMNIST\n",
    "from torchvision.transforms import Compose, Normalize, ToTensor\n",
    "\n",
    "from fastprogress.fastprogress import master_bar, progress_bar\n",
    "\n",
    "import matplotlib.pyplot as plt"
   ]
  },
  {
   "cell_type": "code",
   "execution_count": 4,
   "id": "1b77abda",
   "metadata": {
    "id": "1b77abda"
   },
   "outputs": [
    {
     "name": "stdout",
     "output_type": "stream",
     "text": [
      "Using 'cpu' device.\n"
     ]
    }
   ],
   "source": [
    "# Use the GPUs if they are available\n",
    "device = \"cuda\" if torch.cuda.is_available() else \"cpu\"\n",
    "print(f\"Using '{device}' device.\")\n",
    "\n",
    "# Model hyperparameters\n",
    "neurons_per_hidden_layer = [20] * 2\n",
    "\n",
    "# Mini-Batch SGD hyperparameters\n",
    "batch_size = 256\n",
    "num_epochs = 10\n",
    "learning_rate = 0.001\n",
    "\n",
    "criterion = nn.CrossEntropyLoss()"
   ]
  },
  {
   "cell_type": "markdown",
   "id": "17a4ad36",
   "metadata": {
    "id": "17a4ad36"
   },
   "source": [
    "## Prepare the Dataset"
   ]
  },
  {
   "cell_type": "code",
   "execution_count": 5,
   "id": "4cb6a069",
   "metadata": {
    "id": "4cb6a069"
   },
   "outputs": [],
   "source": [
    "def get_fmnist_data_loaders(path, batch_size, valid_batch_size=0):\n",
    "    # Computing normalization constants for Fashion-MNIST (commented out since we only need to do this once)\n",
    "    # train_loader, valid_loader = get_fmnist_data_loaders(data_path, 0)\n",
    "    # X, _ = next(iter(train_loader))\n",
    "    # s, m = torch.std_mean(X)\n",
    "\n",
    "\n",
    "    # Data specific transforms\n",
    "    data_mean = (0.2860,)\n",
    "    data_std = (0.3530,)\n",
    "    xforms = Compose([ToTensor(), Normalize(data_mean, data_std)])\n",
    "\n",
    "    # Training data loader\n",
    "    train_dataset = FashionMNIST(root=path, train=True, download=True, transform=xforms)\n",
    "\n",
    "    # Set the batch size to N if batch_size is 0\n",
    "    tbs = len(train_dataset) if batch_size == 0 else batch_size\n",
    "    train_loader = DataLoader(train_dataset, batch_size=tbs, shuffle=True)\n",
    "\n",
    "    # Validation data loader\n",
    "    valid_dataset = FashionMNIST(root=path, train=False, download=True, transform=xforms)\n",
    "\n",
    "    # Set the batch size to N if batch_size is 0\n",
    "    vbs = len(valid_dataset) if valid_batch_size == 0 else valid_batch_size\n",
    "    valid_loader = DataLoader(valid_dataset, batch_size=vbs, shuffle=True)\n",
    "\n",
    "    return train_loader, valid_loader"
   ]
  },
  {
   "cell_type": "code",
   "execution_count": 6,
   "id": "35d78186",
   "metadata": {
    "id": "35d78186"
   },
   "outputs": [
    {
     "ename": "OSError",
     "evalue": "[Errno 30] Read-only file system: '/cs'",
     "output_type": "error",
     "traceback": [
      "\u001b[0;31m---------------------------------------------------------------------------\u001b[0m",
      "\u001b[0;31mOSError\u001b[0m                                   Traceback (most recent call last)",
      "Cell \u001b[0;32mIn[6], line 2\u001b[0m\n\u001b[1;32m      1\u001b[0m \u001b[38;5;66;03m# Load the example dataset (Fashion MNIST)\u001b[39;00m\n\u001b[0;32m----> 2\u001b[0m train_loader, valid_loader \u001b[38;5;241m=\u001b[39m \u001b[43mget_fmnist_data_loaders\u001b[49m\u001b[43m(\u001b[49m\u001b[43mdata_path\u001b[49m\u001b[43m,\u001b[49m\u001b[43m \u001b[49m\u001b[43mbatch_size\u001b[49m\u001b[43m)\u001b[49m\n\u001b[1;32m      4\u001b[0m \u001b[38;5;28mprint\u001b[39m(\u001b[38;5;124m\"\u001b[39m\u001b[38;5;124mTraining dataset shape   :\u001b[39m\u001b[38;5;124m\"\u001b[39m, train_loader\u001b[38;5;241m.\u001b[39mdataset\u001b[38;5;241m.\u001b[39mdata\u001b[38;5;241m.\u001b[39mshape)\n\u001b[1;32m      5\u001b[0m \u001b[38;5;28mprint\u001b[39m(\u001b[38;5;124m\"\u001b[39m\u001b[38;5;124mValidation dataset shape :\u001b[39m\u001b[38;5;124m\"\u001b[39m, valid_loader\u001b[38;5;241m.\u001b[39mdataset\u001b[38;5;241m.\u001b[39mdata\u001b[38;5;241m.\u001b[39mshape)\n",
      "Cell \u001b[0;32mIn[5], line 14\u001b[0m, in \u001b[0;36mget_fmnist_data_loaders\u001b[0;34m(path, batch_size, valid_batch_size)\u001b[0m\n\u001b[1;32m     11\u001b[0m xforms \u001b[38;5;241m=\u001b[39m Compose([ToTensor(), Normalize(data_mean, data_std)])\n\u001b[1;32m     13\u001b[0m \u001b[38;5;66;03m# Training data loader\u001b[39;00m\n\u001b[0;32m---> 14\u001b[0m train_dataset \u001b[38;5;241m=\u001b[39m \u001b[43mFashionMNIST\u001b[49m\u001b[43m(\u001b[49m\u001b[43mroot\u001b[49m\u001b[38;5;241;43m=\u001b[39;49m\u001b[43mpath\u001b[49m\u001b[43m,\u001b[49m\u001b[43m \u001b[49m\u001b[43mtrain\u001b[49m\u001b[38;5;241;43m=\u001b[39;49m\u001b[38;5;28;43;01mTrue\u001b[39;49;00m\u001b[43m,\u001b[49m\u001b[43m \u001b[49m\u001b[43mdownload\u001b[49m\u001b[38;5;241;43m=\u001b[39;49m\u001b[38;5;28;43;01mTrue\u001b[39;49;00m\u001b[43m,\u001b[49m\u001b[43m \u001b[49m\u001b[43mtransform\u001b[49m\u001b[38;5;241;43m=\u001b[39;49m\u001b[43mxforms\u001b[49m\u001b[43m)\u001b[49m\n\u001b[1;32m     16\u001b[0m \u001b[38;5;66;03m# Set the batch size to N if batch_size is 0\u001b[39;00m\n\u001b[1;32m     17\u001b[0m tbs \u001b[38;5;241m=\u001b[39m \u001b[38;5;28mlen\u001b[39m(train_dataset) \u001b[38;5;28;01mif\u001b[39;00m batch_size \u001b[38;5;241m==\u001b[39m \u001b[38;5;241m0\u001b[39m \u001b[38;5;28;01melse\u001b[39;00m batch_size\n",
      "File \u001b[0;32m~/Documents/Courses/cs152.github.io/.venv/lib/python3.12/site-packages/torchvision/datasets/mnist.py:100\u001b[0m, in \u001b[0;36mMNIST.__init__\u001b[0;34m(self, root, train, transform, target_transform, download)\u001b[0m\n\u001b[1;32m     97\u001b[0m     \u001b[38;5;28;01mreturn\u001b[39;00m\n\u001b[1;32m     99\u001b[0m \u001b[38;5;28;01mif\u001b[39;00m download:\n\u001b[0;32m--> 100\u001b[0m     \u001b[38;5;28;43mself\u001b[39;49m\u001b[38;5;241;43m.\u001b[39;49m\u001b[43mdownload\u001b[49m\u001b[43m(\u001b[49m\u001b[43m)\u001b[49m\n\u001b[1;32m    102\u001b[0m \u001b[38;5;28;01mif\u001b[39;00m \u001b[38;5;129;01mnot\u001b[39;00m \u001b[38;5;28mself\u001b[39m\u001b[38;5;241m.\u001b[39m_check_exists():\n\u001b[1;32m    103\u001b[0m     \u001b[38;5;28;01mraise\u001b[39;00m \u001b[38;5;167;01mRuntimeError\u001b[39;00m(\u001b[38;5;124m\"\u001b[39m\u001b[38;5;124mDataset not found. You can use download=True to download it\u001b[39m\u001b[38;5;124m\"\u001b[39m)\n",
      "File \u001b[0;32m~/Documents/Courses/cs152.github.io/.venv/lib/python3.12/site-packages/torchvision/datasets/mnist.py:180\u001b[0m, in \u001b[0;36mMNIST.download\u001b[0;34m(self)\u001b[0m\n\u001b[1;32m    177\u001b[0m \u001b[38;5;28;01mif\u001b[39;00m \u001b[38;5;28mself\u001b[39m\u001b[38;5;241m.\u001b[39m_check_exists():\n\u001b[1;32m    178\u001b[0m     \u001b[38;5;28;01mreturn\u001b[39;00m\n\u001b[0;32m--> 180\u001b[0m \u001b[43mos\u001b[49m\u001b[38;5;241;43m.\u001b[39;49m\u001b[43mmakedirs\u001b[49m\u001b[43m(\u001b[49m\u001b[38;5;28;43mself\u001b[39;49m\u001b[38;5;241;43m.\u001b[39;49m\u001b[43mraw_folder\u001b[49m\u001b[43m,\u001b[49m\u001b[43m \u001b[49m\u001b[43mexist_ok\u001b[49m\u001b[38;5;241;43m=\u001b[39;49m\u001b[38;5;28;43;01mTrue\u001b[39;49;00m\u001b[43m)\u001b[49m\n\u001b[1;32m    182\u001b[0m \u001b[38;5;66;03m# download files\u001b[39;00m\n\u001b[1;32m    183\u001b[0m \u001b[38;5;28;01mfor\u001b[39;00m filename, md5 \u001b[38;5;129;01min\u001b[39;00m \u001b[38;5;28mself\u001b[39m\u001b[38;5;241m.\u001b[39mresources:\n",
      "File \u001b[0;32m<frozen os>:215\u001b[0m, in \u001b[0;36mmakedirs\u001b[0;34m(name, mode, exist_ok)\u001b[0m\n",
      "File \u001b[0;32m<frozen os>:215\u001b[0m, in \u001b[0;36mmakedirs\u001b[0;34m(name, mode, exist_ok)\u001b[0m\n",
      "    \u001b[0;31m[... skipping similar frames: makedirs at line 215 (1 times)]\u001b[0m\n",
      "File \u001b[0;32m<frozen os>:215\u001b[0m, in \u001b[0;36mmakedirs\u001b[0;34m(name, mode, exist_ok)\u001b[0m\n",
      "File \u001b[0;32m<frozen os>:225\u001b[0m, in \u001b[0;36mmakedirs\u001b[0;34m(name, mode, exist_ok)\u001b[0m\n",
      "\u001b[0;31mOSError\u001b[0m: [Errno 30] Read-only file system: '/cs'"
     ]
    }
   ],
   "source": [
    "# Load the example dataset (Fashion MNIST)\n",
    "train_loader, valid_loader = get_fmnist_data_loaders(data_path, batch_size)\n",
    "\n",
    "print(\"Training dataset shape   :\", train_loader.dataset.data.shape)\n",
    "print(\"Validation dataset shape :\", valid_loader.dataset.data.shape)"
   ]
  },
  {
   "cell_type": "code",
   "execution_count": null,
   "id": "60a58188",
   "metadata": {
    "id": "60a58188"
   },
   "outputs": [],
   "source": [
    "# Let's plot a few images as an example\n",
    "num_to_show = 8\n",
    "images = train_loader.dataset.data[:num_to_show]\n",
    "targets = train_loader.dataset.targets[:num_to_show]\n",
    "labels = [train_loader.dataset.classes[t] for t in targets]\n",
    "\n",
    "fig, axes = plt.subplots(1, num_to_show)\n",
    "\n",
    "for axis, image, label in zip(axes, images, labels):\n",
    "    axis.imshow(image.squeeze(), cmap=\"Greys\")\n",
    "    axis.tick_params(left=False, bottom=False, labelleft=False, labelbottom=False)\n",
    "    axis.set_xticks([])\n",
    "    axis.set_yticks([])\n",
    "    axis.set_title(f\"{label}\")"
   ]
  },
  {
   "cell_type": "markdown",
   "id": "6b5d50c0",
   "metadata": {
    "id": "6b5d50c0"
   },
   "source": [
    "## Create a Neural Network"
   ]
  },
  {
   "cell_type": "code",
   "execution_count": null,
   "id": "6e55f6e8",
   "metadata": {
    "id": "6e55f6e8"
   },
   "outputs": [],
   "source": [
    "class Layer(nn.Module):\n",
    "    # This class will represent a basic neural network layer with a linear function\n",
    "    # and an activation (in this case ReLU)\n",
    "    def __init__(self, in_dimensions, out_dimensions):\n",
    "        super().__init__()\n",
    "        self.linear = nn.Linear(in_dimensions, out_dimensions)\n",
    "        self.activation = nn.ReLU()\n",
    "\n",
    "    def forward(self, x):\n",
    "        x = self.linear(x)\n",
    "        x = self.activation(x)\n",
    "        return x\n",
    "\n",
    "class NeuralNetwork(nn.Module):\n",
    "    def __init__(self, layer_sizes, layer_class=Layer):\n",
    "        super(NeuralNetwork, self).__init__()\n",
    "\n",
    "        # The first \"layer\" just rearranges the Nx28x28 input into Nx784\n",
    "        first_layer = nn.Flatten()\n",
    "\n",
    "        # The hidden layers include:\n",
    "        # 1. a linear component (computing Z) and\n",
    "        # 2. a non-linear comonent (computing A)\n",
    "        hidden_layers = [\n",
    "            (layer_class(nlminus1, nl) if nlminus1 == nl else Layer(nlminus1, nl))\n",
    "            for nl, nlminus1 in zip(layer_sizes[1:-1], layer_sizes)\n",
    "        ]\n",
    "\n",
    "        # The output layer must be Linear without an activation. See:\n",
    "        #   https://pytorch.org/docs/stable/generated/torch.nn.CrossEntropyLoss.html\n",
    "        output_layer = nn.Linear(layer_sizes[-2], layer_sizes[-1])\n",
    "\n",
    "        # Group all layers into the sequential container\n",
    "        all_layers = [first_layer] + hidden_layers + [output_layer]\n",
    "        self.layers = nn.Sequential(*all_layers)\n",
    "\n",
    "    def forward(self, X):\n",
    "        return self.layers(X)"
   ]
  },
  {
   "cell_type": "markdown",
   "id": "572bc1ac",
   "metadata": {
    "id": "572bc1ac"
   },
   "source": [
    "## Implement an Optimizer"
   ]
  },
  {
   "cell_type": "code",
   "execution_count": null,
   "id": "c51fed50",
   "metadata": {
    "id": "c51fed50"
   },
   "outputs": [],
   "source": [
    "class SGDOptimizer:\n",
    "    def __init__(self, parameters, lr=0.01):\n",
    "        # Set the learning rate\n",
    "        self.lr = lr\n",
    "        # Store the set of parameters that we'll be optimizing\n",
    "        self.parameters = list(parameters)\n",
    "\n",
    "    def step(self):\n",
    "        # Take a step of gradient descent\n",
    "        for ind, parameter in enumerate(self.parameters):\n",
    "            # Compute the update to the parameter\n",
    "            update = self.lr * parameter.grad\n",
    "\n",
    "            # Update the parameter: w <- w - lr * grad\n",
    "            parameter -= update"
   ]
  },
  {
   "cell_type": "markdown",
   "id": "118c4f7f",
   "metadata": {
    "id": "118c4f7f"
   },
   "source": [
    "## Train Classifier"
   ]
  },
  {
   "cell_type": "code",
   "execution_count": null,
   "id": "2f98f2bf",
   "metadata": {
    "id": "2f98f2bf"
   },
   "outputs": [],
   "source": [
    "# Here we'll define a function to train and evaluate a neural network with a specified architecture\n",
    "# using a specified optimizer.\n",
    "def run_model(optimizer=SGDOptimizer,\n",
    "              layer_type=Layer,\n",
    "              number_of_hidden_layers=2,\n",
    "              neurons_per_hidden_layer=20,\n",
    "              learning_rate=0.001):\n",
    "\n",
    "    # Get the dataset\n",
    "    train_loader, valid_loader = get_fmnist_data_loaders(data_path, batch_size)\n",
    "\n",
    "    # The input layer size depends on the dataset\n",
    "    nx = train_loader.dataset.data.shape[1:].numel()\n",
    "\n",
    "    # The output layer size depends on the dataset\n",
    "    ny = len(train_loader.dataset.classes)\n",
    "\n",
    "    # Preprend the input and append the output layer sizes\n",
    "    layer_sizes = [nx] + [neurons_per_hidden_layer] * number_of_hidden_layers + [ny]\n",
    "\n",
    "    # Do model creation here so that the model is recreated each time the cell is run\n",
    "    model = NeuralNetwork(layer_sizes, layer_type).to(device)\n",
    "\n",
    "    t = 0\n",
    "    # Create the optimizer, just like we have with the built-in optimizer\n",
    "    opt = optimizer(model.parameters(), learning_rate)\n",
    "\n",
    "    # A master bar for fancy output progress\n",
    "    mb = master_bar(range(num_epochs))\n",
    "\n",
    "    # Information for plots\n",
    "    mb.names = [\"Train Loss\", \"Valid Loss\"]\n",
    "    train_losses = []\n",
    "    valid_losses = []\n",
    "\n",
    "    for epoch in mb:\n",
    "\n",
    "        #\n",
    "        # Training\n",
    "        #\n",
    "        model.train()\n",
    "\n",
    "        train_N = len(train_loader.dataset)\n",
    "        num_train_batches = len(train_loader)\n",
    "        train_dataiterator = iter(train_loader)\n",
    "\n",
    "        train_loss_mean = 0\n",
    "\n",
    "        for batch in progress_bar(range(num_train_batches), parent=mb):\n",
    "\n",
    "            # Grab the batch of data and send it to the correct device\n",
    "            train_X, train_Y = next(train_dataiterator)\n",
    "            train_X, train_Y = train_X.to(device), train_Y.to(device)\n",
    "\n",
    "            # Compute the output\n",
    "            train_output = model(train_X)\n",
    "\n",
    "            # Compute loss\n",
    "            train_loss = criterion(train_output, train_Y)\n",
    "\n",
    "            num_in_batch = len(train_X)\n",
    "            tloss = train_loss.item() * num_in_batch / train_N\n",
    "            train_loss_mean += tloss\n",
    "            train_losses.append(train_loss.item())\n",
    "\n",
    "            # Compute gradient\n",
    "            model.zero_grad()\n",
    "            train_loss.backward()\n",
    "\n",
    "            # Take a step of gradient descent\n",
    "            t += 1\n",
    "            with torch.no_grad():\n",
    "                opt.step()\n",
    "\n",
    "        #\n",
    "        # Validation\n",
    "        #\n",
    "        model.eval()\n",
    "\n",
    "        valid_N = len(valid_loader.dataset)\n",
    "        num_valid_batches = len(valid_loader)\n",
    "\n",
    "        valid_loss_mean = 0\n",
    "        valid_correct = 0\n",
    "\n",
    "        with torch.no_grad():\n",
    "\n",
    "            # valid_loader is probably just one large batch, so not using progress bar\n",
    "            for valid_X, valid_Y in valid_loader:\n",
    "\n",
    "                valid_X, valid_Y = valid_X.to(device), valid_Y.to(device)\n",
    "\n",
    "                valid_output = model(valid_X)\n",
    "\n",
    "                valid_loss = criterion(valid_output, valid_Y)\n",
    "\n",
    "                num_in_batch = len(valid_X)\n",
    "                vloss = valid_loss.item() * num_in_batch / valid_N\n",
    "                valid_loss_mean += vloss\n",
    "                valid_losses.append(valid_loss.item())\n",
    "\n",
    "                # Convert network output into predictions (one-hot -> number)\n",
    "                predictions = valid_output.argmax(1)\n",
    "\n",
    "                # Sum up total number that were correct\n",
    "                valid_correct += (predictions == valid_Y).type(torch.float).sum().item()\n",
    "\n",
    "        valid_accuracy = 100 * (valid_correct / valid_N)\n",
    "\n",
    "        # Report information\n",
    "        tloss = f\"Train Loss = {train_loss_mean:.4f}\"\n",
    "        vloss = f\"Valid Loss = {valid_loss_mean:.4f}\"\n",
    "        vaccu = f\"Valid Accuracy = {(valid_accuracy):>0.1f}%\"\n",
    "        mb.write(f\"[{epoch+1:>2}/{num_epochs}] {tloss}; {vloss}; {vaccu}\")\n",
    "\n",
    "        # Update plot data\n",
    "        max_loss = max(max(train_losses), max(valid_losses))\n",
    "        min_loss = min(min(train_losses), min(valid_losses))\n",
    "\n",
    "        x_margin = 0.2\n",
    "        x_bounds = [0 - x_margin, num_epochs + x_margin]\n",
    "\n",
    "        y_margin = 0.1\n",
    "        y_bounds = [min_loss - y_margin, max_loss + y_margin]\n",
    "\n",
    "        valid_Xaxis = torch.linspace(0, epoch + 1, len(train_losses))\n",
    "        valid_xaxis = torch.linspace(1, epoch + 1, len(valid_losses))\n",
    "        graph_data = [[valid_Xaxis, train_losses], [valid_xaxis, valid_losses]]\n",
    "\n",
    "        mb.update_graph(graph_data, x_bounds, y_bounds)\n",
    "\n",
    "    print(f\"[{epoch+1:>2}/{num_epochs}] {tloss}; {vloss}; {vaccu}\")\n",
    "\n",
    "run_model()"
   ]
  },
  {
   "cell_type": "markdown",
   "id": "81ba602d",
   "metadata": {},
   "source": [
    "# Part 1: Expectation and Variance"
   ]
  },
  {
   "cell_type": "markdown",
   "id": "67a2e04b",
   "metadata": {},
   "source": [
    "To get a sense of how we might think about stochastic gradient descent, let's imagine a very simple stochastic optimizer in a somewhat ideal world.\n",
    "\n",
    "At each step our optimizer will have one of two possible outcomes:\n",
    "\n",
    "- With a $75\\%$ chance (probability $0.75$), our optimizer works well and *decreases* the loss by $10$.\n",
    "- However with a $25\\%$ chance (probability $0.25$) our optimizer gets a bad result and *increases* the loss by $20$.\n",
    "\n",
    "The code below simulates a loss trace for this world."
   ]
  },
  {
   "cell_type": "code",
   "execution_count": 13,
   "id": "46f2d158",
   "metadata": {},
   "outputs": [
    {
     "data": {
      "image/png": "[encoded data removed]",
      "text/plain": [
       "<Figure size 640x480 with 1 Axes>"
      ]
     },
     "metadata": {},
     "output_type": "display_data"
    }
   ],
   "source": [
    "loss_trace = [0]\n",
    "for i in range(100):\n",
    "    if np.random.rand() < 0.75:\n",
    "        loss_trace.append(loss_trace[-1] - 10)\n",
    "    else:\n",
    "        loss_trace.append(loss_trace[-1] + 20)\n",
    "\n",
    "plt.plot(loss_trace); plt.xlabel('step'); plt.ylabel('loss');\n",
    "plt.title('Our simulated optimizer');"
   ]
  },
  {
   "cell_type": "markdown",
   "id": "e31653e5",
   "metadata": {},
   "source": [
    "#### **Q1**\n",
    "\n",
    "Assuming our loss starts at $0$, (we'll say $L^{(0)} = 0$). What is the *expected value* of the loss after $100$ steps?"
   ]
  },
  {
   "cell_type": "markdown",
   "id": "637ea36f",
   "metadata": {},
   "source": [
    "$$E\\left[L^{(100)}\\right] = \\mathbf{?}$$"
   ]
  },
  {
   "cell_type": "markdown",
   "id": "277c40ba",
   "metadata": {},
   "source": [
    "#### **Q2**\n",
    "\n",
    "What is the *variance* of the loss after 100 steps?"
   ]
  },
  {
   "cell_type": "markdown",
   "id": "49e2ddec",
   "metadata": {},
   "source": [
    "$$\\text{Var}\\left[L^{(100)}\\right] = \\mathbf{?}$$"
   ]
  },
  {
   "cell_type": "markdown",
   "id": "501b83fa",
   "metadata": {
    "id": "501b83fa"
   },
   "source": [
    "# Part 2: Optimizers"
   ]
  },
  {
   "cell_type": "markdown",
   "id": "7e3f4dd8",
   "metadata": {
    "id": "7e3f4dd8"
   },
   "source": [
    "In this part, we'll implement and test some of the optimizers that we learned about in class."
   ]
  },
  {
   "cell_type": "markdown",
   "id": "16036b1e",
   "metadata": {
    "id": "16036b1e"
   },
   "source": [
    "#### **Q3**\n",
    "\n",
    "Let's start with the *momentum optimizer*. Recall that the update equations for stochastic gradient descent with momentum can be written as follows:\n",
    "\n",
    "$$ \\mathbf{v}^{(k+1)} \\longleftarrow \\beta \\mathbf{v}^{(k)} + (1-\\beta) \\nabla_{\\mathbf{w}} \\textbf{Loss}(\\mathbf{w}^{(k)}, \\mathbf{x}_i, y_i)$$\n",
    "$$ \\mathbf{w}^{(k+1)} \\longleftarrow \\mathbf{w}^{(k)} - \\alpha v^{(k+1)}$$\n",
    "\n",
    "Refer to the SGDOptimizer implementation above to understand how our optimizer works. At a high level our optimizer class will:\n",
    "- Maintain a list of the parameters of a model.\n",
    "- Provide a `step()` method to update the parameters according to the update equations.\n",
    "\n",
    "As we saw last time, we assume that the optimizer is *not* responsible for computing gradients. When step is called, we assume each parameter knows the gradient of the loss with respect to itself. This value is stored in `parameter.grad`.\n",
    "\n",
    "Fill in the implementation of `MomentumOptimizer` below, according to the update equations above."
   ]
  },
  {
   "cell_type": "code",
   "execution_count": null,
   "id": "53a3e424",
   "metadata": {
    "id": "53a3e424"
   },
   "outputs": [],
   "source": [
    "class MomentumOptimizer(SGDOptimizer):\n",
    "    # Gradient descent with momentum\n",
    "    def __init__(self, parameters, lr=0.01, mu=0.9):\n",
    "        # Set the learning rate\n",
    "        self.lr = lr\n",
    "        # Set the momentum update rate\n",
    "        self.mu = mu\n",
    "        # Store the set of parameters that we'll be optimizing\n",
    "        self.parameters = list(parameters)\n",
    "        # Store the velocity for each parameter\n",
    "        self.velocity = [torch.zeros_like(param) for param in self.parameters]\n",
    "\n",
    "    def step(self):\n",
    "        # Take a step of gradient descent\n",
    "        for ind, parameter in enumerate(self.parameters):\n",
    "            # First update the velocity\n",
    "            self.velocity[ind] = # YOUR CODE HERE\n",
    "\n",
    "            # Then compute the update to the parameter\n",
    "            update = # YOUR CODE HERE\n",
    "\n",
    "            # Finally update the parameter as before\n",
    "            parameter -= update"
   ]
  },
  {
   "cell_type": "markdown",
   "id": "0044797a",
   "metadata": {
    "id": "0044797a"
   },
   "source": [
    "#### **Q4**\n",
    "Train and evaluate the model using the `MomentumOptimizer` by running the cell below. Do the results seem different from the `SGDOptimizer`? Why do you think this might be?"
   ]
  },
  {
   "cell_type": "markdown",
   "id": "82747e6b",
   "metadata": {
    "id": "82747e6b"
   },
   "source": [
    "YOUR ANSWER HERE"
   ]
  },
  {
   "cell_type": "code",
   "execution_count": null,
   "id": "787d3a64",
   "metadata": {
    "id": "787d3a64"
   },
   "outputs": [],
   "source": [
    "run_model(optimizer=MomentumOptimizer)"
   ]
  },
  {
   "cell_type": "markdown",
   "id": "215f3a9d",
   "metadata": {
    "id": "215f3a9d"
   },
   "source": [
    "#### **Q5**\n",
    "\n",
    "Now let's try the *RMSProp optimizer*. Recall that the update equations for RMSProp can be written as follows:\n",
    "\n",
    "$$ \\mathbf{s}^{(k+1)} \\longleftarrow \\beta \\mathbf{s}^{(k)} + (1-\\beta) (\\nabla_{\\mathbf{w}} \\textbf{Loss}(\\mathbf{w}^{(k)}, \\mathbf{X}, \\mathbf{y}))^2$$\n",
    "$$ \\mathbf{w}^{(k+1)} \\longleftarrow \\mathbf{w}^{(k)} - \\alpha \\frac{\\nabla_{\\mathbf{w}} \\textbf{Loss}(\\mathbf{w}^{(k)}, \\mathbf{X}, \\mathbf{y})}{\\sqrt{\\mathbf{s}^{(k+1)} + \\epsilon}}$$\n",
    "\n",
    "\n",
    "Fill in the implementation of `RMSPropOptimizer` below, according to the update equations above."
   ]
  },
  {
   "cell_type": "code",
   "execution_count": null,
   "id": "a31e146b",
   "metadata": {
    "id": "a31e146b"
   },
   "outputs": [],
   "source": [
    "epsilon = 1e-7\n",
    "class RMSPropOptimizer(SGDOptimizer):\n",
    "    # RMSProp Optimizer\n",
    "    def __init__(self, parameters, lr=0.01, beta=0.9):\n",
    "        # Set the learning rate\n",
    "        self.lr = lr\n",
    "        # Set the scale update rate\n",
    "        self.beta = beta\n",
    "        # Store the set of parameters that we'll be optimizing\n",
    "        self.parameters = list(parameters)\n",
    "\n",
    "        # Store any values that you'll need for RMSProp here\n",
    "        # YOUR CODE HERE\n",
    "\n",
    "    def step(self):\n",
    "        # Take a step of gradient descent\n",
    "        for ind, parameter in enumerate(self.parameters):\n",
    "            # First compute any updates needed for RMSProp here\n",
    "            # YOUR CODE HERE\n",
    "\n",
    "            # Then compute the update to the parameter\n",
    "            update = # YOUR CODE HERE\n",
    "\n",
    "            # Finally update the parameter as before\n",
    "            parameter -= update"
   ]
  },
  {
   "cell_type": "markdown",
   "id": "bffb45a0",
   "metadata": {
    "id": "bffb45a0"
   },
   "source": [
    "#### **Q6**\n",
    "Train and evaluate the model using the `RMSPropOptimizer` by running the cell below. Do the results seem different from the `SGDOptimizer`? Why do you think this might be?"
   ]
  },
  {
   "cell_type": "code",
   "execution_count": null,
   "id": "7f897871",
   "metadata": {
    "id": "7f897871"
   },
   "outputs": [],
   "source": [
    "run_model(optimizer=RMSPropOptimizer)"
   ]
  },
  {
   "cell_type": "markdown",
   "id": "dd62ea39",
   "metadata": {
    "id": "dd62ea39"
   },
   "source": [
    "#### **Q7**\n",
    "\n",
    "Finally let's try the *Adam optimizer*. Recall that the update equations for Adam can be written as follows:\n",
    "\n",
    "$$ \\mathbf{v}^{(k+1)} \\longleftarrow \\beta_1 \\mathbf{v}^{(k)} + (1-\\beta_1) \\nabla_{\\mathbf{w}} \\textbf{Loss}(\\mathbf{w}^{(k)}, \\mathbf{X}, \\mathbf{y})$$\n",
    "$$ \\mathbf{s}^{(k+1)} \\longleftarrow \\beta_2 \\mathbf{s}^{(k)} + (1-\\beta_2) (\\nabla_{\\mathbf{w}} \\textbf{Loss}(\\mathbf{w}^{(k)}, \\mathbf{X}, \\mathbf{y}))^2$$\n",
    "$$ \\mathbf{w}^{(k+1)} \\longleftarrow \\mathbf{w}^{(k)} - \\alpha \\frac{\\frac{\\mathbf{v}^{(k+1)}}{(1-\\beta_1^k)}\n",
    "}{\\sqrt{\\frac{\\mathbf{s}^{(k+1)}}{(1-\\beta_2^k)} + \\epsilon}}$$\n",
    "\n",
    "\n",
    "Fill in the implementation of `AdamOptimizer` below, according to the update equations above."
   ]
  },
  {
   "cell_type": "code",
   "execution_count": null,
   "id": "b23a7c5c",
   "metadata": {
    "id": "b23a7c5c"
   },
   "outputs": [],
   "source": [
    "epsilon = 1e-7\n",
    "class AdamOptimizer(SGDOptimizer):\n",
    "    # Adam optimizer\n",
    "    def __init__(self, parameters, lr=0.01, beta1=0.9, beta2=0.99):\n",
    "        # Set the learning rate\n",
    "        self.lr = lr\n",
    "        # Set the scale update rate\n",
    "        self.beta1 = beta1\n",
    "        self.beta2 = beta2\n",
    "\n",
    "        # Store the set of parameters that we'll be optimizing\n",
    "        self.parameters = list(parameters)\n",
    "        # Store any values that you'll need for Adam here\n",
    "        # YOUR CODE HERE\n",
    "\n",
    "    def step(self):\n",
    "        # Take a step of gradient descent\n",
    "        for ind, parameter in enumerate(self.parameters):\n",
    "            # First compute any updates needed for Adam here\n",
    "            # YOUR CODE HERE\n",
    "\n",
    "            # Then compute the update to the parameter\n",
    "            update = # YOUR CODE HERE\n",
    "\n",
    "            # Finally update the parameter as before\n",
    "            parameter -= update"
   ]
  },
  {
   "cell_type": "markdown",
   "id": "ef2f4f2f",
   "metadata": {
    "id": "ef2f4f2f"
   },
   "source": [
    "#### **Q8**\n",
    "Train and evaluate the model using the `AdamOptimizer` by running the cell below. Do the results seem different from the `SGDOptimizer`? Why do you think this might be?"
   ]
  },
  {
   "cell_type": "code",
   "execution_count": null,
   "id": "db991b96",
   "metadata": {
    "id": "db991b96"
   },
   "outputs": [],
   "source": [
    "run_model(optimizer=AdamOptimizer)"
   ]
  },
  {
   "cell_type": "markdown",
   "id": "c17e6bf9",
   "metadata": {
    "id": "c17e6bf9"
   },
   "source": [
    "# Part 2: Normalization and Residual Networks"
   ]
  },
  {
   "cell_type": "markdown",
   "id": "72fdf4e8",
   "metadata": {
    "id": "72fdf4e8"
   },
   "source": [
    "#### **Q9**\n",
    "\n",
    "Try training a 20 layer network by running the cell below. What do you notice happening? Why does this happen?"
   ]
  },
  {
   "cell_type": "markdown",
   "id": "86dbd3b5",
   "metadata": {
    "id": "86dbd3b5"
   },
   "source": [
    "YOUR ANSWER HERE"
   ]
  },
  {
   "cell_type": "code",
   "execution_count": null,
   "id": "7fa1733b",
   "metadata": {
    "id": "7fa1733b"
   },
   "outputs": [],
   "source": [
    "run_model(number_of_hidden_layers=20)"
   ]
  },
  {
   "cell_type": "markdown",
   "id": "0914e51a",
   "metadata": {
    "id": "0914e51a"
   },
   "source": [
    "#### **Q10**\n",
    "\n",
    "Let's try applying normalization, starting with *Layer Normalization*.\n",
    "\n",
    "Assume we have a data matrix $\\mathbf{X} \\in \\mathbb{R}^{N \\times d}$, (i.e. $\\mathbf{X}$ is an $N \\times d$ matrix), such that:\n",
    "$$N:\\ \\text{Number of observations}$$\n",
    "$$d:\\ \\text{Number of features}$$\n",
    "Then we can define layer normalization as a function that normalizes the *rows* of this matrix. We can define this function element-wise as:\n",
    "$$\\text{LayerNorm}(\\mathbf{X})_{ij} = \\frac{\\mathbf{X}_{ij} - \\mathbf{\\bar{x}}_i}{\\sqrt{\\mathbf{s}^2_{i} + \\epsilon}}$$\n",
    "$$\\mathbf{\\bar{x}}_i = \\frac{1}{d} \\sum_{k=1}^d \\mathbf{X}_{ik}, \\quad \\mathbf{s}^2_{i} = \\frac{1}{d-1}\\sum_{k=1}^d \\big( \\mathbf{X}_{ik} - \\mathbf{\\bar{x}}_i \\big)^2$$\n",
    "\n",
    "Complete the implementation of Layer Normalization below:"
   ]
  },
  {
   "cell_type": "code",
   "execution_count": null,
   "id": "32d98cf9",
   "metadata": {
    "id": "32d98cf9"
   },
   "outputs": [],
   "source": [
    "epsilon = 1e-7\n",
    "class LayerNorm(nn.Module):\n",
    "    def __init__(self):\n",
    "        super().__init__()\n",
    "\n",
    "    def forward(self, x):\n",
    "        # YOUR CODE HERE\n",
    "\n",
    "# Replace our Layer class with one that includes layer normalization\n",
    "class LayerNormLayer(nn.Module):\n",
    "    def __init__(self, in_dimensions, out_dimensions):\n",
    "        super().__init__()\n",
    "        self.linear = nn.Linear(in_dimensions, out_dimensions)\n",
    "        self.layer_norm = LayerNorm()\n",
    "        self.activation = nn.ReLU()\n",
    "\n",
    "    def forward(self, x):\n",
    "        x = self.linear(x)\n",
    "        x = self.layer_norm(x)\n",
    "        x = self.activation(x)\n",
    "        return x"
   ]
  },
  {
   "cell_type": "markdown",
   "id": "41f5bada",
   "metadata": {
    "id": "41f5bada"
   },
   "source": [
    "#### **Q11**\n",
    "\n",
    "Train and evaluate a 20-layer network with layer normalization by running the cell below. What changed from the run without layer normalization? Why?"
   ]
  },
  {
   "cell_type": "markdown",
   "id": "7f28cafa",
   "metadata": {
    "id": "7f28cafa"
   },
   "source": [
    "YOUR ANSWER HERE"
   ]
  },
  {
   "cell_type": "code",
   "execution_count": null,
   "id": "d8c79d66",
   "metadata": {
    "id": "d8c79d66"
   },
   "outputs": [],
   "source": [
    "run_model(number_of_hidden_layers=20, layer_type=LayerNormLayer)"
   ]
  },
  {
   "cell_type": "markdown",
   "id": "6a274f03",
   "metadata": {
    "id": "6a274f03"
   },
   "source": [
    "#### **Q12**\n",
    "\n",
    "Now let's try a *Batch Normalization*.\n",
    "\n",
    "Assume we have the same data matrix $\\mathbf{X} \\in \\mathbb{R}^{N \\times d}$ described above.\n",
    "\n",
    "We can define batch normalization as a function that normalizes the *columns* of this matrix. We can define this function element-wise as:\n",
    "$$\\text{BatchNorm}(\\mathbf{X})_{ij} = \\frac{\\mathbf{X}_{ij} - \\mathbf{\\bar{x}}_j}{\\sqrt{\\mathbf{s}^2_{j} + \\epsilon}}$$\n",
    "$$\\mathbf{\\bar{x}}_j = \\frac{1}{d} \\sum_{k=1}^d \\mathbf{X}_{kj}, \\quad \\mathbf{s}^2_{j} = \\frac{1}{d-1}\\sum_{k=1}^d \\big( \\mathbf{X}_{kj} - \\mathbf{\\bar{x}}_j \\big)^2$$\n",
    "Recall that at *training time* we will also update running estimates of the batch mean and variance:\n",
    "$$\\mathbf{\\bar{\\mu}}_j^{(k+1)} \\longleftarrow \\beta \\mathbf{\\bar{\\mu}}^{(k)}_j + (1-\\beta) \\mathbf{\\bar{x}}_j$$\n",
    "$$\\mathbf{\\bar{\\sigma}}_j^{2(k+1)} \\longleftarrow \\beta \\mathbf{\\bar{\\sigma}}^{2(k)}_j + (1-\\beta) \\mathbf{\\bar{s}}^2_j$$\n",
    "At *test/evaluation* time we will use these estimates:\n",
    "$$\\underset{\\text{Test}}{\\text{BatchNorm}}(\\mathbf{X})_{ij} = \\frac{\\mathbf{X}_{ij} - \\mathbf{\\bar{x}}_j}{\\sqrt{\\mathbf{s}^2_{j} + \\epsilon}}$$\n",
    "\n",
    "Complete the implementation of Batch Normalization below:"
   ]
  },
  {
   "cell_type": "code",
   "execution_count": null,
   "id": "b218d5b8",
   "metadata": {
    "id": "b218d5b8"
   },
   "outputs": [],
   "source": [
    "epsilon = 1e-7\n",
    "class BatchNorm(nn.Module):\n",
    "    def __init__(self, dimensions, beta=0.9):\n",
    "        super().__init__()\n",
    "        self.beta=beta\n",
    "        self.running_mean = torch.zeros((1, dimensions))\n",
    "        self.running_var = torch.ones((1, dimensions))\n",
    "\n",
    "    def forward(self, x):\n",
    "        # Needed for GPU compatibility\n",
    "        self.running_mean = self.running_mean.to(x.device)\n",
    "        self.running_var = self.running_var.to(x.device)\n",
    "\n",
    "        if self.training:\n",
    "            # YOUR CODE HERE\n",
    "        else:\n",
    "            # YOUR CODE HERE\n",
    "\n",
    "class BatchNormLayer(nn.Module):\n",
    "    def __init__(self, in_dimensions, out_dimensions):\n",
    "        super().__init__()\n",
    "        self.linear = nn.Linear(in_dimensions, out_dimensions)\n",
    "        self.layer_norm = BatchNorm(out_dimensions)\n",
    "        self.activation = nn.ReLU()\n",
    "\n",
    "    def forward(self, x):\n",
    "        x = self.linear(x)\n",
    "        x = self.layer_norm(x)\n",
    "        x = self.activation(x)\n",
    "        return x"
   ]
  },
  {
   "cell_type": "markdown",
   "id": "e639bfd6",
   "metadata": {
    "id": "e639bfd6"
   },
   "source": [
    "#### **Q13**\n",
    "\n",
    "Train and evaluate a 20-layer network with batch normalization by running the cell below. What changed from the run without normalization? Why?"
   ]
  },
  {
   "cell_type": "markdown",
   "id": "46d842e6",
   "metadata": {
    "id": "46d842e6"
   },
   "source": [
    "YOUR ANSWER HERE"
   ]
  },
  {
   "cell_type": "code",
   "execution_count": null,
   "id": "24026519",
   "metadata": {
    "id": "24026519"
   },
   "outputs": [],
   "source": [
    "run_model(number_of_hidden_layers=20, layer_type=BatchNormLayer)"
   ]
  },
  {
   "cell_type": "markdown",
   "id": "37d47454",
   "metadata": {
    "id": "37d47454"
   },
   "source": [
    "#### **Q14**\n",
    "\n",
    "Finally, let's try a residual network!\n",
    "\n",
    "Recall that a standard neural network layer with a `ReLU` activation can be written as:\n",
    "\n",
    "$$\\phi(\\mathbf{X}) = \\text{ReLU}(\\mathbf{X}\\mathbf{W}^T + \\mathbf{b})$$\n",
    "\n",
    "A *residual layer* in contrast can be written as:\n",
    "$$\\phi_{res}(\\mathbf{X}) = \\text{ReLU}(\\mathbf{X}\\mathbf{W}^T + \\mathbf{b}) + \\mathbf{X}$$\n",
    "\n",
    "Complete the residual layer implementation below. You may assume that the input and output size of this layer are the same."
   ]
  },
  {
   "cell_type": "code",
   "execution_count": null,
   "id": "971d52b5",
   "metadata": {
    "id": "971d52b5"
   },
   "outputs": [],
   "source": [
    "class ResidualLayer(nn.Module):\n",
    "    def __init__(self, dimensions, *args):\n",
    "        super().__init__()\n",
    "        self.linear = nn.Linear(dimensions, dimensions)\n",
    "        self.activation = nn.ReLU()\n",
    "\n",
    "    def forward(self, x):\n",
    "        # YOUR CODE HERE"
   ]
  },
  {
   "cell_type": "markdown",
   "id": "6f630e98",
   "metadata": {
    "id": "6f630e98"
   },
   "source": [
    "#### **Q15**\n",
    "\n",
    "Try running a residual network using the cell below. How did this network perform? Why?"
   ]
  },
  {
   "cell_type": "code",
   "execution_count": null,
   "id": "e15782ab",
   "metadata": {
    "id": "e15782ab"
   },
   "outputs": [],
   "source": [
    "run_model(number_of_hidden_layers=20, layer_type=ResidualLayer)"
   ]
  }
 ],
 "metadata": {
  "colab": {
   "provenance": []
  },
  "jupytext": {
   "encoding": "# -*- coding: utf-8 -*-",
   "formats": "ipynb,py:percent"
  },
  "kernelspec": {
   "display_name": ".venv",
   "language": "python",
   "name": "python3"
  },
  "language_info": {
   "codemirror_mode": {
    "name": "ipython",
    "version": 3
   },
   "file_extension": ".py",
   "mimetype": "text/x-python",
   "name": "python",
   "nbconvert_exporter": "python",
   "pygments_lexer": "ipython3",
   "version": "3.12.6"
  },
  "toc": {
   "base_numbering": 1,
   "nav_menu": {},
   "number_sections": true,
   "sideBar": true,
   "skip_h1_title": true,
   "title_cell": "Table of Contents",
   "title_sidebar": "Contents",
   "toc_cell": true,
   "toc_position": {},
   "toc_section_display": true,
   "toc_window_display": false
  }
 },
 "nbformat": 4,
 "nbformat_minor": 5
}
