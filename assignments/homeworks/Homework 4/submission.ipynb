{
 "cells": [
  {
   "cell_type": "markdown",
   "metadata": {
    "id": "SwB_R4qRZqli"
   },
   "source": [
    "# **Homework 4:** Automatic Differentiation and Neural Networks"
   ]
  },
  {
   "cell_type": "markdown",
   "metadata": {},
   "source": [
    "### Name"
   ]
  },
  {
   "cell_type": "markdown",
   "metadata": {},
   "source": [
    "YOUR NAME HERE"
   ]
  },
  {
   "cell_type": "markdown",
   "metadata": {},
   "source": [
    "### Collaborators\n",
    "\n",
    "Please list anyone you discussed or collaborated on this assignment with below."
   ]
  },
  {
   "cell_type": "markdown",
   "metadata": {},
   "source": [
    "LIST COLLABORATORS HERE"
   ]
  },
  {
   "cell_type": "markdown",
   "metadata": {},
   "source": [
    "### Course feedback\n",
    "\n",
    "Please submit this week's course survey here: https://forms.gle/ELjvh2PK7iiAHbaC8"
   ]
  },
  {
   "cell_type": "markdown",
   "metadata": {},
   "source": [
    "### Convert to PDF\n",
    "\n",
    "Please convert this notebook to PDF for submission to Gradescope using this tool: https://blank-app-ufu2uvdeosc.streamlit.app/"
   ]
  },
  {
   "cell_type": "code",
   "execution_count": 1,
   "metadata": {
    "id": "gTaI5Rh_Zqll"
   },
   "outputs": [],
   "source": [
    "# Uncomment and run if using Colab!\n",
    "\n",
    "#!wget https://cs152.github.io/assignments/homeworks/Homework%204/hw4_support.py"
   ]
  },
  {
   "cell_type": "code",
   "execution_count": 2,
   "metadata": {
    "id": "Ri5sAl_TZqll"
   },
   "outputs": [],
   "source": [
    "# Run me first!\n",
    "from hw4_support import *\n",
    "import autograd.numpy as np\n",
    "from autograd import grad\n"
   ]
  },
  {
   "cell_type": "markdown",
   "metadata": {
    "id": "qaI4vR3jZqlo"
   },
   "source": [
    "<div style=\"page-break-after: always; visibility: hidden\">  \\pagebreak  </div>\n",
    "\n",
    "#### **Q1**"
   ]
  },
  {
   "cell_type": "code",
   "execution_count": null,
   "metadata": {
    "id": "KQZGadTSZqlo"
   },
   "outputs": [],
   "source": [
    "## YOUR CODE HERE\n",
    "\n",
    "\n",
    "answer =\n",
    "print(\"f'(1.5)=\", answer)"
   ]
  },
  {
   "cell_type": "markdown",
   "metadata": {
    "id": "bmPQ4NSHZqlp"
   },
   "source": [
    "<div style=\"page-break-after: always; visibility: hidden\">  \\pagebreak  </div>\n",
    "\n",
    "#### **Q2**"
   ]
  },
  {
   "cell_type": "code",
   "execution_count": null,
   "metadata": {
    "id": "uO-1tcC6Zqlp"
   },
   "outputs": [],
   "source": [
    "# Define a function\n",
    "def f(x):\n",
    "    ## YOUR CODE HERE\n",
    "\n",
    "# Use 'grad' to compute the derivative function\n",
    "grad_f =\n",
    "\n",
    "# Verify that we get the correct answer\n",
    "x = [np.array([1., 2., 3]), np.array([7., 2.]), np.array([6.])]\n",
    "print('x:\\t', x)\n",
    "print('f(x):\\t', f(x))\n",
    "print(\"f'(x):\\t\", grad_f(x))"
   ]
  },
  {
   "cell_type": "markdown",
   "metadata": {
    "id": "9Dlko2mgZqlq"
   },
   "source": [
    "<div style=\"page-break-after: always; visibility: hidden\">  \\pagebreak  </div>\n",
    "\n",
    "#### **Q3**"
   ]
  },
  {
   "cell_type": "code",
   "execution_count": null,
   "metadata": {
    "id": "29888aXVZqlq"
   },
   "outputs": [],
   "source": [
    "def nll_and_grad(self, X, y):\n",
    "    ## YOUR CODE HERE\n",
    "    loss =\n",
    "    grads =\n",
    "    return loss, grads\n",
    "\n",
    "LogisticRegression.nll_and_grad = nll_and_grad"
   ]
  },
  {
   "cell_type": "markdown",
   "metadata": {
    "id": "Feja9i8hZqlq"
   },
   "source": [
    "This implementation quite inefficient (we'll fix this in the future!), so we'll test our model on a very small dataset."
   ]
  },
  {
   "cell_type": "code",
   "execution_count": null,
   "metadata": {
    "id": "gOZn-Y66Zqlq"
   },
   "outputs": [],
   "source": [
    "X, y = make_moons(100, noise=0.1)\n",
    "model = LogisticRegression(2)\n",
    "gradient_descent(model, X, y, lr=3e-2, steps=250)\n",
    "\n",
    "print('Model accuracy: %.3f' % model.accuracy(X, y))\n",
    "plot_boundary(model, X, y)"
   ]
  },
  {
   "cell_type": "markdown",
   "metadata": {},
   "source": [
    "<div style=\"page-break-after: always; visibility: hidden\">  \\pagebreak  </div>\n",
    "\n",
    "#### **Q4**"
   ]
  },
  {
   "cell_type": "code",
   "execution_count": null,
   "metadata": {},
   "outputs": [],
   "source": [
    "class QuadraticRegression(LogisticRegression):\n",
    "    def __init__(self, dims):\n",
    "        # Multiply the number of dimensions for our weights by 2\n",
    "        transformed_dims = dims * 2\n",
    "        super().__init__(transformed_dims)\n",
    "\n",
    "    def prediction_function(self, X, w):\n",
    "        Xtransformed = ## YOUR CODE HERE\n",
    "        Xtransformed = np.pad(Xtransformed, ((0,0), (0,1)), constant_values=1.)\n",
    "        return np.dot(Xtransformed, w)"
   ]
  },
  {
   "cell_type": "markdown",
   "metadata": {},
   "source": [
    "Here we'll try out our quadratic feature transform."
   ]
  },
  {
   "cell_type": "code",
   "execution_count": null,
   "metadata": {},
   "outputs": [],
   "source": [
    "X, y = make_moons(100, noise=0.1)\n",
    "model = QuadraticRegression(2)\n",
    "gradient_descent(model, X, y, lr=3e-2, steps=250)\n",
    "\n",
    "print('Model accuracy: %.3f' % model.accuracy(X, y))\n",
    "plot_boundary(model, X, y)"
   ]
  },
  {
   "cell_type": "markdown",
   "metadata": {},
   "source": [
    "<div style=\"page-break-after: always; visibility: hidden\">  \\pagebreak  </div>\n",
    "\n",
    "#### **Q5**"
   ]
  },
  {
   "cell_type": "code",
   "execution_count": null,
   "metadata": {},
   "outputs": [],
   "source": [
    "class SineRegression(LogisticRegression):\n",
    "    def __init__(self, dims):\n",
    "        # Multiply the number of dimensions for our weights by 2\n",
    "        transformed_dims = dims * 2\n",
    "        super().__init__(transformed_dims)\n",
    "\n",
    "    def prediction_function(self, X, w):\n",
    "        Xtransformed = ## YOUR CODE HERE\n",
    "        Xtransformed = np.pad(Xtransformed, ((0,0), (0,1)), constant_values=1.)\n",
    "        return np.dot(Xtransformed, w)"
   ]
  },
  {
   "cell_type": "code",
   "execution_count": null,
   "metadata": {},
   "outputs": [],
   "source": [
    "X, y = make_moons(100, noise=0.1)\n",
    "model = SineRegression(2)\n",
    "gradient_descent(model, X, y, lr=3e-2, steps=250)\n",
    "\n",
    "print('Model accuracy: %.3f' % model.accuracy(X, y))\n",
    "plot_boundary(model, X, y)"
   ]
  },
  {
   "cell_type": "markdown",
   "metadata": {},
   "source": [
    "<div style=\"page-break-after: always; visibility: hidden\">  \\pagebreak  </div>\n",
    "\n",
    "#### **Q6**"
   ]
  },
  {
   "cell_type": "markdown",
   "metadata": {},
   "source": [
    "YOUR ANSWER HERE"
   ]
  },
  {
   "cell_type": "markdown",
   "metadata": {},
   "source": [
    "<div style=\"page-break-after: always; visibility: hidden\">  \\pagebreak  </div>\n",
    "\n",
    "#### **Q7**"
   ]
  },
  {
   "cell_type": "code",
   "execution_count": null,
   "metadata": {},
   "outputs": [],
   "source": [
    "class MyRegression(LogisticRegression):\n",
    "    def __init__(self, dims):\n",
    "        transformed_dims = # YOUR CODE HERE\n",
    "        super().__init__(transformed_dims)\n",
    "\n",
    "    def prediction_function(self, X, w):\n",
    "        Xtransformed = ## YOUR CODE HERE\n",
    "        Xtransformed = np.pad(Xtransformed, ((0,0), (0,1)), constant_values=1.)\n",
    "        return np.dot(Xtransformed, w)"
   ]
  },
  {
   "cell_type": "code",
   "execution_count": null,
   "metadata": {},
   "outputs": [],
   "source": [
    "X, y = make_moons(100, noise=0.1)\n",
    "model = MyRegression(2)\n",
    "gradient_descent(model, X, y, lr=3e-2, steps=2500)\n",
    "\n",
    "print('Model accuracy: %.3f' % model.accuracy(X, y))\n",
    "plot_boundary(model, X, y)"
   ]
  },
  {
   "cell_type": "markdown",
   "metadata": {
    "id": "dT1spRbUZqlr"
   },
   "source": [
    "<div style=\"page-break-after: always; visibility: hidden\">  \\pagebreak  </div>\n",
    "\n",
    "#### **Q8**"
   ]
  },
  {
   "cell_type": "code",
   "execution_count": null,
   "metadata": {
    "id": "ASaMH4ODZqlr"
   },
   "outputs": [],
   "source": [
    "class NeuralNetwork(LogisticRegression):\n",
    "    def __init__(self, dims, hidden_sizes=[]):\n",
    "        ## YOUR CODE HERE\n",
    "        self.weights =\n",
    "\n",
    "test_nn_constructor(NeuralNetwork)"
   ]
  },
  {
   "cell_type": "markdown",
   "metadata": {
    "id": "ArUPP-rwZqlr"
   },
   "source": [
    "<div style=\"page-break-after: always; visibility: hidden\">  \\pagebreak  </div>\n",
    "\n",
    "#### **Q9**"
   ]
  },
  {
   "cell_type": "code",
   "execution_count": null,
   "metadata": {
    "id": "0i9BSdrMZqlr"
   },
   "outputs": [],
   "source": [
    "def prediction_function(self, X, w):\n",
    "    ## YOUR CODE HERE\n",
    "\n",
    "    return pred.reshape((-1, 1))\n",
    "\n",
    "NeuralNetwork.prediction_function = prediction_function\n",
    "test_nn_prediction_function(NeuralNetwork)"
   ]
  },
  {
   "cell_type": "markdown",
   "metadata": {
    "id": "q2hPzrFdZqlr"
   },
   "source": [
    "<div style=\"page-break-after: always; visibility: hidden\">  \\pagebreak  </div>\n",
    "\n",
    "#### **Q10**"
   ]
  },
  {
   "cell_type": "code",
   "execution_count": null,
   "metadata": {
    "id": "UqIRXTRFZqlr"
   },
   "outputs": [],
   "source": [
    "def nll_and_grad(self, X, y):\n",
    "    ## YOUR CODE HERE\n",
    "    loss =\n",
    "    grads =\n",
    "    return loss, grads\n",
    "\n",
    "NeuralNetwork.nll_and_grad = nll_and_grad"
   ]
  },
  {
   "cell_type": "code",
   "execution_count": null,
   "metadata": {
    "id": "3pdQh1B6Zqls"
   },
   "outputs": [],
   "source": [
    "X, y = make_moons(100, noise=0.1)\n",
    "model = NeuralNetwork(2, [5, 5])\n",
    "gradient_descent(model, X, y, lr=3e-2, steps=250)\n",
    "\n",
    "print('Model accuracy: %.3f' % model.accuracy(X, y))\n",
    "plot_boundary(model, X, y)"
   ]
  },
  {
   "cell_type": "markdown",
   "metadata": {},
   "source": [
    "<div style=\"page-break-after: always; visibility: hidden\">  \\pagebreak  </div>\n",
    "\n",
    "#### **Q11**"
   ]
  },
  {
   "cell_type": "markdown",
   "metadata": {},
   "source": [
    "YOUR ANSWER HERE"
   ]
  }
 ],
 "metadata": {
  "colab": {
   "provenance": []
  },
  "kernelspec": {
   "display_name": ".venv",
   "language": "python",
   "name": "python3"
  },
  "language_info": {
   "codemirror_mode": {
    "name": "ipython",
    "version": 3
   },
   "file_extension": ".py",
   "mimetype": "text/x-python",
   "name": "python",
   "nbconvert_exporter": "python",
   "pygments_lexer": "ipython3",
   "version": "3.12.6"
  },
  "orig_nbformat": 4
 },
 "nbformat": 4,
 "nbformat_minor": 0
}
