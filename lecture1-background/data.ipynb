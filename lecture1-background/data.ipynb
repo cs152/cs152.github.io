{
 "cells": [
  {
   "cell_type": "code",
   "execution_count": 3,
   "metadata": {},
   "outputs": [],
   "source": [
    "import polars as pl\n",
    "import pandas as pd"
   ]
  },
  {
   "cell_type": "code",
   "execution_count": 58,
   "metadata": {},
   "outputs": [],
   "source": [
    "#.loc[[627, 464, 600, 389, 603, 667, 180, 341, 704, 105, 502, 65, 324, 20]]\n",
    "data = pd.read_csv('/Users/gabehope/Downloads/app_data.csv')[['Age', 'Appendix_Diameter', 'Migratory_Pain',  'RBC_Count', 'RBC_in_Urine', 'Peritonitis' ]].dropna().loc[[627, 464, 600, 217, 187, 185, 389, 603, 667, 180, 341, 704, 105, 502, 65, 324, 20]].sample(frac=1).reset_index()[['Age', 'Appendix_Diameter', 'Migratory_Pain',  'RBC_Count', 'RBC_in_Urine', 'Peritonitis']].replace(\n",
    "    'no appendicitis', 'healthy'\n",
    "    ).replace(\n",
    "    '+', 'low'\n",
    "    ).replace(\n",
    "    '++', 'medium'\n",
    "    ).replace(\n",
    "    '+++', 'high'\n",
    "    )#.to_csv('app_all.csv')\n",
    "\n",
    "data['RBC_in_Urine'] = data['RBC_in_Urine'].replace(\n",
    "    'no', 'none'\n",
    "    )\n",
    "data.to_csv('app_all.csv')"
   ]
  },
  {
   "cell_type": "code",
   "execution_count": 46,
   "metadata": {},
   "outputs": [
    {
     "data": {
      "text/html": [
       "<div>\n",
       "<style scoped>\n",
       "    .dataframe tbody tr th:only-of-type {\n",
       "        vertical-align: middle;\n",
       "    }\n",
       "\n",
       "    .dataframe tbody tr th {\n",
       "        vertical-align: top;\n",
       "    }\n",
       "\n",
       "    .dataframe thead th {\n",
       "        text-align: right;\n",
       "    }\n",
       "</style>\n",
       "<table border=\"1\" class=\"dataframe\">\n",
       "  <thead>\n",
       "    <tr style=\"text-align: right;\">\n",
       "      <th></th>\n",
       "      <th>Age</th>\n",
       "      <th>BMI</th>\n",
       "      <th>Sex</th>\n",
       "      <th>Height</th>\n",
       "      <th>Weight</th>\n",
       "      <th>Length_of_Stay</th>\n",
       "      <th>Management</th>\n",
       "      <th>Severity</th>\n",
       "      <th>Diagnosis_Presumptive</th>\n",
       "      <th>Diagnosis</th>\n",
       "      <th>...</th>\n",
       "      <th>Unnamed: 59</th>\n",
       "      <th>Unnamed: 60</th>\n",
       "      <th>Unnamed: 61</th>\n",
       "      <th>Unnamed: 62</th>\n",
       "      <th>Unnamed: 63</th>\n",
       "      <th>Unnamed: 64</th>\n",
       "      <th>Unnamed: 65</th>\n",
       "      <th>Unnamed: 66</th>\n",
       "      <th>Unnamed: 67</th>\n",
       "      <th>Unnamed: 68</th>\n",
       "    </tr>\n",
       "  </thead>\n",
       "  <tbody>\n",
       "    <tr>\n",
       "      <th>0</th>\n",
       "      <td>12.68</td>\n",
       "      <td>16.90</td>\n",
       "      <td>female</td>\n",
       "      <td>148.0</td>\n",
       "      <td>37.0</td>\n",
       "      <td>3.0</td>\n",
       "      <td>conservative</td>\n",
       "      <td>uncomplicated</td>\n",
       "      <td>appendicitis</td>\n",
       "      <td>appendicitis</td>\n",
       "      <td>...</td>\n",
       "      <td>NaN</td>\n",
       "      <td>NaN</td>\n",
       "      <td>NaN</td>\n",
       "      <td>NaN</td>\n",
       "      <td>NaN</td>\n",
       "      <td>NaN</td>\n",
       "      <td>NaN</td>\n",
       "      <td>NaN</td>\n",
       "      <td>NaN</td>\n",
       "      <td>NaN</td>\n",
       "    </tr>\n",
       "    <tr>\n",
       "      <th>1</th>\n",
       "      <td>14.10</td>\n",
       "      <td>31.90</td>\n",
       "      <td>male</td>\n",
       "      <td>147.0</td>\n",
       "      <td>69.5</td>\n",
       "      <td>2.0</td>\n",
       "      <td>conservative</td>\n",
       "      <td>uncomplicated</td>\n",
       "      <td>appendicitis</td>\n",
       "      <td>no appendicitis</td>\n",
       "      <td>...</td>\n",
       "      <td>NaN</td>\n",
       "      <td>NaN</td>\n",
       "      <td>NaN</td>\n",
       "      <td>NaN</td>\n",
       "      <td>NaN</td>\n",
       "      <td>NaN</td>\n",
       "      <td>NaN</td>\n",
       "      <td>NaN</td>\n",
       "      <td>NaN</td>\n",
       "      <td>NaN</td>\n",
       "    </tr>\n",
       "    <tr>\n",
       "      <th>2</th>\n",
       "      <td>14.14</td>\n",
       "      <td>23.30</td>\n",
       "      <td>female</td>\n",
       "      <td>163.0</td>\n",
       "      <td>62.0</td>\n",
       "      <td>4.0</td>\n",
       "      <td>conservative</td>\n",
       "      <td>uncomplicated</td>\n",
       "      <td>appendicitis</td>\n",
       "      <td>no appendicitis</td>\n",
       "      <td>...</td>\n",
       "      <td>NaN</td>\n",
       "      <td>NaN</td>\n",
       "      <td>NaN</td>\n",
       "      <td>NaN</td>\n",
       "      <td>NaN</td>\n",
       "      <td>NaN</td>\n",
       "      <td>NaN</td>\n",
       "      <td>NaN</td>\n",
       "      <td>NaN</td>\n",
       "      <td>NaN</td>\n",
       "    </tr>\n",
       "    <tr>\n",
       "      <th>3</th>\n",
       "      <td>16.37</td>\n",
       "      <td>20.60</td>\n",
       "      <td>female</td>\n",
       "      <td>165.0</td>\n",
       "      <td>56.0</td>\n",
       "      <td>3.0</td>\n",
       "      <td>conservative</td>\n",
       "      <td>uncomplicated</td>\n",
       "      <td>appendicitis</td>\n",
       "      <td>no appendicitis</td>\n",
       "      <td>...</td>\n",
       "      <td>NaN</td>\n",
       "      <td>NaN</td>\n",
       "      <td>NaN</td>\n",
       "      <td>NaN</td>\n",
       "      <td>NaN</td>\n",
       "      <td>NaN</td>\n",
       "      <td>NaN</td>\n",
       "      <td>NaN</td>\n",
       "      <td>NaN</td>\n",
       "      <td>NaN</td>\n",
       "    </tr>\n",
       "    <tr>\n",
       "      <th>4</th>\n",
       "      <td>11.08</td>\n",
       "      <td>16.90</td>\n",
       "      <td>female</td>\n",
       "      <td>163.0</td>\n",
       "      <td>45.0</td>\n",
       "      <td>3.0</td>\n",
       "      <td>conservative</td>\n",
       "      <td>uncomplicated</td>\n",
       "      <td>appendicitis</td>\n",
       "      <td>appendicitis</td>\n",
       "      <td>...</td>\n",
       "      <td>NaN</td>\n",
       "      <td>NaN</td>\n",
       "      <td>NaN</td>\n",
       "      <td>NaN</td>\n",
       "      <td>NaN</td>\n",
       "      <td>NaN</td>\n",
       "      <td>NaN</td>\n",
       "      <td>NaN</td>\n",
       "      <td>NaN</td>\n",
       "      <td>NaN</td>\n",
       "    </tr>\n",
       "    <tr>\n",
       "      <th>...</th>\n",
       "      <td>...</td>\n",
       "      <td>...</td>\n",
       "      <td>...</td>\n",
       "      <td>...</td>\n",
       "      <td>...</td>\n",
       "      <td>...</td>\n",
       "      <td>...</td>\n",
       "      <td>...</td>\n",
       "      <td>...</td>\n",
       "      <td>...</td>\n",
       "      <td>...</td>\n",
       "      <td>...</td>\n",
       "      <td>...</td>\n",
       "      <td>...</td>\n",
       "      <td>...</td>\n",
       "      <td>...</td>\n",
       "      <td>...</td>\n",
       "      <td>...</td>\n",
       "      <td>...</td>\n",
       "      <td>...</td>\n",
       "      <td>...</td>\n",
       "    </tr>\n",
       "    <tr>\n",
       "      <th>777</th>\n",
       "      <td>12.41</td>\n",
       "      <td>25.25</td>\n",
       "      <td>female</td>\n",
       "      <td>166.5</td>\n",
       "      <td>70.0</td>\n",
       "      <td>4.0</td>\n",
       "      <td>primary surgical</td>\n",
       "      <td>uncomplicated</td>\n",
       "      <td>appendicitis</td>\n",
       "      <td>appendicitis</td>\n",
       "      <td>...</td>\n",
       "      <td>NaN</td>\n",
       "      <td>NaN</td>\n",
       "      <td>NaN</td>\n",
       "      <td>NaN</td>\n",
       "      <td>NaN</td>\n",
       "      <td>NaN</td>\n",
       "      <td>NaN</td>\n",
       "      <td>NaN</td>\n",
       "      <td>NaN</td>\n",
       "      <td>NaN</td>\n",
       "    </tr>\n",
       "    <tr>\n",
       "      <th>778</th>\n",
       "      <td>17.09</td>\n",
       "      <td>20.43</td>\n",
       "      <td>female</td>\n",
       "      <td>158.0</td>\n",
       "      <td>51.0</td>\n",
       "      <td>6.0</td>\n",
       "      <td>secondary surgical</td>\n",
       "      <td>complicated</td>\n",
       "      <td>appendicitis</td>\n",
       "      <td>appendicitis</td>\n",
       "      <td>...</td>\n",
       "      <td>NaN</td>\n",
       "      <td>NaN</td>\n",
       "      <td>NaN</td>\n",
       "      <td>NaN</td>\n",
       "      <td>NaN</td>\n",
       "      <td>NaN</td>\n",
       "      <td>NaN</td>\n",
       "      <td>NaN</td>\n",
       "      <td>NaN</td>\n",
       "      <td>NaN</td>\n",
       "    </tr>\n",
       "    <tr>\n",
       "      <th>779</th>\n",
       "      <td>14.99</td>\n",
       "      <td>19.91</td>\n",
       "      <td>female</td>\n",
       "      <td>152.0</td>\n",
       "      <td>46.0</td>\n",
       "      <td>4.0</td>\n",
       "      <td>primary surgical</td>\n",
       "      <td>uncomplicated</td>\n",
       "      <td>appendicitis</td>\n",
       "      <td>appendicitis</td>\n",
       "      <td>...</td>\n",
       "      <td>NaN</td>\n",
       "      <td>NaN</td>\n",
       "      <td>NaN</td>\n",
       "      <td>NaN</td>\n",
       "      <td>NaN</td>\n",
       "      <td>NaN</td>\n",
       "      <td>NaN</td>\n",
       "      <td>NaN</td>\n",
       "      <td>NaN</td>\n",
       "      <td>NaN</td>\n",
       "    </tr>\n",
       "    <tr>\n",
       "      <th>780</th>\n",
       "      <td>7.20</td>\n",
       "      <td>14.30</td>\n",
       "      <td>male</td>\n",
       "      <td>129.3</td>\n",
       "      <td>23.9</td>\n",
       "      <td>5.0</td>\n",
       "      <td>primary surgical</td>\n",
       "      <td>uncomplicated</td>\n",
       "      <td>appendicitis</td>\n",
       "      <td>appendicitis</td>\n",
       "      <td>...</td>\n",
       "      <td>NaN</td>\n",
       "      <td>NaN</td>\n",
       "      <td>NaN</td>\n",
       "      <td>NaN</td>\n",
       "      <td>NaN</td>\n",
       "      <td>NaN</td>\n",
       "      <td>NaN</td>\n",
       "      <td>NaN</td>\n",
       "      <td>NaN</td>\n",
       "      <td>NaN</td>\n",
       "    </tr>\n",
       "    <tr>\n",
       "      <th>781</th>\n",
       "      <td>11.51</td>\n",
       "      <td>18.17</td>\n",
       "      <td>male</td>\n",
       "      <td>146.5</td>\n",
       "      <td>39.0</td>\n",
       "      <td>4.0</td>\n",
       "      <td>primary surgical</td>\n",
       "      <td>uncomplicated</td>\n",
       "      <td>appendicitis</td>\n",
       "      <td>appendicitis</td>\n",
       "      <td>...</td>\n",
       "      <td>NaN</td>\n",
       "      <td>NaN</td>\n",
       "      <td>NaN</td>\n",
       "      <td>NaN</td>\n",
       "      <td>NaN</td>\n",
       "      <td>NaN</td>\n",
       "      <td>NaN</td>\n",
       "      <td>NaN</td>\n",
       "      <td>NaN</td>\n",
       "      <td>NaN</td>\n",
       "    </tr>\n",
       "  </tbody>\n",
       "</table>\n",
       "<p>782 rows × 69 columns</p>\n",
       "</div>"
      ],
      "text/plain": [
       "       Age    BMI     Sex  Height  Weight  Length_of_Stay          Management  \\\n",
       "0    12.68  16.90  female   148.0    37.0             3.0        conservative   \n",
       "1    14.10  31.90    male   147.0    69.5             2.0        conservative   \n",
       "2    14.14  23.30  female   163.0    62.0             4.0        conservative   \n",
       "3    16.37  20.60  female   165.0    56.0             3.0        conservative   \n",
       "4    11.08  16.90  female   163.0    45.0             3.0        conservative   \n",
       "..     ...    ...     ...     ...     ...             ...                 ...   \n",
       "777  12.41  25.25  female   166.5    70.0             4.0    primary surgical   \n",
       "778  17.09  20.43  female   158.0    51.0             6.0  secondary surgical   \n",
       "779  14.99  19.91  female   152.0    46.0             4.0    primary surgical   \n",
       "780   7.20  14.30    male   129.3    23.9             5.0    primary surgical   \n",
       "781  11.51  18.17    male   146.5    39.0             4.0    primary surgical   \n",
       "\n",
       "          Severity Diagnosis_Presumptive        Diagnosis  ...  Unnamed: 59  \\\n",
       "0    uncomplicated          appendicitis     appendicitis  ...          NaN   \n",
       "1    uncomplicated          appendicitis  no appendicitis  ...          NaN   \n",
       "2    uncomplicated          appendicitis  no appendicitis  ...          NaN   \n",
       "3    uncomplicated          appendicitis  no appendicitis  ...          NaN   \n",
       "4    uncomplicated          appendicitis     appendicitis  ...          NaN   \n",
       "..             ...                   ...              ...  ...          ...   \n",
       "777  uncomplicated          appendicitis     appendicitis  ...          NaN   \n",
       "778    complicated          appendicitis     appendicitis  ...          NaN   \n",
       "779  uncomplicated          appendicitis     appendicitis  ...          NaN   \n",
       "780  uncomplicated          appendicitis     appendicitis  ...          NaN   \n",
       "781  uncomplicated          appendicitis     appendicitis  ...          NaN   \n",
       "\n",
       "     Unnamed: 60 Unnamed: 61  Unnamed: 62 Unnamed: 63 Unnamed: 64 Unnamed: 65  \\\n",
       "0            NaN         NaN          NaN         NaN         NaN         NaN   \n",
       "1            NaN         NaN          NaN         NaN         NaN         NaN   \n",
       "2            NaN         NaN          NaN         NaN         NaN         NaN   \n",
       "3            NaN         NaN          NaN         NaN         NaN         NaN   \n",
       "4            NaN         NaN          NaN         NaN         NaN         NaN   \n",
       "..           ...         ...          ...         ...         ...         ...   \n",
       "777          NaN         NaN          NaN         NaN         NaN         NaN   \n",
       "778          NaN         NaN          NaN         NaN         NaN         NaN   \n",
       "779          NaN         NaN          NaN         NaN         NaN         NaN   \n",
       "780          NaN         NaN          NaN         NaN         NaN         NaN   \n",
       "781          NaN         NaN          NaN         NaN         NaN         NaN   \n",
       "\n",
       "    Unnamed: 66 Unnamed: 67 Unnamed: 68  \n",
       "0           NaN         NaN         NaN  \n",
       "1           NaN         NaN         NaN  \n",
       "2           NaN         NaN         NaN  \n",
       "3           NaN         NaN         NaN  \n",
       "4           NaN         NaN         NaN  \n",
       "..          ...         ...         ...  \n",
       "777         NaN         NaN         NaN  \n",
       "778         NaN         NaN         NaN  \n",
       "779         NaN         NaN         NaN  \n",
       "780         NaN         NaN         NaN  \n",
       "781         NaN         NaN         NaN  \n",
       "\n",
       "[782 rows x 69 columns]"
      ]
     },
     "execution_count": 46,
     "metadata": {},
     "output_type": "execute_result"
    }
   ],
   "source": [
    "pd.read_csv('/Users/gabehope/Downloads/app_data.csv')"
   ]
  },
  {
   "cell_type": "code",
   "execution_count": 45,
   "metadata": {},
   "outputs": [],
   "source": [
    "ndata = pd.read_csv('/Users/gabehope/Downloads/app_data.csv')[['Age', 'Appendix_Diameter', 'Height', 'Weight',  'RBC_Count', 'Body_Temperature', 'WBC_Count', ]].dropna().loc[[627, 464, 600, 217, 187, 185, 389, 603, 667, 180, 341, 704, 105, 502, 65, 324, 20]].sample(frac=1).reset_index()[['Age', 'Appendix_Diameter', 'Height', 'Weight',  'RBC_Count', 'Body_Temperature', 'WBC_Count', ]].to_csv('app_numeric.csv')"
   ]
  },
  {
   "cell_type": "code",
   "execution_count": 59,
   "metadata": {},
   "outputs": [],
   "source": [
    "ndata = pd.read_csv('app_numeric.csv')"
   ]
  },
  {
   "cell_type": "code",
   "execution_count": 61,
   "metadata": {},
   "outputs": [],
   "source": [
    "del ndata['Unnamed: 0']"
   ]
  },
  {
   "cell_type": "code",
   "execution_count": 65,
   "metadata": {},
   "outputs": [
    {
     "name": "stdout",
     "output_type": "stream",
     "text": [
      "\\begin{pmatrix}\n",
      "16.66 & 9.0 & 174.0 & 65.0 & 5.31 & 36.6 & 6.6\\\\\n",
      "10.74 & 9.0 & 146.0 & 57.5 & 5.66 & 37.3 & 10.2\\\\\n",
      "9.04 & 5.3 & 134.0 & 29.4 & 4.92 & 36.0 & 5.1\\\\\n",
      "10.75 & 5.0 & 155.0 & 54.5 & 4.79 & 37.7 & 10.3\\\\\n",
      "7.3 & 6.2 & 123.0 & 23.5 & 4.64 & 37.4 & 21.1\\\\\n",
      "5.11 & 7.0 & 116.0 & 22.0 & 4.55 & 40.2 & 19.4\\\\\n",
      "14.36 & 9.0 & 163.0 & 50.0 & 4.84 & 37.5 & 14.3\\\\\n",
      "9.61 & 9.0 & 140.0 & 29.2 & 5.18 & 38.7 & 14.3\\\\\n",
      "15.83 & 12.0 & 153.0 & 59.0 & 4.33 & 36.7 & 12.8\\\\\n",
      "9.58 & 7.0 & 132.0 & 24.7 & 5.04 & 38.4 & 13.5\\\\\n",
      "10.37 & 5.5 & 156.0 & 39.0 & 4.8 & 37.4 & 5.6\\\\\n",
      "14.52 & 4.5 & 181.0 & 55.0 & 4.9 & 37.0 & 9.0\\\\\n",
      "12.41 & 3.7 & 150.5 & 42.5 & 5.49 & 37.2 & 9.1\\\\\n",
      "6.67 & 3.5 & 124.0 & 38.5 & 5.27 & 39.6 & 16.8\\\\\n",
      "15.21 & 8.5 & 155.0 & 85.0 & 4.62 & 36.8 & 12.4\\\\\n",
      "12.43 & 12.0 & 157.0 & 46.0 & 4.62 & 37.1 & 16.4\\\\\n",
      "10.51 & 9.0 & 134.5 & 27.0 & 5.03 & 37.4 & 12.8\\\\\n",
      "\\end{pmatrix}\n"
     ]
    }
   ],
   "source": [
    "ndata.values\n",
    "\n",
    "import numpy as np\n",
    "\n",
    "def matrix_to_latex(matrix):\n",
    "    \"\"\"Converts a NumPy matrix to LaTeX.\"\"\"\n",
    "\n",
    "    latex_str = \"\\\\begin{pmatrix}\\n\"\n",
    "    for row in matrix:\n",
    "        latex_str += \" & \".join(map(str, row)) + \"\\\\\\\\\\n\"\n",
    "    latex_str += \"\\\\end{pmatrix}\"\n",
    "    return latex_str\n",
    "\n",
    "print(matrix_to_latex(ndata.values))"
   ]
  },
  {
   "cell_type": "markdown",
   "metadata": {},
   "source": [
    "$$\\\\begin{pmatrix}\\n16.66 & 9.0 & 174.0 & 65.0 & 5.31 & 36.6 & 6.6\\\\\\\\\\n10.74 & 9.0 & 146.0 & 57.5 & 5.66 & 37.3 & 10.2\\\\\\\\\\n9.04 & 5.3 & 134.0 & 29.4 & 4.92 & 36.0 & 5.1\\\\\\\\\\n10.75 & 5.0 & 155.0 & 54.5 & 4.79 & 37.7 & 10.3\\\\\\\\\\n7.3 & 6.2 & 123.0 & 23.5 & 4.64 & 37.4 & 21.1\\\\\\\\\\n5.11 & 7.0 & 116.0 & 22.0 & 4.55 & 40.2 & 19.4\\\\\\\\\\n14.36 & 9.0 & 163.0 & 50.0 & 4.84 & 37.5 & 14.3\\\\\\\\\\n9.61 & 9.0 & 140.0 & 29.2 & 5.18 & 38.7 & 14.3\\\\\\\\\\n15.83 & 12.0 & 153.0 & 59.0 & 4.33 & 36.7 & 12.8\\\\\\\\\\n9.58 & 7.0 & 132.0 & 24.7 & 5.04 & 38.4 & 13.5\\\\\\\\\\n10.37 & 5.5 & 156.0 & 39.0 & 4.8 & 37.4 & 5.6\\\\\\\\\\n14.52 & 4.5 & 181.0 & 55.0 & 4.9 & 37.0 & 9.0\\\\\\\\\\n12.41 & 3.7 & 150.5 & 42.5 & 5.49 & 37.2 & 9.1\\\\\\\\\\n6.67 & 3.5 & 124.0 & 38.5 & 5.27 & 39.6 & 16.8\\\\\\\\\\n15.21 & 8.5 & 155.0 & 85.0 & 4.62 & 36.8 & 12.4\\\\\\\\\\n12.43 & 12.0 & 157.0 & 46.0 & 4.62 & 37.1 & 16.4\\\\\\\\\\n10.51 & 9.0 & 134.5 & 27.0 & 5.03 & 37.4 & 12.8\\\\\\\\\\n\\\\end{pmatrix}$$"
   ]
  },
  {
   "cell_type": "markdown",
   "metadata": {},
   "source": [
    "ndata"
   ]
  },
  {
   "cell_type": "code",
   "execution_count": 76,
   "metadata": {},
   "outputs": [],
   "source": [
    "X = ndata.values"
   ]
  },
  {
   "cell_type": "code",
   "execution_count": 83,
   "metadata": {},
   "outputs": [
    {
     "data": {
      "text/plain": [
       "array([  9.61,   9.  , 140.  ,  29.2 ,   5.18,  38.7 ,  14.3 ])"
      ]
     },
     "execution_count": 83,
     "metadata": {},
     "output_type": "execute_result"
    }
   ],
   "source": [
    "X[7]"
   ]
  },
  {
   "cell_type": "code",
   "execution_count": 84,
   "metadata": {},
   "outputs": [
    {
     "data": {
      "text/plain": [
       "(7,)"
      ]
     },
     "execution_count": 84,
     "metadata": {},
     "output_type": "execute_result"
    }
   ],
   "source": [
    "X[7].shape"
   ]
  },
  {
   "cell_type": "code",
   "execution_count": 81,
   "metadata": {},
   "outputs": [
    {
     "name": "stdout",
     "output_type": "stream",
     "text": [
      "[[  9.61]\n",
      " [  9.  ]\n",
      " [140.  ]\n",
      " [ 29.2 ]\n",
      " [  5.18]\n",
      " [ 38.7 ]\n",
      " [ 14.3 ]]\n"
     ]
    }
   ],
   "source": [
    "X[7][:, None]"
   ]
  },
  {
   "cell_type": "code",
   "execution_count": 85,
   "metadata": {},
   "outputs": [
    {
     "data": {
      "text/plain": [
       "(7, 1)"
      ]
     },
     "execution_count": 85,
     "metadata": {},
     "output_type": "execute_result"
    }
   ],
   "source": [
    "X[7][:, None].shape"
   ]
  },
  {
   "cell_type": "code",
   "execution_count": 88,
   "metadata": {},
   "outputs": [
    {
     "data": {
      "text/plain": [
       "array([[  9.61,   9.  , 140.  ,  29.2 ,   5.18,  38.7 ,  14.3 ]])"
      ]
     },
     "execution_count": 88,
     "metadata": {},
     "output_type": "execute_result"
    }
   ],
   "source": [
    "X[7][None, :]"
   ]
  },
  {
   "cell_type": "code",
   "execution_count": 87,
   "metadata": {},
   "outputs": [
    {
     "data": {
      "text/plain": [
       "(1, 7)"
      ]
     },
     "execution_count": 87,
     "metadata": {},
     "output_type": "execute_result"
    }
   ],
   "source": [
    "X[7][None, :].shape"
   ]
  },
  {
   "cell_type": "code",
   "execution_count": null,
   "metadata": {},
   "outputs": [],
   "source": [
    "from dataclasses import dataclass\n",
    "\n",
    "@dataclass\n",
    "class Patient:\n",
    "    age: float\n",
    "    pain: bool\n",
    "    rbc_count: float\n",
    "    rbc_urine: int\n"
   ]
  }
 ],
 "metadata": {
  "kernelspec": {
   "display_name": ".venv",
   "language": "python",
   "name": "python3"
  },
  "language_info": {
   "codemirror_mode": {
    "name": "ipython",
    "version": 3
   },
   "file_extension": ".py",
   "mimetype": "text/x-python",
   "name": "python",
   "nbconvert_exporter": "python",
   "pygments_lexer": "ipython3",
   "version": "3.12.6"
  }
 },
 "nbformat": 4,
 "nbformat_minor": 2
}
