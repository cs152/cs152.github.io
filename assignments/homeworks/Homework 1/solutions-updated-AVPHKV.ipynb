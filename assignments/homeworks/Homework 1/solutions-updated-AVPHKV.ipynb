{
 "cells": [
  {
   "cell_type": "markdown",
   "metadata": {
    "id": "Hc3Pjf1Q5Lx5"
   },
   "source": [
    "# **Homework 1**: Introduction to Numpy (solutions)"
   ]
  },
  {
   "cell_type": "markdown",
   "metadata": {
    "id": "SjZuU38i5Lx5"
   },
   "source": [
    "### Python setup"
   ]
  },
  {
   "cell_type": "code",
   "execution_count": 39,
   "metadata": {
    "executionInfo": {
     "elapsed": 7412,
     "status": "ok",
     "timestamp": 1733438752928,
     "user": {
      "displayName": "Gabriel Hope",
      "userId": "02289172270257728733"
     },
     "user_tz": 480
    },
    "id": "ezNQ6nrN5Lx6"
   },
   "outputs": [],
   "source": [
    "# Run me first!\n",
    "import numpy as np\n",
    "import matplotlib.pyplot as plt\n",
    "import seaborn as sns\n",
    "sns.set_style('darkgrid')"
   ]
  },
  {
   "cell_type": "markdown",
   "metadata": {
    "id": "wpUueDC15Lx6"
   },
   "source": [
    "## **Part 1**: Numpy basics"
   ]
  },
  {
   "cell_type": "markdown",
   "metadata": {
    "id": "wbFSaYJO5Lx6"
   },
   "source": [
    "As discussed in class, a square matrix $A$ defines a linear mapping: $\\mathbb{R}^n\\rightarrow \\mathbb{R}^n$. Given a vector $\\textbf{x}$, we can find the corresponding output of this mapping $\\textbf{b}$ using matrix-vector multiplication: $\\textbf{b}=A \\textbf{x}$. We can write an example matrix-multiplication using matrix notation as:\n",
    "\n",
    "$$\\begin{bmatrix}\n",
    "4 & -3 & 2 \\\\\n",
    "6 & 5  & 1 \\\\\n",
    "-4 & -1 & 2\n",
    "\\end{bmatrix} \\cdot \\begin{bmatrix}\n",
    "1 \\\\\n",
    "-2 \\\\\n",
    "1\n",
    "\\end{bmatrix}\n",
    "= \\begin{bmatrix}\n",
    "? \\\\\n",
    "? \\\\\n",
    "?\n",
    "\\end{bmatrix}\n",
    "$$\n",
    "\n",
    "#### **Q1** \n",
    "Perform this matrix-vector multiplication by hand and write the answer in the cell below."
   ]
  },
  {
   "cell_type": "markdown",
   "metadata": {
    "id": "Wez17xo05Lx6"
   },
   "source": [
    "#### Answer\n",
    "Performing the matrix-vector multiplication by hand:\n",
    "\n",
    "$$\\begin{bmatrix}\n",
    "4 & -3 & 2 \\\\\n",
    "6 & 5  & 1 \\\\\n",
    "-4 & -1 & 2\n",
    "\\end{bmatrix} \\cdot \\begin{bmatrix}\n",
    "1 \\\\\n",
    "-2 \\\\\n",
    "1\n",
    "\\end{bmatrix}\n",
    "= \\begin{bmatrix}\n",
    "4(1) + (-3)(-2) + 2(1) \\\\\n",
    "6(1) + 5(-2) + 1(1) \\\\\n",
    "-4(1) + (-1)(-2) + 2(1)\n",
    "\\end{bmatrix}\n",
    "= \\begin{bmatrix}\n",
    "4 + 6 + 2 \\\\\n",
    "6 - 10 + 1 \\\\\n",
    "-4 + 2 + 2\n",
    "\\end{bmatrix}\n",
    "= \\begin{bmatrix}\n",
    "12 \\\\\n",
    "-3 \\\\\n",
    "0\n",
    "\\end{bmatrix}\n",
    "$$\n"
   ]
  },
  {
   "cell_type": "markdown",
   "metadata": {},
   "source": [
    "<div style=\"page-break-after: always; visibility: hidden\"> \n",
    "\\pagebreak \n",
    "</div>"
   ]
  },
  {
   "cell_type": "markdown",
   "metadata": {
    "id": "ur6mO9CL5Lx8"
   },
   "source": [
    "#### **Q2** \n",
    "In the code cell below, create the matrix $A$ and the vector $\\textbf{x}$ shown above, using Numpy. Then use the `np.dot` function to find the output of the mapping $\\textbf{b} = A\\textbf{x}$. Verify that the answer matches what you derived above."
   ]
  },
  {
   "cell_type": "markdown",
   "metadata": {},
   "source": [
    "#### Answer"
   ]
  },
  {
   "cell_type": "code",
   "execution_count": 40,
   "metadata": {
    "id": "FG-7gq3F5Lx8"
   },
   "outputs": [
    {
     "name": "stdout",
     "output_type": "stream",
     "text": [
      "[12 -3  0]\n"
     ]
    }
   ],
   "source": [
    "# Fill answers here\n",
    "A = np.array([[4, -3, 2],\n",
    "              [6, 5, 1],\n",
    "              [-4, -1, 2]\n",
    "              ])\n",
    "x = np.array([1, -2, 1])\n",
    "b = np.dot(A, x)\n",
    "\n",
    "print(b)"
   ]
  },
  {
   "cell_type": "markdown",
   "metadata": {
    "id": "hwbvi_ss5Lx8"
   },
   "source": [
    "Often we will have access to the transformed vector $\\textbf{b}$ and need to find the orginal vector $\\textbf{x}$. To do this we need to *solve* the system of linear equations $A\\textbf{x}=\\textbf{b}$ for $\\textbf{x}$.\n",
    "$$\\begin{bmatrix}\n",
    "4 & -3 & 2 \\\\\n",
    "6 & 5  & 1 \\\\\n",
    "-4 & -1 & 2\n",
    "\\end{bmatrix} \\cdot \\begin{bmatrix}\n",
    "? \\\\\n",
    "? \\\\\n",
    "?\n",
    "\\end{bmatrix} = \\begin{bmatrix}\n",
    "2 \\\\\n",
    "-1 \\\\\n",
    "3\n",
    "\\end{bmatrix}\n",
    "$$\n",
    "\n",
    "#### **Q3** \n",
    "Find the missing $\\textbf{x}$ in the equation above using the `np.linalg.solve` function and verify that $A\\textbf{x}=\\textbf{b}$."
   ]
  },
  {
   "cell_type": "markdown",
   "metadata": {},
   "source": [
    "#### Answer"
   ]
  },
  {
   "cell_type": "code",
   "execution_count": 41,
   "metadata": {
    "id": "cX-8ZurW5Lx9"
   },
   "outputs": [
    {
     "name": "stdout",
     "output_type": "stream",
     "text": [
      "[ 2 -1  3] [ 2. -1.  3.]\n"
     ]
    }
   ],
   "source": [
    "b = np.array([2, -1, 3])\n",
    "x = np.linalg.solve(A, b)\n",
    "print(b, np.dot(A, x))"
   ]
  },
  {
   "cell_type": "markdown",
   "metadata": {
    "id": "vZkv18405Lx9"
   },
   "source": [
    "In linear algebra you may have learned how to solve a system of linear equations using Gaussian elimination. Here we will implement an alternative approach known as *Richardson iteration*. In this method we start with an inital guess for the solution: $\\textbf{x}^{(0)}$, then we will iteratively update this guess until the solution is reached. Given a matrix $A$, a target $\\textbf{b}$ and a current guess $\\textbf{x}^{(k)}$, we can compute the Richardson update as:\n",
    "\n",
    "$$\\textbf{x}^{(k+1)} \\leftarrow \\textbf{x}^{(k)} + \\omega \\left(\\textbf{b} - A\\textbf{x}^{(k)}\\right)$$\n",
    "\n",
    "Here $\\omega$ is a constant that we can choose to adjust the algorithm. We will set $\\omega = 0.1$.\n",
    "\n",
    "#### **Q4** \n",
    "Fill in the Richardson iteration function below and apply it to the system of linear equations from above using 100 updates. Verify that if gives a similar answer to `np.linalg.solve`."
   ]
  },
  {
   "cell_type": "markdown",
   "metadata": {},
   "source": [
    "#### Answer"
   ]
  },
  {
   "cell_type": "code",
   "execution_count": 42,
   "metadata": {
    "id": "6LW8LEBM5Lx9"
   },
   "outputs": [
    {
     "name": "stdout",
     "output_type": "stream",
     "text": [
      "[-0.175 -0.2    1.05 ] [-0.175 -0.2    1.05 ]\n"
     ]
    }
   ],
   "source": [
    "# Fill in function below\n",
    "def richardson_iter(x_guess, A, b, omega=0.1):\n",
    "    new_x_guess = x_guess + omega * (b - np.dot(A, x_guess))\n",
    "    return new_x_guess\n",
    "\n",
    "x_guess = np.zeros(3)\n",
    "for i in range(100):\n",
    "    x_guess = richardson_iter(x_guess, A, b)\n",
    "\n",
    "print(x_guess, x)"
   ]
  },
  {
   "cell_type": "markdown",
   "metadata": {
    "id": "mQxDs4q-5Lx9"
   },
   "source": [
    "Recall that the length of a vector is given by it's *two-norm*, which is defined as:\n",
    "$$\\|\\mathbf{x}\\|_2 = \\sqrt{\\sum_{i=1}^n x_i^2}.$$\n",
    "\n",
    "\n",
    "Correspondingly, the (Euclidian) distance between two points $\\mathbf{a}, \\mathbf{b} \\in \\mathbb{R}^n$ can be written as $\\|\\mathbf{a} - \\mathbf{b}\\|_2$. As a convenient measure of error for our Richardson iteration algorithm, we will use the *squared Euclidean distance*. For a guess $\\mathbf{x}^{(k)}$ we will compute the error $e^{(k)}$ as:\n",
    "$$e^{(k)} = \\|A\\mathbf{x}^{(k)} - \\mathbf{b}\\|_2^2$$\n",
    "\n",
    "In expanded form, this would be written as:\n",
    "$$e^{(k)} = \\sum_{i=1}^n \\left(\\sum_{j=1}^n A_{ij}x^{(k)}_j - b_i\\right)^2$$\n",
    "\n",
    "#### **Q5** \n",
    "Write a function to compute the error of a given guess. Then run Richardson iteration again for 100 steps, computing the error at each step. Finally create a plot of the error for each step (error vs. step). [Plot reference](https://cs152.github.io/lecture1-background/notes.html#scatterplots-and-line-plots)\n",
    "\n",
    "*Hint: recall that basic operations in numpy (addition, subtraction, powers) are performed element-wise.*"
   ]
  },
  {
   "cell_type": "markdown",
   "metadata": {},
   "source": [
    "#### Answer"
   ]
  },
  {
   "cell_type": "code",
   "execution_count": 43,
   "metadata": {
    "id": "7Y3TAlT95Lx9"
   },
   "outputs": [
    {
     "data": {
      "text/plain": [
       "[<matplotlib.lines.Line2D at 0x1236343b0>]"
      ]
     },
     "execution_count": 43,
     "metadata": {},
     "output_type": "execute_result"
    },
    {
     "data": {
      "image/png": "[encoded data removed]",
      "text/plain": [
       "<Figure size 640x480 with 1 Axes>"
      ]
     },
     "metadata": {},
     "output_type": "display_data"
    }
   ],
   "source": [
    "def error(x_guess, A, b):\n",
    "    err = (np.dot(A, x_guess) - b) ** 2\n",
    "    err = err.sum()\n",
    "    return err\n",
    "\n",
    "# Add code to plot the error over time\n",
    "x_guess = np.zeros(3)\n",
    "all_errors = [error(x_guess, A, b)]\n",
    "for step in range(100):\n",
    "    \n",
    "    x_guess = richardson_iter(x_guess, A, b)\n",
    "    all_errors.append(error(x_guess, A, b))\n",
    "\n",
    "plt.plot(all_errors)"
   ]
  },
  {
   "cell_type": "markdown",
   "metadata": {
    "id": "RmDbEPzM5Lx9"
   },
   "source": [
    "#### **Q6** \n",
    "Derive the partial derivative of the error with respect to a single entry of $\\mathbf{x}^{(k)}$ (without loss of generality, we will say $x^{(k)}_1$). Work in the *expanded form* as in the equation above, writing your answer in the markdown cell below.\n",
    "\n",
    "*Hint: You may find it helpful to refer to the latex equation cheatsheet on the course website. You may show intermediate steps here or as handwritten work as a separate file in the repository. The final answer should be filled in here.*"
   ]
  },
  {
   "cell_type": "markdown",
   "metadata": {
    "id": "tTjEGAem5Lx9"
   },
   "source": [
    "#### Answer\n",
    "$$\\frac{\\partial e^{(k)}}{\\partial x^{(k)}_1}=  \\frac{\\partial}{\\partial x^{(k)}_1} \\sum_{i=1}^n \\left(\\sum_{j=1}^n A_{ij}x^{(k)}_j - b_i\\right)^2$$"
   ]
  },
  {
   "cell_type": "markdown",
   "metadata": {},
   "source": [
    "Apply sum and chain rules\n",
    "$$=   2\\sum_{i=1}^n \\left(\\sum_{j=1}^n A_{ij}x^{(k)}_j - b_i\\right) \\frac{\\partial}{\\partial x^{(k)}_1}\\left(\\sum_{j=1}^n A_{ij}x^{(k)}_j - b_i\\right)$$\n",
    "Apply sum rule noting that $\\frac{\\partial}{\\partial x^{(k)}_1}A_{ij}x_{j} = 0$ for $j\\neq 1$.\n"
   ]
  },
  {
   "cell_type": "markdown",
   "metadata": {},
   "source": [
    "$$=2\\sum_{i=1}^n \\left(\\sum_{j=1}^n A_{ij}x^{(k)}_j - b_i\\right) A_{i1}$$"
   ]
  },
  {
   "cell_type": "markdown",
   "metadata": {
    "id": "krQgiqGf5Lx9"
   },
   "source": [
    "In practice, we will likely want to compute the derivative with respect to *all* entries of $\\mathbf{x}$:\n",
    "$$\\frac{\\partial e^{(k)}}{\\partial \\mathbf{x}^{(k)}} = \\begin{bmatrix}\n",
    "\\frac{\\partial e^{(k)}}{\\partial x^{(k)}_1} \\\\\n",
    " \\vdots \\\\\n",
    "\\frac{\\partial e^{(k)}}{\\partial x^{(k)}_n}\n",
    "\\end{bmatrix}$$\n",
    "\n",
    "#### **Q7** \n",
    "Using the formula you just derived, write the formula for the vector of all partial derivatives in the compact matrix/vector notation (e.g. $A\\mathbf{x}=\\mathbf{b}$)."
   ]
  },
  {
   "cell_type": "markdown",
   "metadata": {},
   "source": [
    "#### Answer"
   ]
  },
  {
   "cell_type": "markdown",
   "metadata": {},
   "source": [
    "$\\sum_{j=1}^n A_{ij}x^{(k)}_j$ of the $i^{th}$ entry of the matrix-vector product $\\mathbf{A}\\mathbf{x}^{(k)}$\n",
    "$$=2\\sum_{i=1}^n \\left( (\\mathbf{A}\\mathbf{x}^{(k)})_i - b_i\\right) A_{i1}$$"
   ]
  },
  {
   "cell_type": "markdown",
   "metadata": {},
   "source": [
    "Similarly subtracting $b_i$ corresponds to vector subtraction with the vector $\\mathbf{b}$\n",
    "$$=2\\sum_{i=1}^n \\left( \\mathbf{A}\\mathbf{x}^{(k)} - \\mathbf{b}\\right)_i A_{i1}$$"
   ]
  },
  {
   "cell_type": "markdown",
   "metadata": {},
   "source": [
    "Finally we're left with the equivalent of a dot product for entry 1!"
   ]
  },
  {
   "cell_type": "markdown",
   "metadata": {},
   "source": [
    "\n",
    "$$\\frac{\\partial e^{(k)}}{\\partial x_1^{(k)}}= 2 \\left( \\mathbf{A}\\mathbf{x}^{(k)} - \\mathbf{b}\\right)^T \\mathbf{A}_{1}$$"
   ]
  },
  {
   "cell_type": "markdown",
   "metadata": {},
   "source": [
    "If we remove the index into $\\mathbf{A}$, we get an expression for the gradient!\n",
    "$$\\frac{\\partial e^{(k)}}{\\partial \\mathbf{x}^{(k)}}= 2 \\left( \\mathbf{A}\\mathbf{x}^{(k)} - \\mathbf{b}\\right)^T \\mathbf{A}$$"
   ]
  },
  {
   "cell_type": "markdown",
   "metadata": {
    "id": "eN6pcpoX5Lx9"
   },
   "source": [
    "#### **Q8** \n",
    "Do you notice any relationship between this result and the Richardson iteration algorithm above? (1-2 sentences) *We will discuss this more in class!*"
   ]
  },
  {
   "cell_type": "markdown",
   "metadata": {
    "id": "MnaZU2CR5Lx9"
   },
   "source": [
    "#### Answer\n",
    "\n",
    "We see that this gradient is *almost* equivalent to the update we made in our Richardson iteration, but scaled by $-2\\mathbf{A}$!"
   ]
  },
  {
   "cell_type": "markdown",
   "metadata": {
    "id": "FmCDBb7E5Lx9"
   },
   "source": [
    "## Part 2: Working with batches of vectors"
   ]
  },
  {
   "cell_type": "markdown",
   "metadata": {
    "id": "skr5wjyd5Lx-"
   },
   "source": [
    "Recall that a vector can also be seen as either an $n \\times 1$ matrix (column vector) or a $1 \\times n$ matrix (row vector).\n",
    "\n",
    "$$\\text{Column vector: } \\mathbf{x} = \\begin{bmatrix}\n",
    "x_1 \\\\\n",
    "x_2 \\\\\n",
    "x_3\n",
    "\\end{bmatrix}, \\quad \\text{Row vector: } \\mathbf{x}^T = \\begin{bmatrix}\n",
    "x_1 & x_2 & x_3\n",
    "\\end{bmatrix}$$\n",
    "\n",
    "Note that we use the same notation for both as they refer to the same concept (a vector). The difference becomes relevant when we consider matrix-vector multiplication. We can write matrix-vector multiplication in two ways: $$\\text{Matrix-vector: }A\\mathbf{x} = \\mathbf{b}, \\quad \\text{Vector-matrix: }\\mathbf{x}^TA^T= \\mathbf{b}^T$$\n",
    "In *matrix-vector multiplication* we treat $\\textbf{x}$ as a column vector ($n \\times 1$ matrix), while in *vector-matrix multiplication* we treat it as a row vector ($n \\times 1$ matrix). Transposing $A$ for left multiplication ensures that the two forms give the same answer.\n",
    "\n",
    "#### **Q9** \n",
    "Using the previously defined $\\mathbf{x}$, create an explicit column vector and row vector. Then using the previously defined $A$, verify that the matrix-vector and vector-matrix multiplications shown above do produce the same resultant vector $\\mathbf{b}$.\n",
    "\n",
    "*Hint: Recall that* `np.dot` *is also used for matrix-matrix multiplication. The values of $\\mathbf{x}$ and $A$ are:*\n",
    "$$\\mathbf{x} = \\begin{bmatrix}\n",
    "1 \\\\\n",
    "-2 \\\\\n",
    "1\n",
    "\\end{bmatrix}, \\quad A = \\begin{bmatrix}\n",
    "4 & -3 & 2 \\\\\n",
    "6 & 5  & 1 \\\\\n",
    "-4 & -1 & 2\n",
    "\\end{bmatrix}$$"
   ]
  },
  {
   "cell_type": "markdown",
   "metadata": {},
   "source": [
    "#### Answer"
   ]
  },
  {
   "cell_type": "code",
   "execution_count": 44,
   "metadata": {
    "id": "WzTbsXlZ5Lx-"
   },
   "outputs": [
    {
     "name": "stdout",
     "output_type": "stream",
     "text": [
      "[[ 2.]\n",
      " [-1.]\n",
      " [ 3.]] [[ 2. -1.  3.]]\n"
     ]
    }
   ],
   "source": [
    "x_col = x[:, None] # Add new diminsion 1\n",
    "x_row = x[None, :] # Add new dimension 0\n",
    "print(np.dot(A, x_col), np.dot(x_row, A.T))"
   ]
  },
  {
   "cell_type": "markdown",
   "metadata": {
    "id": "-IXH77oN73O4"
   },
   "source": [
    "The distinction between row and column vectors also affects the behaivior of other operations on `np.array` objects, particularly through the concept of [*broadcasting*](https://cs152.github.io/lecture1-background/notes.html#element-wise-matrix-operations)."
   ]
  },
  {
   "cell_type": "markdown",
   "metadata": {
    "id": "u2g6HWNN_Dmy"
   },
   "source": [
    "#### **Q10** \n",
    "Consider a $3 \\times 3$ matrix of all ones as defined in code below, along with the 1-d vector $\\mathbf{x}$."
   ]
  },
  {
   "cell_type": "code",
   "execution_count": 45,
   "metadata": {
    "colab": {
     "base_uri": "https://localhost:8080/"
    },
    "executionInfo": {
     "elapsed": 516,
     "status": "ok",
     "timestamp": 1733439058698,
     "user": {
      "displayName": "Gabriel Hope",
      "userId": "02289172270257728733"
     },
     "user_tz": 480
    },
    "id": "f_I7SIPK_8s8",
    "outputId": "1ce3fabf-d440-4757-d717-1edfae62ca4b"
   },
   "outputs": [
    {
     "data": {
      "text/plain": [
       "array([[1., 1., 1.],\n",
       "       [1., 1., 1.],\n",
       "       [1., 1., 1.]])"
      ]
     },
     "execution_count": 45,
     "metadata": {},
     "output_type": "execute_result"
    }
   ],
   "source": [
    "ones = np.ones((3, 3))\n",
    "x = np.array([1, -2, 1])\n",
    "ones"
   ]
  },
  {
   "cell_type": "markdown",
   "metadata": {
    "id": "2OhQ2MQ6AAtT"
   },
   "source": [
    "Complete the line of code below such that the result of the operation is:\n",
    "\n",
    "$$\\begin{bmatrix}\n",
    "1 & -2 & 1 \\\\\n",
    "1 & -2  & 1 \\\\\n",
    "1 & -2 & 1\n",
    "\\end{bmatrix}$$\n",
    "\n",
    "*Hint: You should replace `SHAPE` with an appropriate shape for broadcasting and `OPERATION` with an appropriate operation (e.g. `+, -, *, /`)*"
   ]
  },
  {
   "cell_type": "markdown",
   "metadata": {},
   "source": [
    "#### Answer"
   ]
  },
  {
   "cell_type": "code",
   "execution_count": 46,
   "metadata": {
    "id": "HSPOfqSaBfEH"
   },
   "outputs": [
    {
     "name": "stdout",
     "output_type": "stream",
     "text": [
      "[[ 1. -2.  1.]\n",
      " [ 1. -2.  1.]\n",
      " [ 1. -2.  1.]]\n"
     ]
    }
   ],
   "source": [
    "result = ones * x.reshape((1, -1))\n",
    "print(result)"
   ]
  },
  {
   "cell_type": "markdown",
   "metadata": {
    "id": "zBMLlCyK5Lx-"
   },
   "source": [
    "Throughout this course we will typically use row vectors and vector-matrix multiplication, as this is more conventional in neural-network literature. The concept of row and column vectors becomes handy when transforming *collections* of vectors.\n",
    "\n",
    "Recall that a matrix can be seen as a collection of vectors. In numpy we can create a matrix from a list of (1- dimensional) vectors using the `np.stack` function. This function assumes that the vectors are row vectors creating the matrix as follows:\n",
    "$$\\begin{bmatrix}\n",
    "3 & 1 & -2\n",
    "\\end{bmatrix},\\ \\begin{bmatrix}\n",
    "4 & 5 & 3\n",
    "\\end{bmatrix},\\ \\begin{bmatrix}\n",
    "-2 & -1 & 5\n",
    "\\end{bmatrix}\\quad \\overset{\\text{np.stack}}{\\longrightarrow} \\begin{bmatrix}\n",
    "3 & 1 & -2 \\\\\n",
    "4 & 5 & 3 \\\\\n",
    "-2 & -1 & 5\n",
    "\\end{bmatrix} $$\n",
    "\n",
    "We will call this matrix $X$ to denote that it is a collection of vectors, rather than a single vector ($\\mathbf{x}$).\n",
    "\n",
    "#### **Q11** \n",
    "Create this matrix in numpy using th `np.stack` function."
   ]
  },
  {
   "cell_type": "markdown",
   "metadata": {},
   "source": [
    "#### Answer"
   ]
  },
  {
   "cell_type": "code",
   "execution_count": 47,
   "metadata": {
    "id": "avSLz7lW5Lx-"
   },
   "outputs": [
    {
     "name": "stdout",
     "output_type": "stream",
     "text": [
      "[[ 3  1 -2]\n",
      " [ 4  5  3]\n",
      " [-2 -1  5]]\n"
     ]
    }
   ],
   "source": [
    "X = np.stack([np.array([3, 1, -2]), np.array([4, 5, 3]), np.array([-2, -1, 5])])\n",
    "print(X)"
   ]
  },
  {
   "cell_type": "markdown",
   "metadata": {
    "id": "mBf2wx_Y5Lx-"
   },
   "source": [
    "When taken together as a matrix in this way, we can apply the linear mapping $A$ to all vectors using matrix-matrix multiplication:\n",
    "$$B=XA^T$$\n",
    "\n",
    "Let's put this into practice with a visual example.\n",
    "\n",
    "#### **Q12** \n",
    "Create a $20 \\times 3$ matrix, `circle`, in numpy of the following form\n",
    "\n",
    "$$ \\begin{bmatrix} \\sin(\\theta_1) & \\cos(\\theta_1)  & 1 \\\\\n",
    "\\sin(\\theta_2) & \\cos(\\theta_2)  & 1 \\\\\n",
    "\\vdots & \\vdots & \\vdots \\\\\n",
    "\\sin(\\theta_{20}) & \\cos(\\theta_{20})  & 1 \\\\\n",
    " \\end{bmatrix}$$\n",
    " Where $\\theta_1...\\theta_{20}$ are evenly spaced between $0$ and $2\\pi$."
   ]
  },
  {
   "cell_type": "markdown",
   "metadata": {},
   "source": [
    "#### Answer"
   ]
  },
  {
   "cell_type": "code",
   "execution_count": 48,
   "metadata": {
    "id": "CqtN-ie65Lx-"
   },
   "outputs": [],
   "source": [
    "theta = np.linspace(0, 2 * np.pi, 20) # Generates 20 evenly-spaced numbers between 0 and 2π\n",
    "\n",
    "circle = np.stack([np.sin(theta), np.cos(theta), np.ones_like(theta)]).T\n"
   ]
  },
  {
   "cell_type": "markdown",
   "metadata": {
    "id": "teAKNSOF5Lx-"
   },
   "source": [
    "The code we just wrote creates a matrix corresponding to a collection of $20$ row vectors of length 3. Each vector represents a point on the unit circle where the first entry is the x-coordinate, the second entry is the y-coordinate and the third entry is always $1$:\n",
    "$$ \\begin{bmatrix} x & y & 1 \\end{bmatrix}$$\n",
    "\n",
    "#### **Q13** \n",
    "Plot the set of 20 points in `circle` using the `plt.plot` function. *Use only the x and y coordinates, ignoring the column of 1s.*"
   ]
  },
  {
   "cell_type": "markdown",
   "metadata": {},
   "source": [
    "#### Answer"
   ]
  },
  {
   "cell_type": "code",
   "execution_count": 49,
   "metadata": {
    "id": "9ZtWVA285Lx-"
   },
   "outputs": [
    {
     "data": {
      "text/plain": [
       "[<matplotlib.lines.Line2D at 0x12532df10>]"
      ]
     },
     "execution_count": 49,
     "metadata": {},
     "output_type": "execute_result"
    },
    {
     "data": {
      "image/png": "[encoded data removed]",
      "text/plain": [
       "<Figure size 400x400 with 1 Axes>"
      ]
     },
     "metadata": {},
     "output_type": "display_data"
    }
   ],
   "source": [
    "plt.figure(figsize=(4, 4))\n",
    "plt.xlim(-3, 3)\n",
    "plt.ylim(-3, 3)\n",
    "\n",
    "plt.plot(circle[:, 0], circle[:, 1])\n"
   ]
  },
  {
   "cell_type": "markdown",
   "metadata": {
    "id": "8Si2uh0N5Lx-"
   },
   "source": [
    "#### **Q14** \n",
    "Transform all the vectors in `circle` with the matrix $A$ using a single call to `np.dot`. Then plot the original set of points in black and the transformed points in red using the `plt.plot` function.\n",
    "\n",
    "*You might also consider why we added the extra column of 1s! We will discuss the answer to that in class. $A$ is the same matrix from q1.*"
   ]
  },
  {
   "cell_type": "markdown",
   "metadata": {},
   "source": [
    "#### Answer"
   ]
  },
  {
   "cell_type": "code",
   "execution_count": 50,
   "metadata": {
    "id": "82ZI06lW5Lx_"
   },
   "outputs": [],
   "source": [
    "transformed_circle = np.dot(circle, A)"
   ]
  },
  {
   "cell_type": "code",
   "execution_count": 51,
   "metadata": {
    "id": "2EJu_FKL5Lx_"
   },
   "outputs": [
    {
     "data": {
      "text/plain": [
       "[<matplotlib.lines.Line2D at 0x125395490>]"
      ]
     },
     "execution_count": 51,
     "metadata": {},
     "output_type": "execute_result"
    },
    {
     "data": {
      "image/png": "[encoded data removed]",
      "text/plain": [
       "<Figure size 400x400 with 1 Axes>"
      ]
     },
     "metadata": {},
     "output_type": "display_data"
    }
   ],
   "source": [
    "plt.figure(figsize=(4, 4))\n",
    "plt.xlim(-10, 10)\n",
    "plt.ylim(-10, 10)\n",
    "\n",
    "plt.plot(circle[:, 0], circle[:, 1], c='k')\n",
    "plt.plot(transformed_circle[:, 0], transformed_circle[:, 1], c='r')"
   ]
  },
  {
   "cell_type": "markdown",
   "metadata": {
    "id": "JH6nIeTkDXmV"
   },
   "source": [
    "#### **Q15** \n",
    "Finally, shift all the vectors in `transformed_circle` by the vector $\\mathbf{b}$ defined below, that is, add $\\mathbf{b}$ to every *row* of the output matrix. Again plot the original set of points in black and the transformed points in red using the `plt.plot` function.\n",
    "\n",
    "*Hint: the solution to this question should **not** involve any loops, instead use broadcasting.*"
   ]
  },
  {
   "cell_type": "code",
   "execution_count": 52,
   "metadata": {
    "id": "k8Ui2G2-Dywp"
   },
   "outputs": [],
   "source": [
    "b = np.array([4, 1.2, 0])\n",
    "transformed_circle = np.dot(circle, A) + b"
   ]
  },
  {
   "cell_type": "code",
   "execution_count": 53,
   "metadata": {
    "id": "7BhOmrLiDXT0"
   },
   "outputs": [
    {
     "data": {
      "text/plain": [
       "[<matplotlib.lines.Line2D at 0x1253f94f0>]"
      ]
     },
     "execution_count": 53,
     "metadata": {},
     "output_type": "execute_result"
    },
    {
     "data": {
      "image/png": "[encoded data removed]",
      "text/plain": [
       "<Figure size 400x400 with 1 Axes>"
      ]
     },
     "metadata": {},
     "output_type": "display_data"
    }
   ],
   "source": [
    "plt.figure(figsize=(4, 4))\n",
    "plt.xlim(-10, 10)\n",
    "plt.ylim(-10, 10)\n",
    "\n",
    "plt.plot(circle[:, 0], circle[:, 1], c='k')\n",
    "plt.plot(transformed_circle[:, 0], transformed_circle[:, 1], c='r')"
   ]
  },
  {
   "cell_type": "markdown",
   "metadata": {
    "id": "NiiTblNu5Lx_"
   },
   "source": [
    "## Part 3: Loading and visualizing data\n",
    "\n",
    "For most of this class we will be working with real-world data. A very well-known dataset in statistics is the [*Iris flower dataset*](https://en.wikipedia.org/wiki/Iris_flower_data_set) collected by Edgar Anderson in 1929. The dataset consists of measurments of iris flowers. Each flower has 4 collected measurements: sepal length, sepal width, petal length, petal width, as well as a classification into one of 3 species: *Iris setosa*, *Iris versicolor* and *Iris virginica*. We will return to this dataset in the next homework.\n",
    "\n",
    "We can load this dataset as Numpy objects using the Scikit-Learn library. Below we've extrated 4 relevant arrays:\n",
    "- `features`: a matrix which has one row per observed flower and one column per measurement.\n",
    "- `targets`: An array that specifies the species of each flower as a number 0-2.\n",
    "- `feature_names`: a list of strings with the name of each measurement.\n",
    "- `target_names`: a list of strings with the name of each species.\n",
    "\n",
    "In this homework, we will only visualize this dataset, which is typically a good first step in working with a new type of data. We'll start by just looking at 2 measurements *sepal length* and *petal length*, along with the species."
   ]
  },
  {
   "cell_type": "markdown",
   "metadata": {
    "id": "4Cn03mNTHWnM"
   },
   "source": [
    "#### **Q16** \n",
    "Based on the Iris dataset loaded below, how many flowers did Edgar Anderson measure?\n",
    "\n",
    "*In other words, how many observations are in this dataset?*"
   ]
  },
  {
   "cell_type": "markdown",
   "metadata": {},
   "source": [
    "#### Answer"
   ]
  },
  {
   "cell_type": "code",
   "execution_count": 54,
   "metadata": {
    "id": "PWH_ZfeLHV9W"
   },
   "outputs": [
    {
     "name": "stdout",
     "output_type": "stream",
     "text": [
      "150\n"
     ]
    }
   ],
   "source": [
    "import sklearn.datasets as datasets\n",
    "dataset = datasets.load_iris()\n",
    "features = dataset['data']\n",
    "targets = dataset['target']\n",
    "feature_names = dataset['feature_names']\n",
    "target_names = dataset['target_names']\n",
    "\n",
    "# Answer\n",
    "num_observations = features.shape[0]\n",
    "print(num_observations)"
   ]
  },
  {
   "cell_type": "markdown",
   "metadata": {
    "id": "p3-TyhmVHTc_"
   },
   "source": [
    "Fill in the code to create a scatterplot for the Iris dataset below. Plot *sepal length* on the **x-axis** and *petal length* on the **y-axis**. Set the **color** to correspond to the *species*."
   ]
  },
  {
   "cell_type": "code",
   "execution_count": 55,
   "metadata": {
    "executionInfo": {
     "elapsed": 885,
     "status": "ok",
     "timestamp": 1733440667394,
     "user": {
      "displayName": "Gabriel Hope",
      "userId": "02289172270257728733"
     },
     "user_tz": 480
    },
    "id": "qAViXC6a5Lx_"
   },
   "outputs": [
    {
     "data": {
      "text/plain": [
       "<matplotlib.colorbar.Colorbar at 0x1252159d0>"
      ]
     },
     "execution_count": 55,
     "metadata": {},
     "output_type": "execute_result"
    },
    {
     "data": {
      "image/png": "[encoded data removed]",
      "text/plain": [
       "<Figure size 400x400 with 2 Axes>"
      ]
     },
     "metadata": {},
     "output_type": "display_data"
    }
   ],
   "source": [
    "# Fill your code here\n",
    "\n",
    "plt.figure(figsize=(4, 4))\n",
    "plt.scatter(features[:, 0], features[:, 2], c=targets, cmap='viridis')\n",
    "plt.xlabel('Sepal Length (cm)')\n",
    "plt.ylabel('Petal Length (cm)')\n",
    "plt.title('Sepal Length vs Petal Length')\n",
    "plt.colorbar(label='Species')"
   ]
  }
 ],
 "metadata": {
  "colab": {
   "provenance": []
  },
  "kernelspec": {
   "display_name": ".venv",
   "language": "python",
   "name": "python3"
  },
  "language_info": {
   "codemirror_mode": {
    "name": "ipython",
    "version": 3
   },
   "file_extension": ".py",
   "mimetype": "text/x-python",
   "name": "python",
   "nbconvert_exporter": "python",
   "pygments_lexer": "ipython3",
   "version": "3.12.6"
  },
  "orig_nbformat": 4
 },
 "nbformat": 4,
 "nbformat_minor": 0
}
