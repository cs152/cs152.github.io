{
 "cells": [
  {
   "cell_type": "markdown",
   "metadata": {},
   "source": [
    "# **Homework 2:** Linear regression and maximum likelihood"
   ]
  },
  {
   "cell_type": "markdown",
   "metadata": {},
   "source": [
    "### Collaborators\n",
    "\n",
    "Please list anyone you discussed or collaborated on this assignment with below."
   ]
  },
  {
   "cell_type": "markdown",
   "metadata": {},
   "source": [
    "LIST COLLABORATORS HERE"
   ]
  },
  {
   "cell_type": "markdown",
   "metadata": {},
   "source": [
    "### Course feedback\n",
    "\n",
    "Please submit this week's course survey here: https://forms.gle/waVksu5TnZLixvYH7"
   ]
  },
  {
   "cell_type": "code",
   "execution_count": 60,
   "metadata": {},
   "outputs": [],
   "source": [
    "# Run me first!\n",
    "import numpy as np\n",
    "import matplotlib.pyplot as plt\n",
    "import seaborn as sns\n",
    "sns.set_style('darkgrid')"
   ]
  },
  {
   "cell_type": "markdown",
   "metadata": {},
   "source": [
    "In this homework, we will use the following convention for dimentionality:\n",
    "\n",
    "$N:\\quad\\text{Number of observations in a dataset, so } \\mathcal{D} = \\{ (\\mathbf{x}_1, y_1),\\ (\\mathbf{x}_2, y_2),\\ ... \\,(\\mathbf{x}_N, y_N) \\}$\n",
    "\n",
    "$d:\\quad\\ \\text{Dimension of input (number of features), so } \\mathbf{x}_i \\in \\mathbb{R}^d$\n"
   ]
  },
  {
   "cell_type": "markdown",
   "metadata": {},
   "source": [
    "## Part 1: Linear regression\n",
    "\n",
    "Let's begin by reviewing the context of linear regression.\n",
    "\n",
    "\n",
    "\n",
    "Recall that the linear regression model makes predictions of the following form:\n",
    "\n",
    "$$f(\\mathbf{x})=\\mathbf{x}^T\\mathbf{w} + b$$\n",
    "\n",
    "Or if we consdier the augmented representation:\n",
    "\n",
    "$$\\mathbf{x} \\rightarrow \\begin{bmatrix}\\mathbf{x} \\\\ 1 \\end{bmatrix} = \\begin{bmatrix}x_1 \\\\ x_2 \\\\ \\vdots \\\\ x_d \\\\ 1 \\end{bmatrix},\\quad \\mathbf{w} \\rightarrow \\begin{bmatrix}\\mathbf{w} \\\\ b \\end{bmatrix} = \\begin{bmatrix}w_1 \\\\ w_2 \\\\ \\vdots \\\\ w_d \\\\ b \\end{bmatrix}$$\n",
    "Then we can use the more convenient linear form:\n",
    "$$f(\\mathbf{x}) = \\mathbf{x}^T\\mathbf{w}$$\n",
    "\n",
    "\n",
    "**Q1:** Write a function that takes in an input $(\\mathbf{x})$ and a set of weights $(\\mathbf{w})$ and makes a prediction using the function above. **Your implementation should assume that the bias $(b)$ is included in the weights $(\\mathbf{w})$ and thus should *augment* the input to account for this (or separate $b$ from $\\mathbf{w}$)**."
   ]
  },
  {
   "cell_type": "code",
   "execution_count": null,
   "metadata": {},
   "outputs": [],
   "source": [
    "# Test inputs\n",
    "x = np.array([1, -3, 5])\n",
    "w = np.array([-1, 2, 0.5, 2])\n",
    "y = -2.5\n",
    "\n",
    "def linear_regression(x, w):\n",
    "    ### YOUR CODE HERE\n",
    "    pass\n",
    "\n",
    "## Validate the function\n",
    "assert y == linear_regression(x, w)"
   ]
  },
  {
   "cell_type": "markdown",
   "metadata": {},
   "source": [
    "As discussed in class, we can compactly refer to an entire *dataset* of inputs and outputs using the notation $\\mathbf{X}$ and $\\mathbf{y}$ respectively. Our convention will be that *row* $i$ of $\\mathbf{X}$ will correspond to the $i^{th}$ observed input $\\mathbf{x}_i$, while the corresponding entry $y_i$ of $\\mathbf{y}$ is the observed output. In other words $\\mathbf{X}$ and $\\mathbf{y}$ are defined as:\n",
    "$$\n",
    "\\mathbf{X} =\n",
    "\\begin{bmatrix} X_{11} & X_{12} & \\dots  & X_{1d} & 1 \\\\ \n",
    "                X_{21} & X_{22} & \\dots  & X_{2d} & 1 \\\\ \n",
    "                \\vdots & \\vdots & \\ddots & \\vdots & \\vdots \\\\ \n",
    "                X_{N1} & X_{N2} & \\dots  & X_{Nd} & 1 \\\\  \n",
    "                \\end{bmatrix} = \\begin{bmatrix} \\mathbf{x}_1^T \\\\ \\mathbf{x}_2^T \\\\ \\vdots \\\\ \\mathbf{x}_N^T \\end{bmatrix}, \\quad\n",
    "                \\mathbf{y} = \\begin{bmatrix} y_1 \\\\ y_2 \\\\ \\vdots \\\\ y_N \\end{bmatrix}\n",
    "$$\n",
    "\n",
    "With this notation, we can make predictions for an entire set of inputs as:\n",
    "$$f(\\mathbf{X}) = \\mathbf{X}\\mathbf{w}$$\n",
    "Where the output is now a *vector* of predictions. We see that each entry corresponds to the prediction for input $\\mathbf{x}_i$:\n",
    " $$f(\\mathbf{X})_i = \\mathbf{x}_i^T\\mathbf{w} = f(\\mathbf{x}_i)$$\n",
    "\n",
    " **Q2:** Modify (if needed) your linear regression prediction function to accept a set of inputs as matrix as described above and return a vector of predictions. Once again you should *not* assume the data includes the extra bias dimension. Then plot the prediction function given by the provided weights on the range $[0, 5]$. *Recall that `np.linspace(a, b, n)` produces a vector of `n` equally spaced numbers between `a` and `b`.*"
   ]
  },
  {
   "cell_type": "code",
   "execution_count": null,
   "metadata": {},
   "outputs": [],
   "source": [
    "# Test inputs\n",
    "w = np.array([0.5, 2])\n",
    "\n",
    "def linear_regression(x, w):\n",
    "    ### YOUR CODE HERE\n",
    "    pass\n",
    "\n",
    "## CODE TO PLOT THE FUNCTION HERE\n",
    "X = \n",
    "y = linear_regression(X, w)\n",
    "\n"
   ]
  },
  {
   "cell_type": "markdown",
   "metadata": {},
   "source": [
    "Recall that *ordinary least squares* finds the parameter $\\mathbf{w}$ that minimizes the *mean of squared error* between the true outputs $\\mathbf{y}$ and predictions.\n",
    "$$\\underset{\\mathbf{w}}{\\text{argmin}} \\frac{1}{N} \\sum_{i=1}^N \\left(\\mathbf{x}_i^T\\mathbf{w} - y_i\\right)^2$$\n",
    "\n",
    "Observe that this is the same formula as the error we used for evaluating Richardson iteration in the last homework, we've simply renamed the variables from $(\\mathbf{A}, \\mathbf{x}, \\mathbf{b})$ to $(\\mathbf{X}, \\mathbf{w}, \\mathbf{y})$! *(We've also added the constant $\\frac{1}{N}$, but this doesn't change the optimal $\\mathbf{w}$)*\n",
    "\n",
    "We've now seen 3 equivalent ways to write the same formula. From most compact to least compact these are:\n",
    "$$\\textbf{1: } \\frac{1}{N} \\|\\mathbf{X}\\mathbf{w} - \\mathbf{y}\\|_2^2 \\quad \\textbf{2: } \\frac{1}{N} \\sum_{i=1}^N \\left(\\mathbf{x}_i^T\\mathbf{w} - y_i\\right)^2 \\quad \\textbf{3: } \\frac{1}{N} \\sum_{i=1}^n \\left(\\sum_{j=1}^n X_{ij}w_j - y_i\\right)^2$$\n",
    "\n",
    "**Q3:** Using the gradient formula we derived in class, write a function that returns both the mean squared error *and* the gradient of the error with respect to $\\mathbf{w}$, given $\\mathbf{w}$, $\\mathbf{X}$ and $\\mathbf{y}$. *Hint: don't forget to augment X when computing the gradient!*"
   ]
  },
  {
   "cell_type": "code",
   "execution_count": null,
   "metadata": {},
   "outputs": [],
   "source": [
    "def mse_and_grad(w, X, y):\n",
    "    ### YOUR CODE HERE\n",
    "    return mse, grad_w"
   ]
  },
  {
   "cell_type": "markdown",
   "metadata": {},
   "source": [
    "Recall that we can use the *gradient descent* algorithm to find the input that minimizes a function, using the corresponding gradient function.\n",
    "\n",
    "Given an initial guess of the optimal input, $\\mathbf{w}^{(0)}$, gradient descent uses the following update to improve the guess:\n",
    "$$\\mathbf{w}^{(i+1)} \\longleftarrow \\mathbf{w}^{(i)} - \\alpha \\nabla f(\\mathbf{w}),$$\n",
    "where $\\alpha$ is the *learning rate* or *step size*.\n",
    "\n",
    "**Q4:** Write a function to perform gradient descent. The function should take as input: \n",
    "- `value_and_grad`: A function that produces the output and gradient of the function to optimize (e.g. the `mse_and_grad`)\n",
    "- `w0`: An inital guess $\\mathbf{w}^{(0)}$\n",
    "- `lr`: The learning rate $(\\alpha)$\n",
    "- `niter`: The number of updates to perform\n",
    "- `*args`: Any additional argumets to pass to `value_and_grad` (e.g. `X` and `y`)\n",
    "\n",
    "The function should return:\n",
    "- `w`: The final guess\n",
    "- `losses`: A list (or array) that tracks the value of the function at each update"
   ]
  },
  {
   "cell_type": "code",
   "execution_count": null,
   "metadata": {},
   "outputs": [],
   "source": [
    "def gradient_descent(value_and_grad, w0, lr, niter, *args):\n",
    "    # Get the inital loss\n",
    "    initial_loss, _ = value_and_grad(w0, *args)\n",
    "    losses = []\n",
    "\n",
    "    ### YOUR CODE HERE\n",
    "\n",
    "    return w, losses"
   ]
  },
  {
   "cell_type": "markdown",
   "metadata": {},
   "source": [
    "## Part 2: Applications to real data\n",
    "\n",
    "Now that we've setup a full implementation of linear regression, let's test it on a real dataset. We'll use the MPG dataset that we saw in class. The following code will load the data and rescale it."
   ]
  },
  {
   "cell_type": "code",
   "execution_count": null,
   "metadata": {},
   "outputs": [],
   "source": [
    "data = np.genfromtxt('auto-mpg.csv', delimiter=',', missing_values=['?'], filling_values=[0])\n",
    "\n",
    "# MPG is the output value\n",
    "target = 'MPG'\n",
    "y = data[:, 0]\n",
    "\n",
    "# The other variables are inputs in the order listed\n",
    "features = ['displacement', 'weight', 'acceleration', 'year']\n",
    "X = data[:, [2, 4, 5, 6]]\n",
    "X = (X - X.mean(axis=0)) / X.std(axis=0)"
   ]
  },
  {
   "cell_type": "markdown",
   "metadata": {},
   "source": [
    "Let's start by fitting a model that just uses the feature `weight`. \n",
    "\n",
    "**Q5:** Use the `gradient_descent` and `mse_and_grad` functions you wrote above to fit a linear regression model that takes in a car's weight and predicts its MPG rating. Start with the weights equal to `0` and perform `100` updates of gradient descent with a learning rate of `0.1`. Plot the loss (MSE) as a function of the number of updates."
   ]
  },
  {
   "cell_type": "code",
   "execution_count": null,
   "metadata": {},
   "outputs": [],
   "source": [
    "Xweight = X[:, 1:2]\n",
    "w0 = np.zeros((2,))\n",
    "\n",
    "### YOUR CODE HERE\n",
    "w, losses = \n",
    "\n",
    "### PLOTTING CODE HERE\n",
    "plt.figure(figsize=(6, 4))"
   ]
  },
  {
   "cell_type": "markdown",
   "metadata": {},
   "source": [
    "**Q6:** Plot a scatterplot of weight vs. MPG. Then on the same plot, plot the prediction function for the linear regression model you just fit on the input range $[-3, 3]$. "
   ]
  },
  {
   "cell_type": "code",
   "execution_count": null,
   "metadata": {},
   "outputs": [],
   "source": [
    "### PLOTTING CODE HERE\n",
    "plt.figure(figsize=(6, 4))"
   ]
  },
  {
   "cell_type": "markdown",
   "metadata": {},
   "source": [
    "**Q7:** Repeat **Q5** using all 4 features and compare the final loss to the final loss using only `weight` as an input. Describe any differences you observe."
   ]
  },
  {
   "cell_type": "code",
   "execution_count": null,
   "metadata": {},
   "outputs": [],
   "source": [
    "w0 = np.zeros((5,))\n",
    "\n",
    "### YOUR CODE HERE\n",
    "w, losses = \n",
    "\n",
    "### PLOTTING CODE HERE\n",
    "plt.figure(figsize=(6, 4))"
   ]
  },
  {
   "cell_type": "markdown",
   "metadata": {},
   "source": [
    "**DESCRIBE RESULTS HERE**"
   ]
  },
  {
   "cell_type": "markdown",
   "metadata": {},
   "source": [
    "In machine learning we are typically less interested in how our model predicts the data we've already seen than we are in how well it makes predictions for *new* data. One way to estimate how well our model our model will generalize to new data is to *hold out* data while fitting our model. To do this we will split our dataset into two smaller datasets: a *training dataset* that we will use to fit our model, and a *test* or *held-out* dataset that we will only use to evaluate our model. By computing the loss on this test dataset, we can get a sense of how well our model will make prediction for new data.\n",
    "\n",
    "$$\\mathcal{D} = \\{ (\\mathbf{x}_1, y_1),\\ (\\mathbf{x}_2, y_2),\\ ... \\,(\\mathbf{x}_N, y_N) \\}\\quad \\longrightarrow \\quad\n",
    "\\mathcal{D}_{train} = \\{ (\\mathbf{x}_1, y_1),\\ (\\mathbf{x}_2, y_2),\\ ... \\,(\\mathbf{x}_{Ntrain}, y_{Ntrain}) \\},\\  \n",
    "\\mathcal{D}_{test} = \\{ (\\mathbf{x}_1, y_1),\\ (\\mathbf{x}_2, y_2),\\ ... \\,(\\mathbf{x}_{Ntest}, y_{Ntest}) \\}\n",
    "$$ \n",
    "\n",
    "**Q8:** Split the MPG dataset into *training* and *test* datasets. Use 70\\% of the observations for training and 30\\% for test. Then repeat **Q5** to fit a linear regression model on *just the training dataset* using only the `weight` feature (you don't need to plot the loss for this question). Report the final loss (MSE) on the training dataset and on the test dataset."
   ]
  },
  {
   "cell_type": "code",
   "execution_count": null,
   "metadata": {},
   "outputs": [],
   "source": [
    "### CODE TO SPLIT DATASET HERE\n",
    "Xweight_train = \n",
    "y_train = \n",
    "\n",
    "Xweight_test = \n",
    "y_test = \n",
    "\n",
    "### CODE TO FIT MODEL HERE\n",
    "w0 = np.zeros((2,))\n",
    "w, losses = \n",
    "\n",
    "### CODE TO EVALUATE MODEL HERE\n",
    "mse_train = \n",
    "mse_test =\n",
    "\n",
    "print('Loss on training data: %.4f, loss on test data: %.4f' % (mse_train, mse_test))"
   ]
  },
  {
   "cell_type": "markdown",
   "metadata": {},
   "source": [
    "**Q9:** Repeat **Q8** using the all 4 features. Compare the results to the model using only `weight`."
   ]
  },
  {
   "cell_type": "code",
   "execution_count": null,
   "metadata": {},
   "outputs": [],
   "source": [
    "### CODE TO SPLIT DATASET HERE\n",
    "X_train = \n",
    "y_train = \n",
    "\n",
    "X_test = \n",
    "y_test = \n",
    "\n",
    "### CODE TO FIT MODEL HERE\n",
    "w0 = np.zeros((5,))\n",
    "w, losses = \n",
    "\n",
    "### CODE TO EVALUATE MODEL HERE\n",
    "mse_train = \n",
    "mse_test =\n",
    "\n",
    "print('Loss on training data: %.4f, loss on test data: %.4f' % (mse_train, mse_test))"
   ]
  },
  {
   "cell_type": "markdown",
   "metadata": {},
   "source": [
    "**DESCRIBE RESULTS HERE**"
   ]
  },
  {
   "cell_type": "markdown",
   "metadata": {},
   "source": [
    "## Part 3: Maximum Likelihood Training\n",
    "\n",
    "### Background:\n",
    "We saw in lecture that we can view linear regression as the following probibalistic model:\n",
    "$$\n",
    "y_i \\sim \\mathcal{N}\\big(\\mathbf{x}_i^T \\mathbf{w},\\ \\sigma^2\\big)\n",
    "$$\n",
    "Where $\\mathcal{N}(\\mu, \\sigma)$ is the *Normal distribution*, which has the following probability density function:\n",
    "$$\n",
    "p(y\\mid \\mu, \\sigma) = \\frac{1}{\\sigma \\sqrt{2 \\pi}} \\text{exp}\\bigg(-\\frac{1}{2\\sigma^2} (y -\\mu)^2\\bigg)\n",
    "$$\n",
    "We saw that a reasonable way to choose the optimal $\\mathbf{w}$ is to *maximize the likelihood* of our observed dataset, which is equivalent to *minimizing the negative log likelihood*:\n",
    "$$\\underset{\\mathbf{w}}{\\text{argmax}} \\prod_{i=1}^N p(y_i\\mid \\mathbf{x}_i, \\mathbf{w}, \\sigma) =\n",
    "\\underset{\\mathbf{w}}{\\text{argmin}} -\\sum_{i=1}^N \\log p(y_i\\mid \\mathbf{x}_i, \\mathbf{w}, \\sigma) = \\underset{\\mathbf{w}}{\\text{argmin}}\\ \\frac{1}{2\\sigma^2}\\sum_{i=1}^N  (y_i -\\mathbf{x}_i^T\\mathbf{w})^2 + C\n",
    "$$\n",
    "Where $C$ is a constant: $C = N \\log \\sigma \\sqrt{2\\pi}$. We further saw that this is equivalent to minimizing the *mean squared error* for any choice of $\\sigma$."
   ]
  },
  {
   "cell_type": "markdown",
   "metadata": {},
   "source": [
    "### Laplace Maximum Likelihood Estimation\n",
    "\n",
    "A natural question about the above model is: why choose the Normal distribution? In principal, we could define a linear model using *any* distribution over the real numbers $\\mathbb{R}$. Let's explore an alternative choice: the *Laplace distribution* ([Wiki](https://en.wikipedia.org/wiki/Laplace_distribution)). The Laplace distribution $L(\\mu, a)$ has the following PDF:\n",
    "\n",
    "$$p(y\\mid \\mu, a) = \\frac{1}{2a} \\exp\\bigg(- \\frac{|y-\\mu|}{a} \\bigg) $$\n",
    "\n",
    "As for the normal distribution $\\mu$ is the mean, while $a$ defines the \"width\" of the distribution (analogous to variance for the Normal). We can compare the two distributions visually:"
   ]
  },
  {
   "cell_type": "code",
   "execution_count": null,
   "metadata": {},
   "outputs": [
    {
     "data": {
      "image/png": "[encoded data removed]",
      "text/plain": [
       "<Figure size 400x300 with 1 Axes>"
      ]
     },
     "metadata": {},
     "output_type": "display_data"
    }
   ],
   "source": [
    "y = np.linspace(-3, 3, 200)\n",
    "mu, sigma2_or_a = 0, 1\n",
    "p_y_normal = (1 / np.sqrt(sigma2_or_a * 2 * np.pi)) * np.exp(- (0.5 / sigma2_or_a) * (y - mu) ** 2)\n",
    "p_y_laplace = (1 / (2 * sigma2_or_a)) * np.exp(- (1 / sigma2_or_a) * np.abs(y - mu))\n",
    "\n",
    "plt.figure(figsize=(4,3))\n",
    "plt.plot(y, p_y_normal, label=r\"Normal PDF\")\n",
    "plt.plot(y, p_y_laplace, label=r\"Laplace PDF\")\n",
    "plt.xlabel('$y$')\n",
    "plt.ylabel('$p(y)$')\n",
    "plt.legend()\n",
    "pass"
   ]
  },
  {
   "cell_type": "markdown",
   "metadata": {},
   "source": [
    "Let's now consider the Laplace version of our probabilistic linear model:\n",
    "$$\n",
    "y_i \\sim L\\big(\\mathbf{x}_i^T \\mathbf{w},\\ a\\big)\n",
    "$$\n",
    "Recall that the negative log-likelihood is defined as:\n",
    "$$\\mathbf{NLL}(\\mathbf{w}, a, \\mathbf{X}, \\mathbf{y}) = -\\sum_{i=1}^N \\log p(y_i\\mid \\mathbf{x}_i, \\mathbf{w}, a)$$\n",
    "\n",
    "**Q10:** Write out the negative log-likelihood for this model in terms of $\\mathbf{w}, a, \\mathbf{X}, y$ using the Laplace PDF shown above."
   ]
  },
  {
   "cell_type": "markdown",
   "metadata": {},
   "source": [
    "**YOUR ANSWER HERE**\n",
    "$$\\mathbf{NLL}(\\mathbf{w}, a, \\mathbf{X}, \\mathbf{y}) = $$ "
   ]
  },
  {
   "cell_type": "markdown",
   "metadata": {},
   "source": [
    "Note that if we drop the constants, we would call this loss the *sum absolute error*."
   ]
  },
  {
   "cell_type": "markdown",
   "metadata": {},
   "source": [
    "**Q11:** Find the gradient with respect to $\\mathbf{w}$ of the negative log-likelihood for this model. *Hint: remember that the gradient is the vector of partial derivatives!*\n",
    "\n",
    "You should use the following definition of the derivative of the absolute value $|\\cdot |$ operator:\n",
    "$$\\frac{d}{dx}|x| = sign(x), \\quad sign(x) = \\begin{cases} +1 \\quad \\text{ if  } x > 0 \\\\ -1 \\quad \\text{ if  } x < 0 \\\\ \\ \\ \\ 0 \\quad \\text{ if  } x = 0 \\end{cases}$$\n",
    "(Technically $\\frac{d}{dx}|x|$ is undefined at $x=0$, but it is convinient to assume $\\frac{d}{dx}|0|=0$ in practice.)"
   ]
  },
  {
   "cell_type": "markdown",
   "metadata": {},
   "source": [
    "**YOUR ANSWER HERE**\n",
    "$$\\nabla_{\\mathbf{w}}\\mathbf{NLL}(\\mathbf{w}, b, \\mathbf{X}, \\mathbf{y}) = $$ "
   ]
  },
  {
   "cell_type": "markdown",
   "metadata": {},
   "source": [
    "**Q12:** Using the formula you just derived, write a function that returns both the negative log-likelihood *and* the gradient of the negative log-likelihood with respect to $\\mathbf{w}$, given $\\mathbf{w}$, $\\mathbf{X}$ and $\\mathbf{y}$ (assume that $a=1$). We'll divide both outputs by $N$ to make our results more comparable to MSE. *Hint: `np.sign` will compute the sign function descibed above.*"
   ]
  },
  {
   "cell_type": "code",
   "execution_count": null,
   "metadata": {},
   "outputs": [],
   "source": [
    "def nll_and_grad(w, X, y):\n",
    "    N = X.shape[0]\n",
    "    ### YOUR CODE HERE\n",
    "\n",
    "    \n",
    "    return nll / N, grad_w / N"
   ]
  },
  {
   "cell_type": "markdown",
   "metadata": {},
   "source": [
    "**Q13:** Use the `gradient_descent` and `nll_and_grad` functions you wrote above to fit a linear regression model that takes in a car's weight and predicts its MPG rating. Start with the weights equal to `0` and perform `100` updates of gradient descent with a learning rate of `1.0`. Plot the loss (NLL) as a function of the number of updates. *Use the full dataset as in **Q5** and note the change in learning rate!*"
   ]
  },
  {
   "cell_type": "code",
   "execution_count": null,
   "metadata": {},
   "outputs": [],
   "source": [
    "Xweight = X[:, 1:2]\n",
    "w0 = np.zeros((2,))\n",
    "\n",
    "### YOUR CODE HERE\n",
    "w_laplace, losses_laplace = \n",
    "\n",
    "### PLOTTING CODE HERE\n",
    "plt.figure(figsize=(6, 4))"
   ]
  },
  {
   "cell_type": "markdown",
   "metadata": {},
   "source": [
    "**Q14:** Plot a scatterplot of weight vs. MPG. Then on the same plot, plot the prediction function for the linear regression model you just fit on the input range $[-3, 3]$. Finally, copy your code from **Q5** to once again find the optimal $\\mathbf{w}$ using the MSE loss and plot this function on the same plot in a different color. Describe any differences you see between the two models"
   ]
  },
  {
   "cell_type": "code",
   "execution_count": null,
   "metadata": {},
   "outputs": [],
   "source": [
    "### CODE FROM Q5 HERE\n",
    "w_mse, losses_mse = \n",
    "\n",
    "### PLOTTING CODE HERE\n",
    "plt.figure(figsize=(6, 4))"
   ]
  },
  {
   "cell_type": "markdown",
   "metadata": {},
   "source": [
    "**WRITTEN ANSWER HERE**"
   ]
  },
  {
   "cell_type": "markdown",
   "metadata": {},
   "source": [
    "**Q15:** Using the parameters that you just found, plot the Laplace NLL loss as a function of the first entry in `w` (`w1` below), holding the other (the bias) constant. Plot this loss on the range $[-10, 0]$. Then, in a separate cell, plot the MSE loss as a function of the first entry in `w` on the same range."
   ]
  },
  {
   "cell_type": "code",
   "execution_count": null,
   "metadata": {},
   "outputs": [],
   "source": [
    "# Example of deconstructing and reconstructing the parameter vector.\n",
    "w1, b = w\n",
    "wi = np.array([w1, b])\n",
    "\n",
    "### PLOTTING CODE FOR NLL HERE\n",
    "plt.figure(figsize=(6, 4))"
   ]
  },
  {
   "cell_type": "code",
   "execution_count": null,
   "metadata": {},
   "outputs": [],
   "source": [
    "### PLOTTING CODE FOR MSE HERE\n",
    "plt.figure(figsize=(6, 4))"
   ]
  },
  {
   "cell_type": "markdown",
   "metadata": {},
   "source": [
    "In the cells below, copy your code for **Q5** and **Q13**. Try out different learning rates and and numbers of iterations. Observe what happens to the loss plot in each case."
   ]
  },
  {
   "cell_type": "code",
   "execution_count": null,
   "metadata": {},
   "outputs": [],
   "source": [
    "### COPY Q5 CODE HERE"
   ]
  },
  {
   "cell_type": "code",
   "execution_count": null,
   "metadata": {},
   "outputs": [],
   "source": [
    "### COPY Q13 CODE HERE"
   ]
  },
  {
   "cell_type": "markdown",
   "metadata": {},
   "source": [
    "**Q16:** Based on what you've obsevered above and in the previous questions, why might you choose the Normal distribution or the Laplace distribution for linear regression? What effect does the learning rate have (what happens if it's set too high or too low)?"
   ]
  },
  {
   "cell_type": "markdown",
   "metadata": {},
   "source": [
    "**YOUR ANSWER HERE**"
   ]
  }
 ],
 "metadata": {
  "kernelspec": {
   "display_name": ".venv",
   "language": "python",
   "name": "python3"
  },
  "language_info": {
   "codemirror_mode": {
    "name": "ipython",
    "version": 3
   },
   "file_extension": ".py",
   "mimetype": "text/x-python",
   "name": "python",
   "nbconvert_exporter": "python",
   "pygments_lexer": "ipython3",
   "version": "3.9.6"
  },
  "orig_nbformat": 4
 },
 "nbformat": 4,
 "nbformat_minor": 2
}
