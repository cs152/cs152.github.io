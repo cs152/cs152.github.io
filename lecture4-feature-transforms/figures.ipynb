{
 "cells": [
  {
   "cell_type": "code",
   "execution_count": 1,
   "metadata": {},
   "outputs": [
    {
     "data": {
      "text/html": [
       "<pre style=\"white-space:pre;overflow-x:auto;line-height:normal;font-family:Menlo,'DejaVu Sans Mono',consolas,'Courier New',monospace\">Manim Community <span style=\"color: #008000; text-decoration-color: #008000\">v0.17.3</span>\n",
       "\n",
       "</pre>\n"
      ],
      "text/plain": [
       "Manim Community \u001b[32mv0.\u001b[0m\u001b[32m17.3\u001b[0m\n",
       "\n"
      ]
     },
     "metadata": {},
     "output_type": "display_data"
    }
   ],
   "source": [
    "import warnings\n",
    "warnings.filterwarnings(\"ignore\")\n",
    "from manim import *\n",
    "import autograd.numpy as np\n",
    "\n",
    "\n",
    "class LectureScene(Scene):\n",
    "    def __init__(self, *args, **kwargs):\n",
    "        super().__init__(*args, **kwargs)\n",
    "        self.camera.background_color = \"#ffffff\"\n",
    "        self.template = TexTemplate()\n",
    "        self.template.add_to_preamble(r\"\\usepackage{amsmath}\")\n",
    "\n",
    "class ThreeDLectureScene(ThreeDScene):\n",
    "    def __init__(self, *args, **kwargs):\n",
    "        super().__init__(*args, **kwargs)\n",
    "        self.camera.background_color = \"#ffffff\"\n",
    "        self.template = TexTemplate()\n",
    "        self.template.add_to_preamble(r\"\\usepackage{amsmath}\")\n",
    "    \n",
    "\n",
    "class VectorScene(LectureScene):\n",
    "    def __init__(self, *args, **kwargs):\n",
    "        super().__init__(*args, **kwargs)\n",
    "        self.ax = Axes(\n",
    "            x_range=[-7.5, 7.5, 1],\n",
    "            y_range=[-5, 5, 1],\n",
    "            x_length=12,\n",
    "            y_length=8,\n",
    "            axis_config={\"color\": GREY},\n",
    "        )\n",
    "        \n",
    "        #axes_labels.set_color(GREY)\n",
    "        self.add(self.ax)\n",
    "\n",
    "class PositiveVectorScene(LectureScene):\n",
    "    def __init__(self, *args, **kwargs):\n",
    "        super().__init__(*args, **kwargs)\n",
    "        self.ax = Axes(\n",
    "            x_range=[-2.5, 12.5, 1],\n",
    "            y_range=[-1, 9, 1],\n",
    "            x_length=12,\n",
    "            y_length=8,\n",
    "            axis_config={\"color\": GREY},\n",
    "        )\n",
    "                #axes_labels.set_color(GREY)\n",
    "        self.add(self.ax)\n",
    "\n",
    "class ComparisonVectorScene(LectureScene):\n",
    "    def __init__(self, *args, **kwargs):\n",
    "        super().__init__(*args, **kwargs)\n",
    "        self.ax1 = Axes(\n",
    "            x_range=[-5, 5, 1],\n",
    "            y_range=[-5, 5, 1],\n",
    "            x_length=6,\n",
    "            y_length=6,\n",
    "            axis_config={\"color\": GREY},\n",
    "        )\n",
    "        self.ax2 = Axes(\n",
    "            x_range=[-5, 5, 1],\n",
    "            y_range=[-5, 5, 1],\n",
    "            x_length=6,\n",
    "            y_length=6,\n",
    "            axis_config={\"color\": GREY},\n",
    "        )\n",
    "        axgroup = Group(self.ax1, self.ax2)\n",
    "        axgroup.arrange_in_grid(buf=2)\n",
    "        \n",
    "\n",
    "        #axes_labels.set_color(GREY)\n",
    "        self.add(axgroup)"
   ]
  },
  {
   "cell_type": "code",
   "execution_count": null,
   "metadata": {},
   "outputs": [],
   "source": []
  }
 ],
 "metadata": {
  "kernelspec": {
   "display_name": ".venv",
   "language": "python",
   "name": "python3"
  },
  "language_info": {
   "codemirror_mode": {
    "name": "ipython",
    "version": 3
   },
   "file_extension": ".py",
   "mimetype": "text/x-python",
   "name": "python",
   "nbconvert_exporter": "python",
   "pygments_lexer": "ipython3",
   "version": "3.9.6"
  },
  "orig_nbformat": 4
 },
 "nbformat": 4,
 "nbformat_minor": 2
}
