{
 "cells": [
  {
   "cell_type": "markdown",
   "metadata": {
    "id": "Hc3Pjf1Q5Lx5"
   },
   "source": [
    "# **Homework 1**: Introduction to Numpy"
   ]
  },
  {
   "cell_type": "markdown",
   "metadata": {},
   "source": [
    "### Name"
   ]
  },
  {
   "cell_type": "markdown",
   "metadata": {},
   "source": [
    "YOUR NAME HERE"
   ]
  },
  {
   "cell_type": "markdown",
   "metadata": {},
   "source": [
    "### Collaborators\n",
    "\n",
    "Please list anyone you discussed or collaborated on this assignment with below."
   ]
  },
  {
   "cell_type": "markdown",
   "metadata": {},
   "source": [
    "LIST COLLABORATORS HERE"
   ]
  },
  {
   "cell_type": "markdown",
   "metadata": {},
   "source": [
    "### Course feedback\n",
    "\n",
    "Please submit this week's course survey here: https://forms.gle/ELjvh2PK7iiAHbaC8"
   ]
  },
  {
   "cell_type": "markdown",
   "metadata": {},
   "source": [
    "### Convert to PDF\n",
    "\n",
    "Please convert this notebook to PDF for submission to Gradescope using this tool: https://blank-app-ufu2uvdeosc.streamlit.app/"
   ]
  },
  {
   "cell_type": "markdown",
   "metadata": {
    "id": "SjZuU38i5Lx5"
   },
   "source": [
    "### Python setup"
   ]
  },
  {
   "cell_type": "code",
   "execution_count": 2,
   "metadata": {
    "executionInfo": {
     "elapsed": 7412,
     "status": "ok",
     "timestamp": 1733438752928,
     "user": {
      "displayName": "Gabriel Hope",
      "userId": "02289172270257728733"
     },
     "user_tz": 480
    },
    "id": "ezNQ6nrN5Lx6"
   },
   "outputs": [],
   "source": [
    "# Run me first!\n",
    "import numpy as np\n",
    "import matplotlib.pyplot as plt\n",
    "import seaborn as sns\n",
    "sns.set_style('darkgrid')"
   ]
  },
  {
   "cell_type": "markdown",
   "metadata": {
    "id": "wbFSaYJO5Lx6"
   },
   "source": [
    "<div style=\"page-break-after: always; visibility: hidden\"> \n",
    "\\pagebreak \n",
    "</div>\n",
    "\n",
    "#### **Q1** "
   ]
  },
  {
   "cell_type": "markdown",
   "metadata": {
    "id": "Wez17xo05Lx6",
    "tags": [
     "Q1"
    ]
   },
   "source": [
    "WRITE ANSWER HERE"
   ]
  },
  {
   "cell_type": "markdown",
   "metadata": {
    "id": "ur6mO9CL5Lx8"
   },
   "source": [
    "<div style=\"page-break-after: always; visibility: hidden\"> \n",
    "\\pagebreak \n",
    "</div>\n",
    "\n",
    "#### **Q2** "
   ]
  },
  {
   "cell_type": "code",
   "execution_count": null,
   "metadata": {
    "id": "FG-7gq3F5Lx8"
   },
   "outputs": [],
   "source": [
    "# Fill answers here\n",
    "A =\n",
    "x =\n",
    "b =\n",
    "\n",
    "print(b)"
   ]
  },
  {
   "cell_type": "markdown",
   "metadata": {
    "id": "hwbvi_ss5Lx8"
   },
   "source": [
    "<div style=\"page-break-after: always; visibility: hidden\"> \n",
    "\\pagebreak \n",
    "</div>\n",
    "\n",
    "#### **Q3** "
   ]
  },
  {
   "cell_type": "code",
   "execution_count": null,
   "metadata": {
    "id": "cX-8ZurW5Lx9"
   },
   "outputs": [],
   "source": [
    "# Fill answer here (A is the same matrix from above)\n",
    "b =\n",
    "x =\n"
   ]
  },
  {
   "cell_type": "markdown",
   "metadata": {
    "id": "vZkv18405Lx9"
   },
   "source": [
    "<div style=\"page-break-after: always; visibility: hidden\"> \n",
    "\\pagebreak \n",
    "</div>\n",
    "\n",
    "#### **Q4** "
   ]
  },
  {
   "cell_type": "code",
   "execution_count": null,
   "metadata": {
    "id": "6LW8LEBM5Lx9"
   },
   "outputs": [],
   "source": [
    "# Fill in function below\n",
    "def step(x_guess, A, b, omega=0.1):\n",
    "\n",
    "    return new_x_guess\n",
    "\n",
    "x_guess = np.zeros(3)\n",
    "for i in range(100):\n",
    "    x_guess = step(x_guess, A, b)\n",
    "\n",
    "print(x_guess, x)"
   ]
  },
  {
   "cell_type": "markdown",
   "metadata": {
    "id": "mQxDs4q-5Lx9"
   },
   "source": [
    "<div style=\"page-break-after: always; visibility: hidden\"> \n",
    "\\pagebreak \n",
    "</div>\n",
    "\n",
    "#### **Q5** "
   ]
  },
  {
   "cell_type": "code",
   "execution_count": null,
   "metadata": {
    "id": "7Y3TAlT95Lx9"
   },
   "outputs": [],
   "source": [
    "# Fill in function below\n",
    "def error(x_guess, A, b):\n",
    "\n",
    "    return err\n",
    "\n",
    "# Add code to plot the error over time\n",
    "\n",
    "x_guess = np.zeros(3)\n",
    "for step in range(100):\n",
    "\n",
    "    x_guess = step(x_guess, A, b)\n",
    "\n"
   ]
  },
  {
   "cell_type": "markdown",
   "metadata": {
    "id": "RmDbEPzM5Lx9"
   },
   "source": [
    "<div style=\"page-break-after: always; visibility: hidden\"> \n",
    "\\pagebreak \n",
    "</div>\n",
    "\n",
    "#### **Q6** "
   ]
  },
  {
   "cell_type": "markdown",
   "metadata": {
    "id": "tTjEGAem5Lx9"
   },
   "source": [
    "**EDIT THIS CELL WITH YOUR ANSWER**\n",
    "\n",
    "$$\\frac{\\partial e^{(k)}}{\\partial x^{(k)}_1}= $$"
   ]
  },
  {
   "cell_type": "markdown",
   "metadata": {
    "id": "hJQaiMXP5Lx9"
   },
   "source": [
    "**YOU MAY ADD WORK HERE**\n"
   ]
  },
  {
   "cell_type": "markdown",
   "metadata": {
    "id": "krQgiqGf5Lx9"
   },
   "source": [
    "<div style=\"page-break-after: always; visibility: hidden\"> \n",
    "\\pagebreak \n",
    "</div>\n",
    "\n",
    "#### **Q7** "
   ]
  },
  {
   "cell_type": "markdown",
   "metadata": {
    "id": "R8dTWcWr5Lx9"
   },
   "source": [
    "**EDIT THIS CELL WITH YOUR ANSWER**\n",
    "\n",
    "$$\\frac{\\partial e^{(k)}}{\\partial \\mathbf{x}^{(k)}}= $$"
   ]
  },
  {
   "cell_type": "markdown",
   "metadata": {
    "id": "eN6pcpoX5Lx9"
   },
   "source": [
    "<div style=\"page-break-after: always; visibility: hidden\"> \n",
    "\\pagebreak \n",
    "</div>\n",
    "\n",
    "#### **Q8** "
   ]
  },
  {
   "cell_type": "markdown",
   "metadata": {
    "id": "MnaZU2CR5Lx9"
   },
   "source": [
    "WRITE YOUR ANSWER HERE"
   ]
  },
  {
   "cell_type": "markdown",
   "metadata": {
    "id": "skr5wjyd5Lx-"
   },
   "source": [
    "<div style=\"page-break-after: always; visibility: hidden\"> \n",
    "\\pagebreak \n",
    "</div>\n",
    "\n",
    "#### **Q9** "
   ]
  },
  {
   "cell_type": "code",
   "execution_count": null,
   "metadata": {
    "id": "WzTbsXlZ5Lx-"
   },
   "outputs": [],
   "source": [
    "# Fill in code here\n",
    "x_col =\n",
    "x_row ="
   ]
  },
  {
   "cell_type": "markdown",
   "metadata": {
    "id": "u2g6HWNN_Dmy"
   },
   "source": [
    "<div style=\"page-break-after: always; visibility: hidden\"> \n",
    "\\pagebreak \n",
    "</div>\n",
    "\n",
    "#### **Q10** "
   ]
  },
  {
   "cell_type": "code",
   "execution_count": null,
   "metadata": {
    "colab": {
     "base_uri": "https://localhost:8080/"
    },
    "executionInfo": {
     "elapsed": 516,
     "status": "ok",
     "timestamp": 1733439058698,
     "user": {
      "displayName": "Gabriel Hope",
      "userId": "02289172270257728733"
     },
     "user_tz": 480
    },
    "id": "f_I7SIPK_8s8",
    "outputId": "1ce3fabf-d440-4757-d717-1edfae62ca4b"
   },
   "outputs": [],
   "source": [
    "ones = np.ones((3, 3))\n",
    "x = np.array([1, -2, 1])"
   ]
  },
  {
   "cell_type": "code",
   "execution_count": null,
   "metadata": {
    "id": "HSPOfqSaBfEH"
   },
   "outputs": [],
   "source": [
    "# Fill in code here\n",
    "\n",
    "ones OPERATION x.reshape( SHAPE )"
   ]
  },
  {
   "cell_type": "markdown",
   "metadata": {
    "id": "zBMLlCyK5Lx-"
   },
   "source": [
    "<div style=\"page-break-after: always; visibility: hidden\"> \n",
    "\\pagebreak \n",
    "</div>\n",
    "\n",
    "#### **Q11** "
   ]
  },
  {
   "cell_type": "code",
   "execution_count": null,
   "metadata": {
    "id": "avSLz7lW5Lx-"
   },
   "outputs": [],
   "source": [
    "# Fill code here\n",
    "\n",
    "X =\n",
    "print(X)"
   ]
  },
  {
   "cell_type": "markdown",
   "metadata": {
    "id": "mBf2wx_Y5Lx-"
   },
   "source": [
    "<div style=\"page-break-after: always; visibility: hidden\"> \n",
    "\\pagebreak \n",
    "</div>\n",
    "\n",
    "#### **Q12** "
   ]
  },
  {
   "cell_type": "code",
   "execution_count": null,
   "metadata": {
    "id": "CqtN-ie65Lx-"
   },
   "outputs": [],
   "source": [
    "theta = np.linspace(0, 2 * np.pi, 20) # Generates 20 evenly-spaced numbers between 0 and 2π\n",
    "\n",
    "# Fill in your code here\n",
    "circle =\n"
   ]
  },
  {
   "cell_type": "markdown",
   "metadata": {
    "id": "teAKNSOF5Lx-"
   },
   "source": [
    "<div style=\"page-break-after: always; visibility: hidden\"> \n",
    "\\pagebreak \n",
    "</div>\n",
    "\n",
    "#### **Q13** "
   ]
  },
  {
   "cell_type": "code",
   "execution_count": null,
   "metadata": {
    "id": "9ZtWVA285Lx-"
   },
   "outputs": [],
   "source": [
    "plt.figure(figsize=(4, 4))\n",
    "plt.xlim(-3, 3)\n",
    "plt.ylim(-3, 3)\n",
    "\n",
    "# Fill your code here\n"
   ]
  },
  {
   "cell_type": "markdown",
   "metadata": {
    "id": "8Si2uh0N5Lx-"
   },
   "source": [
    "<div style=\"page-break-after: always; visibility: hidden\"> \n",
    "\\pagebreak \n",
    "</div>\n",
    "\n",
    "#### **Q14** "
   ]
  },
  {
   "cell_type": "code",
   "execution_count": null,
   "metadata": {
    "id": "82ZI06lW5Lx_"
   },
   "outputs": [],
   "source": [
    "# Fill your code here\n",
    "transformed_circle ="
   ]
  },
  {
   "cell_type": "code",
   "execution_count": null,
   "metadata": {
    "id": "2EJu_FKL5Lx_"
   },
   "outputs": [],
   "source": [
    "plt.figure(figsize=(4, 4))\n",
    "plt.xlim(-3, 3)\n",
    "plt.ylim(-3, 3)\n",
    "\n",
    "# Fill your code here\n"
   ]
  },
  {
   "cell_type": "markdown",
   "metadata": {
    "id": "JH6nIeTkDXmV"
   },
   "source": [
    "<div style=\"page-break-after: always; visibility: hidden\"> \n",
    "\\pagebreak \n",
    "</div>\n",
    "\n",
    "#### **Q15** "
   ]
  },
  {
   "cell_type": "code",
   "execution_count": null,
   "metadata": {
    "id": "k8Ui2G2-Dywp"
   },
   "outputs": [],
   "source": [
    "# Fill your code here\n",
    "b = np.array([-0.5, 1.2, 0])\n",
    "transformed_circle ="
   ]
  },
  {
   "cell_type": "code",
   "execution_count": null,
   "metadata": {
    "id": "7BhOmrLiDXT0"
   },
   "outputs": [],
   "source": [
    "plt.figure(figsize=(4, 4))\n",
    "plt.xlim(-10, 10)\n",
    "plt.ylim(-10, 10)\n",
    "\n",
    "# Fill your code here"
   ]
  },
  {
   "cell_type": "markdown",
   "metadata": {
    "id": "4Cn03mNTHWnM"
   },
   "source": [
    "<div style=\"page-break-after: always; visibility: hidden\"> \n",
    "\\pagebreak \n",
    "</div>\n",
    "\n",
    "#### **Q16** "
   ]
  },
  {
   "cell_type": "code",
   "execution_count": null,
   "metadata": {
    "id": "PWH_ZfeLHV9W"
   },
   "outputs": [],
   "source": [
    "import sklearn.datasets as datasets\n",
    "dataset = datasets.load_iris()\n",
    "features = dataset['data']\n",
    "targets = dataset['target']\n",
    "feature_names = dataset['feature_names']\n",
    "target_names = dataset['target_names']\n",
    "\n",
    "# Write any code to determine the number of observations here"
   ]
  },
  {
   "cell_type": "code",
   "execution_count": 6,
   "metadata": {
    "executionInfo": {
     "elapsed": 885,
     "status": "ok",
     "timestamp": 1733440667394,
     "user": {
      "displayName": "Gabriel Hope",
      "userId": "02289172270257728733"
     },
     "user_tz": 480
    },
    "id": "qAViXC6a5Lx_"
   },
   "outputs": [],
   "source": [
    "# Fill your code here\n",
    "\n",
    "plt.figure(figsize=(4, 4))\n"
   ]
  }
 ],
 "metadata": {
  "colab": {
   "provenance": []
  },
  "kernelspec": {
   "display_name": ".venv",
   "language": "python",
   "name": "python3"
  },
  "language_info": {
   "codemirror_mode": {
    "name": "ipython",
    "version": 3
   },
   "file_extension": ".py",
   "mimetype": "text/x-python",
   "name": "python",
   "nbconvert_exporter": "python",
   "pygments_lexer": "ipython3",
   "version": "3.12.6"
  },
  "orig_nbformat": 4
 },
 "nbformat": 4,
 "nbformat_minor": 0
}
